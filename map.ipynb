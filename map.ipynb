{
 "cells": [
  {
   "cell_type": "code",
   "execution_count": null,
   "metadata": {
    "tags": []
   },
   "outputs": [],
   "source": [
    "import folium\n",
    "import pandas as pd\n",
    "from geopy.geocoders import Nominatim\n",
    "from tqdm import tqdm\n",
    "import branca\n",
    "import geopandas as gpd\n",
    "import json\n",
    "\n",
    "from folium import plugins\n",
    "from folium.plugins import HeatMap, MarkerCluster"
   ]
  },
  {
   "cell_type": "code",
   "execution_count": null,
   "metadata": {
    "tags": []
   },
   "outputs": [],
   "source": [
    "def zip_to_coords(zip):\n",
    "    postal_code = zip\n",
    "    geolocator = Nominatim(user_agent=\"dimkoss app\") # Replace \"my-app-name\" with your own user agent name\n",
    "    location = geolocator.geocode(str(postal_code)+\", Russia\")\n",
    "    if location is not None:\n",
    "        latitude = location.latitude\n",
    "        longitude = location.longitude\n",
    "    else:\n",
    "        return None, None\n",
    "    return latitude, longitude"
   ]
  },
  {
   "cell_type": "code",
   "execution_count": null,
   "metadata": {
    "tags": []
   },
   "outputs": [],
   "source": [
    "points = pd.read_csv('data/Справочник торговых точек.csv')\n",
    "points['postal_code'] = points['postal_code'].fillna(0).astype(int)"
   ]
  },
  {
   "cell_type": "code",
   "execution_count": null,
   "metadata": {
    "tags": []
   },
   "outputs": [],
   "source": [
    "coords = []\n",
    "batch_zips = points['postal_code'][0:80]\n",
    "for zip_ in tqdm(batch_zips):\n",
    "    ll = zip_to_coords(zip_)\n",
    "    if ll[0] is not None and ll[1] is not None:\n",
    "        coords.append(ll)"
   ]
  },
  {
   "cell_type": "code",
   "execution_count": null,
   "metadata": {
    "tags": []
   },
   "outputs": [],
   "source": [
    "# def popup_html(row):\n",
    "#     i = row\n",
    "#     institution_name= 'Name' #df['INSTNM'].iloc[i] \n",
    "#     institution_url= 'URL' #df['URL'].iloc[i]\n",
    "#     institution_type = 'type'  #df['CONTROL'].iloc[i] \n",
    "#     highest_degree = 'degree'  #df['HIGHDEG'].iloc[i] \n",
    "#     city_state = 'state' # df['CITY'].iloc[i] +\", \"+ df['STABBR'].iloc[i]                     \n",
    "#     admission_rate = 'arte' #df['ADM_RATE'].iloc[i]\n",
    "#     cost = 1000 #df['COSTT4_A'].iloc[i]\n",
    "#     instate_tuit ='0' #df['TUITIONFEE_IN'].iloc[i]\n",
    "#     outstate_tuit = '0' #df['TUITIONFEE_OUT'].iloc[i]\n",
    "\n",
    "#     left_col_color = \"#19a7bd\"\n",
    "#     right_col_color = \"#f2f0d3\"\n",
    "    \n",
    "#     html = \"\"\"<!DOCTYPE html>\n",
    "# <html>\n",
    "# <head>\n",
    "# <h4 style=\"margin-bottom:10\"; width=\"200px\">{}</h4>\"\"\".format(institution_name) + \"\"\"\n",
    "# </head>\n",
    "#     <table style=\"height: 126px; width: 350px;\">\n",
    "# <tbody>\n",
    "# <tr>\n",
    "# <td style=\"background-color: \"\"\"+ left_col_color +\"\"\";\"><span style=\"color: #ffffff;\">Institution Type</span></td>\n",
    "# <td style=\"width: 150px;background-color: \"\"\"+ right_col_color +\"\"\";\">{}</td>\"\"\".format(institution_type) + \"\"\"\n",
    "# </tr>\n",
    "# <tr>\n",
    "# <td style=\"background-color: \"\"\"+ left_col_color +\"\"\";\"><span style=\"color: #ffffff;\">Institution URL</span></td>\n",
    "# <td style=\"width: 150px;background-color: \"\"\"+ right_col_color +\"\"\";\">{}</td>\"\"\".format(institution_url) + \"\"\"\n",
    "# </tr>\n",
    "# <tr>\n",
    "# <td style=\"background-color: \"\"\"+ left_col_color +\"\"\";\"><span style=\"color: #ffffff;\">City and State</span></td>\n",
    "# <td style=\"width: 150px;background-color: \"\"\"+ right_col_color +\"\"\";\">{}</td>\"\"\".format(city_state) + \"\"\"\n",
    "# </tr>\n",
    "# <tr>\n",
    "# <td style=\"background-color: \"\"\"+ left_col_color +\"\"\";\"><span style=\"color: #ffffff;\">Highest Degree Awarded</span></td>\n",
    "# <td style=\"width: 150px;background-color: \"\"\"+ right_col_color +\"\"\";\">{}</td>\"\"\".format(highest_degree) + \"\"\"\n",
    "# </tr>\n",
    "# <tr>\n",
    "# <td style=\"background-color: \"\"\"+ left_col_color +\"\"\";\"><span style=\"color: #ffffff;\">Admission Rate</span></td>\n",
    "# <td style=\"width: 150px;background-color: \"\"\"+ right_col_color +\"\"\";\">{}</td>\"\"\".format(admission_rate) + \"\"\"\n",
    "# </tr>\n",
    "# <tr>\n",
    "# <td style=\"background-color: \"\"\"+ left_col_color +\"\"\";\"><span style=\"color: #ffffff;\">Annual Cost of Attendance $</span></td>\n",
    "# <td style=\"width: 150px;background-color: \"\"\"+ right_col_color +\"\"\";\">{}</td>\"\"\".format(cost) + \"\"\"\n",
    "# </tr>\n",
    "# <tr>\n",
    "# <td style=\"background-color: \"\"\"+ left_col_color +\"\"\";\"><span style=\"color: #ffffff;\">In-state Tuition $</span></td>\n",
    "# <td style=\"width: 150px;background-color: \"\"\"+ right_col_color +\"\"\";\">{}</td>\"\"\".format(instate_tuit) + \"\"\"\n",
    "# </tr>\n",
    "# <tr>\n",
    "# <td style=\"background-color: \"\"\"+ left_col_color +\"\"\";\"><span style=\"color: #ffffff;\">Out-of-state Tuition $</span></td>\n",
    "# <td style=\"width: 150px;background-color: \"\"\"+ right_col_color +\"\"\";\">{}</td>\"\"\".format(outstate_tuit) + \"\"\"\n",
    "# </tr>\n",
    "# </tbody>\n",
    "# </table>\n",
    "# </html>\n",
    "# \"\"\"\n",
    "#     return html\n",
    "\n",
    "# html = popup_html(0) # i\n",
    "# iframe = branca.element.IFrame(html=html,width=510,height=280)\n",
    "# popup = folium.Popup(folium.Html(html, script=True), max_width=500)"
   ]
  },
  {
   "cell_type": "code",
   "execution_count": null,
   "metadata": {
    "tags": []
   },
   "outputs": [],
   "source": [
    "tooltip = \"Click me!\"\n",
    "m = folium.Map(location=[55.0, 73.0])\n",
    "for item in coords:\n",
    "    folium.Marker(\n",
    "        [item[0], item[1]], popup=\"some data\", tooltip=tooltip\n",
    "    ).add_to(m)"
   ]
  },
  {
   "cell_type": "code",
   "execution_count": null,
   "metadata": {
    "tags": []
   },
   "outputs": [],
   "source": [
    "# lat = [item[0] for item in coords]\n",
    "# lon = [item[1] for item in coords]\n",
    "HeatMap(coords).add_to(m)\n",
    "m"
   ]
  },
  {
   "cell_type": "code",
   "execution_count": null,
   "metadata": {
    "tags": []
   },
   "outputs": [],
   "source": [
    "import folium\n",
    "import json\n",
    "\n",
    "# read in the GeoJSON file containing the boundaries of the Russian regions\n",
    "with open('Russia_regions.geojson', 'r', encoding='utf8') as f:\n",
    "    geojson_data = json.load(f)\n",
    "\n",
    "# create a map object centered on Russia\n",
    "map_ = folium.Map(location=[55.76, 37.64], zoom_start=4)\n",
    "\n",
    "# create a Choropleth layer using the GeoJSON data\n",
    "choropleth = folium.Choropleth(\n",
    "    geo_data=geojson_data,\n",
    "    fill_color='YlGn',\n",
    "    fill_opacity=0.7,\n",
    "    line_opacity=0.2,\n",
    "    key_on='feature.properties.NAME',\n",
    "    legend_name='Population',\n",
    "    highlight=True,\n",
    "    name='Population'\n",
    ").add_to(map_)\n",
    "\n",
    "# add a LayerControl object to the map to allow toggling of the Choropleth layer\n",
    "folium.LayerControl().add_to(map_)\n",
    "\n",
    "# display the map\n",
    "map_"
   ]
  },
  {
   "cell_type": "code",
   "execution_count": null,
   "metadata": {},
   "outputs": [],
   "source": [
    "import folium\n",
    "import pandas as pd\n",
    "\n",
    "# create a map object\n",
    "map_ = folium.Map(location=[51.5074, -0.1278], zoom_start=12)\n",
    "\n",
    "# create a sample pandas dataframe\n",
    "data = {'Name': ['John', 'Jane', 'Bob'],\n",
    "        'Age': [25, 30, 35],\n",
    "        'City': ['London', 'Paris', 'New York']}\n",
    "df = pd.DataFrame(data)\n",
    "\n",
    "# create an HTML table from the pandas dataframe\n",
    "table = df.to_html()\n",
    "\n",
    "# create a popup object with the HTML table\n",
    "popup = folium.Popup(table, max_width=2650)\n",
    "\n",
    "# create a marker object with the popup\n",
    "marker = folium.Marker(location=[51.5074, -0.1278], popup=popup)\n",
    "\n",
    "# add the marker to the map\n",
    "marker.add_to(map_)\n",
    "\n",
    "# display the map\n",
    "map_"
   ]
  },
  {
   "cell_type": "code",
   "execution_count": null,
   "metadata": {
    "tags": []
   },
   "outputs": [],
   "source": [
    "with open('./admin_level_4.geojson', 'r') as f:\n",
    "    json_data = json.load(f)\n",
    "    \n",
    "ids_regions = []\n",
    "for item in json_data['features']:\n",
    "    ids_regions.append((item['id'], item['name']))\n",
    "ids_regions_df = pd.DataFrame(ids_regions, columns=['REGION_ID', 'name'])"
   ]
  },
  {
   "cell_type": "code",
   "execution_count": null,
   "metadata": {
    "tags": []
   },
   "outputs": [],
   "source": [
    "m = folium.Map(location=[63.391522, 96.328125], zoom_start=3)\n",
    "data_df = pd.DataFrame({'REGION_ID': ids_regions_df['REGION_ID'], 'share': list(map(lambda x: x * 15.5, list(range(1, 89))))})\n",
    "\n",
    "rel_ = folium.Choropleth(\n",
    "       geo_data = './admin_level_4.geojson', \n",
    "       name = 'Имя',\n",
    "       data = data_df,\n",
    "       columns=['REGION_ID', 'share'], \n",
    "       key_on='id',\n",
    "       bins = 10,\n",
    "       fill_color='BuGn',\n",
    "       nan_fill_color='darkblue',\n",
    "       nan_fill_opacity=0.5,\n",
    "       fill_opacity=0.7,\n",
    "       line_opacity=0.2,\n",
    "       legend_name= 'Легенда',\n",
    "       highlight = True,\n",
    "       show = False\n",
    ")\n",
    "\n",
    "rel_.add_to(m)\n",
    "\n",
    "for i, s in enumerate(rel_.geojson.data['features']):\n",
    "    s['properties']['region_name'] = ids_regions_df.loc[i, 'name']\n",
    "    s['properties']['shares'] = data_df.loc[i, 'share']\n",
    "\n",
    "folium.GeoJsonTooltip(['name', 'region_name', 'shares']).add_to(rel_.geojson)\n",
    "folium.GeoJsonPopup(['name', 'region_name', 'shares']).add_to(rel_.geojson)\n",
    "\n",
    "# feature_group_EBS = folium.FeatureGroup(name = 'Филиалы с регистрацией ЕБС', \n",
    "# show = False)\n",
    "# feature_group_nonEBS = folium.FeatureGroup(name = 'Филиалы без регистрации ЕБС', \n",
    "# show = False)\n",
    "\n",
    "# from folium.plugins import MarkerCluster\n",
    "# marker_cluster_EBS = MarkerCluster(name = ' cluster_ EBS ', \n",
    "#                                    popups = 'Филиалы с регистрацией ЕБС ', \n",
    "#                                    show = False, )\n",
    "#                                    # icon_create_function=icon_green)\n",
    "# marker_cluster_nonEBS = MarkerCluster(name = ' cluster_nonEBS ', \n",
    "#                                    popups = 'Филиалы без регистрации ЕБС ', \n",
    "#                                    show = False, )\n",
    "#                                    # icon_create_function = icon_red)\n",
    "\n",
    "# for lt, ln, filial_name  in zip(latitude_EBS, longitude_EBS, name_EBS):\n",
    "#     marker_EBS = folium.Marker(\n",
    "#     [lt, ln],\n",
    "#     popup = filial_name,\n",
    "#     icon = folium.Icon(color='green',icon='ok-sign'))\n",
    "#     marker_cluster_EBS.add_child(marker_EBS)\n",
    "    \n",
    "    \n",
    "# feature_group_EBS.add_child(marker_EBS)\n",
    "# feature_group_nonEBS.add_child(marker_nonEBS)\n",
    "\n",
    "# feature_group_EBS.add_to(m)\n",
    "# feature_group_nonEBS.add_to(m)\n",
    "\n",
    "# folium.LayerControl(collapsed=True).add_to(m)\n",
    "\n",
    "m.save('map.html')\n",
    "m\n"
   ]
  },
  {
   "cell_type": "code",
   "execution_count": null,
   "metadata": {},
   "outputs": [],
   "source": []
  }
 ],
 "metadata": {
  "kernelspec": {
   "display_name": "Python 3",
   "language": "python",
   "name": "python3"
  },
  "language_info": {
   "codemirror_mode": {
    "name": "ipython",
    "version": 3
   },
   "file_extension": ".py",
   "mimetype": "text/x-python",
   "name": "python",
   "nbconvert_exporter": "python",
   "pygments_lexer": "ipython3",
   "version": "3.6.8"
  }
 },
 "nbformat": 4,
 "nbformat_minor": 5
}
