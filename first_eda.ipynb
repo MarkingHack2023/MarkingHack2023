{
 "cells": [
  {
   "cell_type": "code",
   "execution_count": 6,
   "metadata": {
    "tags": []
   },
   "outputs": [],
   "source": [
    "# !ls /opt/disk/\n",
    "# !cp -r /opt/disk/ ./\n",
    "# !mv disk data"
   ]
  },
  {
   "cell_type": "code",
   "execution_count": 1,
   "metadata": {
    "tags": []
   },
   "outputs": [],
   "source": [
    "import pandas as pd\n",
    "import numpy as np\n",
    "import polars as pl\n",
    "import matplotlib.pyplot as plt\n",
    "import seaborn as sns"
   ]
  },
  {
   "cell_type": "markdown",
   "metadata": {},
   "source": [
    "data_dir = './data/'"
   ]
  },
  {
   "cell_type": "markdown",
   "metadata": {
    "tags": []
   },
   "source": [
    "# Справочники"
   ]
  },
  {
   "cell_type": "markdown",
   "metadata": {
    "jp-MarkdownHeadingCollapsed": true,
    "tags": []
   },
   "source": [
    "## Участники оборота"
   ]
  },
  {
   "cell_type": "code",
   "execution_count": 2,
   "metadata": {},
   "outputs": [
    {
     "data": {
      "text/html": [
       "<div>\n",
       "<style scoped>\n",
       "    .dataframe tbody tr th:only-of-type {\n",
       "        vertical-align: middle;\n",
       "    }\n",
       "\n",
       "    .dataframe tbody tr th {\n",
       "        vertical-align: top;\n",
       "    }\n",
       "\n",
       "    .dataframe thead th {\n",
       "        text-align: right;\n",
       "    }\n",
       "</style>\n",
       "<table border=\"1\" class=\"dataframe\">\n",
       "  <thead>\n",
       "    <tr style=\"text-align: right;\">\n",
       "      <th></th>\n",
       "      <th>inn</th>\n",
       "      <th>region_code</th>\n",
       "    </tr>\n",
       "  </thead>\n",
       "  <tbody>\n",
       "    <tr>\n",
       "      <th>0</th>\n",
       "      <td>60DFB6F87ABF6232A5D97A1A827F8D88</td>\n",
       "      <td>1</td>\n",
       "    </tr>\n",
       "    <tr>\n",
       "      <th>1</th>\n",
       "      <td>2D13C279C7CEC509D21695F0268ECCEA</td>\n",
       "      <td>1</td>\n",
       "    </tr>\n",
       "    <tr>\n",
       "      <th>2</th>\n",
       "      <td>1705C73792D7A1A5ABDF1883FE851004</td>\n",
       "      <td>1</td>\n",
       "    </tr>\n",
       "    <tr>\n",
       "      <th>3</th>\n",
       "      <td>B4CC35BD7D8F69E665160F548EBE125D</td>\n",
       "      <td>23</td>\n",
       "    </tr>\n",
       "    <tr>\n",
       "      <th>4</th>\n",
       "      <td>2DB318BEA4A44280FA488A0B2AF36254</td>\n",
       "      <td>1</td>\n",
       "    </tr>\n",
       "  </tbody>\n",
       "</table>\n",
       "</div>"
      ],
      "text/plain": [
       "                                inn  region_code\n",
       "0  60DFB6F87ABF6232A5D97A1A827F8D88            1\n",
       "1  2D13C279C7CEC509D21695F0268ECCEA            1\n",
       "2  1705C73792D7A1A5ABDF1883FE851004            1\n",
       "3  B4CC35BD7D8F69E665160F548EBE125D           23\n",
       "4  2DB318BEA4A44280FA488A0B2AF36254            1"
      ]
     },
     "execution_count": 2,
     "metadata": {},
     "output_type": "execute_result"
    }
   ],
   "source": [
    "members_df = pd.read_csv('data/Справочник участников оборота товаров.csv')\n",
    "members_df.head()"
   ]
  },
  {
   "cell_type": "code",
   "execution_count": 5,
   "metadata": {
    "tags": []
   },
   "outputs": [
    {
     "name": "stdout",
     "output_type": "stream",
     "text": [
      "<class 'pandas.core.frame.DataFrame'>\n",
      "RangeIndex: 23472 entries, 0 to 23471\n",
      "Data columns (total 2 columns):\n",
      " #   Column       Non-Null Count  Dtype \n",
      "---  ------       --------------  ----- \n",
      " 0   inn          23472 non-null  object\n",
      " 1   region_code  23472 non-null  int64 \n",
      "dtypes: int64(1), object(1)\n",
      "memory usage: 366.9+ KB\n"
     ]
    }
   ],
   "source": [
    "members_df.info()"
   ]
  },
  {
   "cell_type": "code",
   "execution_count": 7,
   "metadata": {
    "tags": []
   },
   "outputs": [
    {
     "data": {
      "text/plain": [
       "87"
      ]
     },
     "execution_count": 7,
     "metadata": {},
     "output_type": "execute_result"
    }
   ],
   "source": [
    "members_df['region_code'].unique().size"
   ]
  },
  {
   "cell_type": "markdown",
   "metadata": {
    "tags": []
   },
   "source": [
    "## Точки"
   ]
  },
  {
   "cell_type": "code",
   "execution_count": 3,
   "metadata": {
    "tags": []
   },
   "outputs": [
    {
     "data": {
      "text/html": [
       "<div>\n",
       "<style scoped>\n",
       "    .dataframe tbody tr th:only-of-type {\n",
       "        vertical-align: middle;\n",
       "    }\n",
       "\n",
       "    .dataframe tbody tr th {\n",
       "        vertical-align: top;\n",
       "    }\n",
       "\n",
       "    .dataframe thead th {\n",
       "        text-align: right;\n",
       "    }\n",
       "</style>\n",
       "<table border=\"1\" class=\"dataframe\">\n",
       "  <thead>\n",
       "    <tr style=\"text-align: right;\">\n",
       "      <th></th>\n",
       "      <th>id_sp_</th>\n",
       "      <th>inn</th>\n",
       "      <th>region_code</th>\n",
       "      <th>city_with_type</th>\n",
       "      <th>city_fias_id</th>\n",
       "      <th>postal_code</th>\n",
       "    </tr>\n",
       "  </thead>\n",
       "  <tbody>\n",
       "    <tr>\n",
       "      <th>0</th>\n",
       "      <td>C72AC534DBF5E6369840FFE9DA9FF403</td>\n",
       "      <td>0056F9FCFA009E493BEFEAE4FAA71D82</td>\n",
       "      <td>51</td>\n",
       "      <td>NaN</td>\n",
       "      <td>NaN</td>\n",
       "      <td>184421.0</td>\n",
       "    </tr>\n",
       "    <tr>\n",
       "      <th>1</th>\n",
       "      <td>591942644AE25AE4DD26CF943BB97414</td>\n",
       "      <td>81AAC456284F455FC2B141E6E8F1A76C</td>\n",
       "      <td>66</td>\n",
       "      <td>г Екатеринбург</td>\n",
       "      <td>2763c110-cb8b-416a-9dac-ad28a55b4402</td>\n",
       "      <td>620027.0</td>\n",
       "    </tr>\n",
       "    <tr>\n",
       "      <th>2</th>\n",
       "      <td>A6E2261F16F84FF09E2B615EDB008943</td>\n",
       "      <td>87C2FDB73C26C96266A0947C2BB714BF</td>\n",
       "      <td>62</td>\n",
       "      <td>г Рязань</td>\n",
       "      <td>86e5bae4-ef58-4031-b34f-5e9ff914cd55</td>\n",
       "      <td>390026.0</td>\n",
       "    </tr>\n",
       "    <tr>\n",
       "      <th>3</th>\n",
       "      <td>DC3B647A089FA064DE61E0C778F5EE45</td>\n",
       "      <td>87C2FDB73C26C96266A0947C2BB714BF</td>\n",
       "      <td>62</td>\n",
       "      <td>г Рязань</td>\n",
       "      <td>86e5bae4-ef58-4031-b34f-5e9ff914cd55</td>\n",
       "      <td>390017.0</td>\n",
       "    </tr>\n",
       "    <tr>\n",
       "      <th>4</th>\n",
       "      <td>D2F125BAA947B6293CD055DA1DEEA87D</td>\n",
       "      <td>87C2FDB73C26C96266A0947C2BB714BF</td>\n",
       "      <td>62</td>\n",
       "      <td>г Рыбное</td>\n",
       "      <td>91d71d8c-2f1a-43c8-bc84-d78dc4245a1b</td>\n",
       "      <td>391112.0</td>\n",
       "    </tr>\n",
       "  </tbody>\n",
       "</table>\n",
       "</div>"
      ],
      "text/plain": [
       "                             id_sp_                               inn  \\\n",
       "0  C72AC534DBF5E6369840FFE9DA9FF403  0056F9FCFA009E493BEFEAE4FAA71D82   \n",
       "1  591942644AE25AE4DD26CF943BB97414  81AAC456284F455FC2B141E6E8F1A76C   \n",
       "2  A6E2261F16F84FF09E2B615EDB008943  87C2FDB73C26C96266A0947C2BB714BF   \n",
       "3  DC3B647A089FA064DE61E0C778F5EE45  87C2FDB73C26C96266A0947C2BB714BF   \n",
       "4  D2F125BAA947B6293CD055DA1DEEA87D  87C2FDB73C26C96266A0947C2BB714BF   \n",
       "\n",
       "   region_code  city_with_type                          city_fias_id  \\\n",
       "0           51             NaN                                   NaN   \n",
       "1           66  г Екатеринбург  2763c110-cb8b-416a-9dac-ad28a55b4402   \n",
       "2           62        г Рязань  86e5bae4-ef58-4031-b34f-5e9ff914cd55   \n",
       "3           62        г Рязань  86e5bae4-ef58-4031-b34f-5e9ff914cd55   \n",
       "4           62        г Рыбное  91d71d8c-2f1a-43c8-bc84-d78dc4245a1b   \n",
       "\n",
       "   postal_code  \n",
       "0     184421.0  \n",
       "1     620027.0  \n",
       "2     390026.0  \n",
       "3     390017.0  \n",
       "4     391112.0  "
      ]
     },
     "execution_count": 3,
     "metadata": {},
     "output_type": "execute_result"
    }
   ],
   "source": [
    "points_df = pd.read_csv('data/Справочник торговых точек.csv')\n",
    "points_df.head()"
   ]
  },
  {
   "cell_type": "code",
   "execution_count": 18,
   "metadata": {
    "tags": []
   },
   "outputs": [],
   "source": [
    "points_df.loc[points_df['region_code'] == 77, 'city_with_type'] = \"Москва\"\n",
    "points_df.loc[points_df['region_code'] == 50, 'city_with_type'] = \"Мо\"\n",
    "points_df.loc[points_df['region_code'] == 78, 'city_with_type'] = \"Спб\"\n",
    "points_df['postal_code'] = points_df['postal_code'].fillna(0).astype(int)"
   ]
  },
  {
   "cell_type": "code",
   "execution_count": 18,
   "metadata": {
    "tags": []
   },
   "outputs": [
    {
     "name": "stdout",
     "output_type": "stream",
     "text": [
      "<class 'pandas.core.frame.DataFrame'>\n",
      "RangeIndex: 58401 entries, 0 to 58400\n",
      "Data columns (total 6 columns):\n",
      " #   Column          Non-Null Count  Dtype  \n",
      "---  ------          --------------  -----  \n",
      " 0   id_sp_          58401 non-null  object \n",
      " 1   inn             58401 non-null  object \n",
      " 2   region_code     58401 non-null  int64  \n",
      " 3   city_with_type  39625 non-null  object \n",
      " 4   city_fias_id    39625 non-null  object \n",
      " 5   postal_code     58365 non-null  float64\n",
      "dtypes: float64(1), int64(1), object(4)\n",
      "memory usage: 2.7+ MB\n"
     ]
    }
   ],
   "source": [
    "points_df.info()"
   ]
  },
  {
   "cell_type": "code",
   "execution_count": 20,
   "metadata": {
    "tags": []
   },
   "outputs": [
    {
     "data": {
      "text/plain": [
       "13747"
      ]
     },
     "execution_count": 20,
     "metadata": {},
     "output_type": "execute_result"
    }
   ],
   "source": [
    "points_df['inn'].unique().size"
   ]
  },
  {
   "cell_type": "code",
   "execution_count": 12,
   "metadata": {
    "tags": []
   },
   "outputs": [
    {
     "data": {
      "text/plain": [
       "77    5605\n",
       "50    4174\n",
       "78    2624\n",
       "23    2159\n",
       "66    1818\n",
       "61    1393\n",
       "16    1297\n",
       "52    1288\n",
       "63    1235\n",
       "59    1214\n",
       "54    1167\n",
       "74    1151\n",
       "2     1138\n",
       "42    1137\n",
       "24    1107\n",
       "22    1093\n",
       "36    1012\n",
       "26     888\n",
       "38     885\n",
       "47     864\n",
       "Name: region_code, dtype: int64"
      ]
     },
     "execution_count": 12,
     "metadata": {},
     "output_type": "execute_result"
    }
   ],
   "source": [
    "points_df['region_code'].value_counts().head(20)"
   ]
  },
  {
   "cell_type": "markdown",
   "metadata": {},
   "source": [
    "Самые крупные регионы без города? Мск мос область и спб?"
   ]
  },
  {
   "cell_type": "code",
   "execution_count": 17,
   "metadata": {
    "tags": []
   },
   "outputs": [
    {
     "data": {
      "text/html": [
       "<div>\n",
       "<style scoped>\n",
       "    .dataframe tbody tr th:only-of-type {\n",
       "        vertical-align: middle;\n",
       "    }\n",
       "\n",
       "    .dataframe tbody tr th {\n",
       "        vertical-align: top;\n",
       "    }\n",
       "\n",
       "    .dataframe thead th {\n",
       "        text-align: right;\n",
       "    }\n",
       "</style>\n",
       "<table border=\"1\" class=\"dataframe\">\n",
       "  <thead>\n",
       "    <tr style=\"text-align: right;\">\n",
       "      <th></th>\n",
       "      <th>id_sp_</th>\n",
       "      <th>inn</th>\n",
       "      <th>region_code</th>\n",
       "      <th>city_with_type</th>\n",
       "      <th>city_fias_id</th>\n",
       "      <th>postal_code</th>\n",
       "    </tr>\n",
       "  </thead>\n",
       "  <tbody>\n",
       "    <tr>\n",
       "      <th>19</th>\n",
       "      <td>CD64F7E795A27115073E0029E31471A4</td>\n",
       "      <td>0056F9FCFA009E493BEFEAE4FAA71D82</td>\n",
       "      <td>77</td>\n",
       "      <td>NaN</td>\n",
       "      <td>NaN</td>\n",
       "      <td>121614.0</td>\n",
       "    </tr>\n",
       "    <tr>\n",
       "      <th>23</th>\n",
       "      <td>4D74ED316E9695C0A3C6B57BCF25D6EB</td>\n",
       "      <td>4BEAC3BF4F964E21BE3DD50A98A9D705</td>\n",
       "      <td>77</td>\n",
       "      <td>NaN</td>\n",
       "      <td>NaN</td>\n",
       "      <td>115280.0</td>\n",
       "    </tr>\n",
       "    <tr>\n",
       "      <th>32</th>\n",
       "      <td>59D6ADA0DEC23C22632D1A3952DFD9F9</td>\n",
       "      <td>EA5DD2C8886ADFF75F7BE25BED2320E0</td>\n",
       "      <td>77</td>\n",
       "      <td>NaN</td>\n",
       "      <td>NaN</td>\n",
       "      <td>127273.0</td>\n",
       "    </tr>\n",
       "    <tr>\n",
       "      <th>47</th>\n",
       "      <td>FF9BBE47D0D9D21F89A04CEEDE421769</td>\n",
       "      <td>E8A728F271FA7D0AF44F56128EB3C871</td>\n",
       "      <td>77</td>\n",
       "      <td>NaN</td>\n",
       "      <td>NaN</td>\n",
       "      <td>109316.0</td>\n",
       "    </tr>\n",
       "    <tr>\n",
       "      <th>48</th>\n",
       "      <td>0B66F6FBECAFFB62AA6C70DC9A5E2994</td>\n",
       "      <td>6B8E111AB5B5C556C0AEA292ACA4D88B</td>\n",
       "      <td>77</td>\n",
       "      <td>NaN</td>\n",
       "      <td>NaN</td>\n",
       "      <td>111622.0</td>\n",
       "    </tr>\n",
       "    <tr>\n",
       "      <th>...</th>\n",
       "      <td>...</td>\n",
       "      <td>...</td>\n",
       "      <td>...</td>\n",
       "      <td>...</td>\n",
       "      <td>...</td>\n",
       "      <td>...</td>\n",
       "    </tr>\n",
       "    <tr>\n",
       "      <th>58382</th>\n",
       "      <td>5FF7357071F05DA8B389200124500996</td>\n",
       "      <td>D6093309EAAE740CEE8D8B007A2346B0</td>\n",
       "      <td>77</td>\n",
       "      <td>NaN</td>\n",
       "      <td>NaN</td>\n",
       "      <td>125315.0</td>\n",
       "    </tr>\n",
       "    <tr>\n",
       "      <th>58388</th>\n",
       "      <td>4A4507843CB38BFC5807A34A3CB0478D</td>\n",
       "      <td>DADC03D590B60BBFFEAF69450A216613</td>\n",
       "      <td>77</td>\n",
       "      <td>NaN</td>\n",
       "      <td>NaN</td>\n",
       "      <td>127572.0</td>\n",
       "    </tr>\n",
       "    <tr>\n",
       "      <th>58391</th>\n",
       "      <td>DB2B5C7E89663D37B4C506C3B0AD9B58</td>\n",
       "      <td>DADC03D590B60BBFFEAF69450A216613</td>\n",
       "      <td>77</td>\n",
       "      <td>NaN</td>\n",
       "      <td>NaN</td>\n",
       "      <td>129347.0</td>\n",
       "    </tr>\n",
       "    <tr>\n",
       "      <th>58393</th>\n",
       "      <td>AAA39C7BC65FEFEB1CA329BB3E7F96DB</td>\n",
       "      <td>DADC03D590B60BBFFEAF69450A216613</td>\n",
       "      <td>77</td>\n",
       "      <td>NaN</td>\n",
       "      <td>NaN</td>\n",
       "      <td>115191.0</td>\n",
       "    </tr>\n",
       "    <tr>\n",
       "      <th>58400</th>\n",
       "      <td>E6A89B2F1068475E7DE4CA651563AD9F</td>\n",
       "      <td>118367830B924F8C0D92C232C8834EEB</td>\n",
       "      <td>77</td>\n",
       "      <td>NaN</td>\n",
       "      <td>NaN</td>\n",
       "      <td>109012.0</td>\n",
       "    </tr>\n",
       "  </tbody>\n",
       "</table>\n",
       "<p>5605 rows × 6 columns</p>\n",
       "</div>"
      ],
      "text/plain": [
       "                                 id_sp_                               inn  \\\n",
       "19     CD64F7E795A27115073E0029E31471A4  0056F9FCFA009E493BEFEAE4FAA71D82   \n",
       "23     4D74ED316E9695C0A3C6B57BCF25D6EB  4BEAC3BF4F964E21BE3DD50A98A9D705   \n",
       "32     59D6ADA0DEC23C22632D1A3952DFD9F9  EA5DD2C8886ADFF75F7BE25BED2320E0   \n",
       "47     FF9BBE47D0D9D21F89A04CEEDE421769  E8A728F271FA7D0AF44F56128EB3C871   \n",
       "48     0B66F6FBECAFFB62AA6C70DC9A5E2994  6B8E111AB5B5C556C0AEA292ACA4D88B   \n",
       "...                                 ...                               ...   \n",
       "58382  5FF7357071F05DA8B389200124500996  D6093309EAAE740CEE8D8B007A2346B0   \n",
       "58388  4A4507843CB38BFC5807A34A3CB0478D  DADC03D590B60BBFFEAF69450A216613   \n",
       "58391  DB2B5C7E89663D37B4C506C3B0AD9B58  DADC03D590B60BBFFEAF69450A216613   \n",
       "58393  AAA39C7BC65FEFEB1CA329BB3E7F96DB  DADC03D590B60BBFFEAF69450A216613   \n",
       "58400  E6A89B2F1068475E7DE4CA651563AD9F  118367830B924F8C0D92C232C8834EEB   \n",
       "\n",
       "       region_code city_with_type city_fias_id  postal_code  \n",
       "19              77            NaN          NaN     121614.0  \n",
       "23              77            NaN          NaN     115280.0  \n",
       "32              77            NaN          NaN     127273.0  \n",
       "47              77            NaN          NaN     109316.0  \n",
       "48              77            NaN          NaN     111622.0  \n",
       "...            ...            ...          ...          ...  \n",
       "58382           77            NaN          NaN     125315.0  \n",
       "58388           77            NaN          NaN     127572.0  \n",
       "58391           77            NaN          NaN     129347.0  \n",
       "58393           77            NaN          NaN     115191.0  \n",
       "58400           77            NaN          NaN     109012.0  \n",
       "\n",
       "[5605 rows x 6 columns]"
      ]
     },
     "execution_count": 17,
     "metadata": {},
     "output_type": "execute_result"
    }
   ],
   "source": [
    "points_df.query('region_code == 77')"
   ]
  },
  {
   "cell_type": "code",
   "execution_count": 13,
   "metadata": {
    "tags": []
   },
   "outputs": [
    {
     "data": {
      "text/plain": [
       "г Екатеринбург       735\n",
       "г Новосибирск        721\n",
       "г Краснодар          646\n",
       "г Омск               623\n",
       "г Казань             579\n",
       "г Воронеж            568\n",
       "г Пермь              556\n",
       "г Самара             554\n",
       "г Нижний Новгород    534\n",
       "г Ростов-на-Дону     523\n",
       "г Красноярск         509\n",
       "г Челябинск          493\n",
       "г Тюмень             463\n",
       "г Волгоград          442\n",
       "г Уфа                416\n",
       "г Саратов            388\n",
       "г Барнаул            317\n",
       "г Ярославль          317\n",
       "г Томск              308\n",
       "г Иркутск            308\n",
       "Name: city_with_type, dtype: int64"
      ]
     },
     "execution_count": 13,
     "metadata": {},
     "output_type": "execute_result"
    }
   ],
   "source": [
    "points_df['city_with_type'].value_counts().head(20)"
   ]
  },
  {
   "cell_type": "code",
   "execution_count": 10,
   "metadata": {
    "tags": []
   },
   "outputs": [
    {
     "data": {
      "text/plain": [
       "12422"
      ]
     },
     "execution_count": 10,
     "metadata": {},
     "output_type": "execute_result"
    }
   ],
   "source": [
    "points_df['postal_code'].unique().size"
   ]
  },
  {
   "cell_type": "code",
   "execution_count": null,
   "metadata": {},
   "outputs": [],
   "source": [
    "points_df.groupby(['region_code']).count"
   ]
  },
  {
   "cell_type": "code",
   "execution_count": 47,
   "metadata": {
    "tags": []
   },
   "outputs": [
    {
     "data": {
      "text/html": [
       "<div>\n",
       "<style scoped>\n",
       "    .dataframe tbody tr th:only-of-type {\n",
       "        vertical-align: middle;\n",
       "    }\n",
       "\n",
       "    .dataframe tbody tr th {\n",
       "        vertical-align: top;\n",
       "    }\n",
       "\n",
       "    .dataframe thead th {\n",
       "        text-align: right;\n",
       "    }\n",
       "</style>\n",
       "<table border=\"1\" class=\"dataframe\">\n",
       "  <thead>\n",
       "    <tr style=\"text-align: right;\">\n",
       "      <th></th>\n",
       "      <th>id_sp_</th>\n",
       "      <th>inn</th>\n",
       "      <th>region_code</th>\n",
       "      <th>city_with_type</th>\n",
       "      <th>city_fias_id</th>\n",
       "      <th>postal_code</th>\n",
       "    </tr>\n",
       "  </thead>\n",
       "  <tbody>\n",
       "    <tr>\n",
       "      <th>80</th>\n",
       "      <td>CF48A204E834741CDD0341A4EC5E817C</td>\n",
       "      <td>89F1BFD156A04E3D9B28C7FD6BED4F2F</td>\n",
       "      <td>55</td>\n",
       "      <td>г Омск</td>\n",
       "      <td>140e31da-27bf-4519-9ea0-6185d681d44e</td>\n",
       "      <td>644083</td>\n",
       "    </tr>\n",
       "    <tr>\n",
       "      <th>98</th>\n",
       "      <td>EFB1A3DC4B5B5A6D99F4793D889F6D5C</td>\n",
       "      <td>EC48A4C96287D06DB9DB4F3E08498202</td>\n",
       "      <td>55</td>\n",
       "      <td>NaN</td>\n",
       "      <td>NaN</td>\n",
       "      <td>644527</td>\n",
       "    </tr>\n",
       "    <tr>\n",
       "      <th>366</th>\n",
       "      <td>70042A986CDC6CA3D9818363DBEE8B6A</td>\n",
       "      <td>CE411DE9494F17FC63CDEC73D7CB7A5D</td>\n",
       "      <td>55</td>\n",
       "      <td>г Омск</td>\n",
       "      <td>140e31da-27bf-4519-9ea0-6185d681d44e</td>\n",
       "      <td>644022</td>\n",
       "    </tr>\n",
       "    <tr>\n",
       "      <th>729</th>\n",
       "      <td>44EF61711FD55ACC27AC2A767C655355</td>\n",
       "      <td>6B8E111AB5B5C556C0AEA292ACA4D88B</td>\n",
       "      <td>55</td>\n",
       "      <td>г Омск</td>\n",
       "      <td>140e31da-27bf-4519-9ea0-6185d681d44e</td>\n",
       "      <td>644024</td>\n",
       "    </tr>\n",
       "    <tr>\n",
       "      <th>1145</th>\n",
       "      <td>A0E97994EB8F196616C70DCC08A4F812</td>\n",
       "      <td>6DE2782CFA8E5773C03FEE26362BF255</td>\n",
       "      <td>55</td>\n",
       "      <td>г Омск</td>\n",
       "      <td>140e31da-27bf-4519-9ea0-6185d681d44e</td>\n",
       "      <td>644024</td>\n",
       "    </tr>\n",
       "    <tr>\n",
       "      <th>...</th>\n",
       "      <td>...</td>\n",
       "      <td>...</td>\n",
       "      <td>...</td>\n",
       "      <td>...</td>\n",
       "      <td>...</td>\n",
       "      <td>...</td>\n",
       "    </tr>\n",
       "    <tr>\n",
       "      <th>57770</th>\n",
       "      <td>7433BA400FEBDE60DBCE96B39A1B309B</td>\n",
       "      <td>A3E0FDAA257DBD27EBD365EC9966C89B</td>\n",
       "      <td>55</td>\n",
       "      <td>г Омск</td>\n",
       "      <td>140e31da-27bf-4519-9ea0-6185d681d44e</td>\n",
       "      <td>644010</td>\n",
       "    </tr>\n",
       "    <tr>\n",
       "      <th>57779</th>\n",
       "      <td>64626154E69B26DB7958A348EFD10F1C</td>\n",
       "      <td>397ACA97DB232542926D17E83491CD67</td>\n",
       "      <td>55</td>\n",
       "      <td>г Омск</td>\n",
       "      <td>140e31da-27bf-4519-9ea0-6185d681d44e</td>\n",
       "      <td>644119</td>\n",
       "    </tr>\n",
       "    <tr>\n",
       "      <th>57799</th>\n",
       "      <td>CAF65CD5F0BB0451726F92048BF6A26B</td>\n",
       "      <td>6E19573FB1BD16B06333FC38AE2D4D51</td>\n",
       "      <td>55</td>\n",
       "      <td>г Омск</td>\n",
       "      <td>140e31da-27bf-4519-9ea0-6185d681d44e</td>\n",
       "      <td>644082</td>\n",
       "    </tr>\n",
       "    <tr>\n",
       "      <th>58068</th>\n",
       "      <td>0326E1B32BFFBEC0CFFD13658D4BF2C4</td>\n",
       "      <td>CE411DE9494F17FC63CDEC73D7CB7A5D</td>\n",
       "      <td>55</td>\n",
       "      <td>г Омск</td>\n",
       "      <td>140e31da-27bf-4519-9ea0-6185d681d44e</td>\n",
       "      <td>644117</td>\n",
       "    </tr>\n",
       "    <tr>\n",
       "      <th>58106</th>\n",
       "      <td>1C5BC087958BB5F15F04F24FF2A62935</td>\n",
       "      <td>3C2DED6F9BD3853EE6291FF9D3E3AF2C</td>\n",
       "      <td>55</td>\n",
       "      <td>г Омск</td>\n",
       "      <td>140e31da-27bf-4519-9ea0-6185d681d44e</td>\n",
       "      <td>644058</td>\n",
       "    </tr>\n",
       "  </tbody>\n",
       "</table>\n",
       "<p>638 rows × 6 columns</p>\n",
       "</div>"
      ],
      "text/plain": [
       "                                 id_sp_                               inn  \\\n",
       "80     CF48A204E834741CDD0341A4EC5E817C  89F1BFD156A04E3D9B28C7FD6BED4F2F   \n",
       "98     EFB1A3DC4B5B5A6D99F4793D889F6D5C  EC48A4C96287D06DB9DB4F3E08498202   \n",
       "366    70042A986CDC6CA3D9818363DBEE8B6A  CE411DE9494F17FC63CDEC73D7CB7A5D   \n",
       "729    44EF61711FD55ACC27AC2A767C655355  6B8E111AB5B5C556C0AEA292ACA4D88B   \n",
       "1145   A0E97994EB8F196616C70DCC08A4F812  6DE2782CFA8E5773C03FEE26362BF255   \n",
       "...                                 ...                               ...   \n",
       "57770  7433BA400FEBDE60DBCE96B39A1B309B  A3E0FDAA257DBD27EBD365EC9966C89B   \n",
       "57779  64626154E69B26DB7958A348EFD10F1C  397ACA97DB232542926D17E83491CD67   \n",
       "57799  CAF65CD5F0BB0451726F92048BF6A26B  6E19573FB1BD16B06333FC38AE2D4D51   \n",
       "58068  0326E1B32BFFBEC0CFFD13658D4BF2C4  CE411DE9494F17FC63CDEC73D7CB7A5D   \n",
       "58106  1C5BC087958BB5F15F04F24FF2A62935  3C2DED6F9BD3853EE6291FF9D3E3AF2C   \n",
       "\n",
       "       region_code city_with_type                          city_fias_id  \\\n",
       "80              55         г Омск  140e31da-27bf-4519-9ea0-6185d681d44e   \n",
       "98              55            NaN                                   NaN   \n",
       "366             55         г Омск  140e31da-27bf-4519-9ea0-6185d681d44e   \n",
       "729             55         г Омск  140e31da-27bf-4519-9ea0-6185d681d44e   \n",
       "1145            55         г Омск  140e31da-27bf-4519-9ea0-6185d681d44e   \n",
       "...            ...            ...                                   ...   \n",
       "57770           55         г Омск  140e31da-27bf-4519-9ea0-6185d681d44e   \n",
       "57779           55         г Омск  140e31da-27bf-4519-9ea0-6185d681d44e   \n",
       "57799           55         г Омск  140e31da-27bf-4519-9ea0-6185d681d44e   \n",
       "58068           55         г Омск  140e31da-27bf-4519-9ea0-6185d681d44e   \n",
       "58106           55         г Омск  140e31da-27bf-4519-9ea0-6185d681d44e   \n",
       "\n",
       "       postal_code  \n",
       "80          644083  \n",
       "98          644527  \n",
       "366         644022  \n",
       "729         644024  \n",
       "1145        644024  \n",
       "...            ...  \n",
       "57770       644010  \n",
       "57779       644119  \n",
       "57799       644082  \n",
       "58068       644117  \n",
       "58106       644058  \n",
       "\n",
       "[638 rows x 6 columns]"
      ]
     },
     "execution_count": 47,
     "metadata": {},
     "output_type": "execute_result"
    }
   ],
   "source": [
    "points_df.query(\"postal_code > 644000 and postal_code < 645000\")"
   ]
  },
  {
   "cell_type": "markdown",
   "metadata": {
    "jp-MarkdownHeadingCollapsed": true,
    "tags": []
   },
   "source": [
    "## Продукция"
   ]
  },
  {
   "cell_type": "code",
   "execution_count": 4,
   "metadata": {
    "tags": []
   },
   "outputs": [
    {
     "data": {
      "text/html": [
       "<div>\n",
       "<style scoped>\n",
       "    .dataframe tbody tr th:only-of-type {\n",
       "        vertical-align: middle;\n",
       "    }\n",
       "\n",
       "    .dataframe tbody tr th {\n",
       "        vertical-align: top;\n",
       "    }\n",
       "\n",
       "    .dataframe thead th {\n",
       "        text-align: right;\n",
       "    }\n",
       "</style>\n",
       "<table border=\"1\" class=\"dataframe\">\n",
       "  <thead>\n",
       "    <tr style=\"text-align: right;\">\n",
       "      <th></th>\n",
       "      <th>gtin</th>\n",
       "      <th>inn</th>\n",
       "      <th>product_name</th>\n",
       "      <th>product_short_name</th>\n",
       "      <th>tnved</th>\n",
       "      <th>tnved10</th>\n",
       "      <th>brand</th>\n",
       "      <th>country</th>\n",
       "      <th>volume</th>\n",
       "    </tr>\n",
       "  </thead>\n",
       "  <tbody>\n",
       "    <tr>\n",
       "      <th>0</th>\n",
       "      <td>8C414C7757D587886C10DB0CCEA641A2</td>\n",
       "      <td>D0B1FE981FCC19F934C3FFD91690430F</td>\n",
       "      <td>68F60FA530914522B26E25F262EBC6D6</td>\n",
       "      <td>9199AB529CF62D4BDB7E8B1D7459001D</td>\n",
       "      <td>6D2580183CEF6C8AF1CC72E1C6E6FBC4</td>\n",
       "      <td>58A4B52373651DA4292AD5725D388F8A</td>\n",
       "      <td>D2D1641B196DA5477D40C0907FD5F1DA</td>\n",
       "      <td>NaN</td>\n",
       "      <td>10</td>\n",
       "    </tr>\n",
       "    <tr>\n",
       "      <th>1</th>\n",
       "      <td>3D8C701836C4C0A5B33D57522A7EDBAB</td>\n",
       "      <td>9B0AFDA27FCCB188768FA9B611183387</td>\n",
       "      <td>670017E2D871B8962E5456CA71F6A1D1</td>\n",
       "      <td>9199AB529CF62D4BDB7E8B1D7459001D</td>\n",
       "      <td>6D2580183CEF6C8AF1CC72E1C6E6FBC4</td>\n",
       "      <td>58A4B52373651DA4292AD5725D388F8A</td>\n",
       "      <td>670017E2D871B8962E5456CA71F6A1D1</td>\n",
       "      <td>NaN</td>\n",
       "      <td>НЕ КЛАССИФИЦИРОВАНО</td>\n",
       "    </tr>\n",
       "    <tr>\n",
       "      <th>2</th>\n",
       "      <td>B1308C75C38993B0EEA22C8FE2899C2A</td>\n",
       "      <td>86CAE1EAD8AF200ED46453FD18FA1A04</td>\n",
       "      <td>97181A85E3400C38AB223F17A5DCCFCC</td>\n",
       "      <td>9199AB529CF62D4BDB7E8B1D7459001D</td>\n",
       "      <td>6D2580183CEF6C8AF1CC72E1C6E6FBC4</td>\n",
       "      <td>FAEA36DABA0E46CD081A7FA49DAD8FE0</td>\n",
       "      <td>ABB51261177B26E23AC2DE0F0508D6AB</td>\n",
       "      <td>NaN</td>\n",
       "      <td>100</td>\n",
       "    </tr>\n",
       "    <tr>\n",
       "      <th>3</th>\n",
       "      <td>1D71E57CA201A8ACEADBAA8D6E7039DE</td>\n",
       "      <td>86CAE1EAD8AF200ED46453FD18FA1A04</td>\n",
       "      <td>EA5CEDF8FA0F5BEBD2F047151B2DBE86</td>\n",
       "      <td>B8AF2335E04E7BAD5168D9B39FABAC21</td>\n",
       "      <td>6D2580183CEF6C8AF1CC72E1C6E6FBC4</td>\n",
       "      <td>FAEA36DABA0E46CD081A7FA49DAD8FE0</td>\n",
       "      <td>EDFFD44E0EC18764685E952553560EEF</td>\n",
       "      <td>NaN</td>\n",
       "      <td>100</td>\n",
       "    </tr>\n",
       "    <tr>\n",
       "      <th>4</th>\n",
       "      <td>5DEF4AA62907D322F85FA88839F00E8F</td>\n",
       "      <td>86CAE1EAD8AF200ED46453FD18FA1A04</td>\n",
       "      <td>75AF532015CFA92F71FF54ADEDB9BEA3</td>\n",
       "      <td>9199AB529CF62D4BDB7E8B1D7459001D</td>\n",
       "      <td>6D2580183CEF6C8AF1CC72E1C6E6FBC4</td>\n",
       "      <td>FAEA36DABA0E46CD081A7FA49DAD8FE0</td>\n",
       "      <td>75AF532015CFA92F71FF54ADEDB9BEA3</td>\n",
       "      <td>NaN</td>\n",
       "      <td>50</td>\n",
       "    </tr>\n",
       "  </tbody>\n",
       "</table>\n",
       "</div>"
      ],
      "text/plain": [
       "                               gtin                               inn  \\\n",
       "0  8C414C7757D587886C10DB0CCEA641A2  D0B1FE981FCC19F934C3FFD91690430F   \n",
       "1  3D8C701836C4C0A5B33D57522A7EDBAB  9B0AFDA27FCCB188768FA9B611183387   \n",
       "2  B1308C75C38993B0EEA22C8FE2899C2A  86CAE1EAD8AF200ED46453FD18FA1A04   \n",
       "3  1D71E57CA201A8ACEADBAA8D6E7039DE  86CAE1EAD8AF200ED46453FD18FA1A04   \n",
       "4  5DEF4AA62907D322F85FA88839F00E8F  86CAE1EAD8AF200ED46453FD18FA1A04   \n",
       "\n",
       "                       product_name                product_short_name  \\\n",
       "0  68F60FA530914522B26E25F262EBC6D6  9199AB529CF62D4BDB7E8B1D7459001D   \n",
       "1  670017E2D871B8962E5456CA71F6A1D1  9199AB529CF62D4BDB7E8B1D7459001D   \n",
       "2  97181A85E3400C38AB223F17A5DCCFCC  9199AB529CF62D4BDB7E8B1D7459001D   \n",
       "3  EA5CEDF8FA0F5BEBD2F047151B2DBE86  B8AF2335E04E7BAD5168D9B39FABAC21   \n",
       "4  75AF532015CFA92F71FF54ADEDB9BEA3  9199AB529CF62D4BDB7E8B1D7459001D   \n",
       "\n",
       "                              tnved                           tnved10  \\\n",
       "0  6D2580183CEF6C8AF1CC72E1C6E6FBC4  58A4B52373651DA4292AD5725D388F8A   \n",
       "1  6D2580183CEF6C8AF1CC72E1C6E6FBC4  58A4B52373651DA4292AD5725D388F8A   \n",
       "2  6D2580183CEF6C8AF1CC72E1C6E6FBC4  FAEA36DABA0E46CD081A7FA49DAD8FE0   \n",
       "3  6D2580183CEF6C8AF1CC72E1C6E6FBC4  FAEA36DABA0E46CD081A7FA49DAD8FE0   \n",
       "4  6D2580183CEF6C8AF1CC72E1C6E6FBC4  FAEA36DABA0E46CD081A7FA49DAD8FE0   \n",
       "\n",
       "                              brand country               volume  \n",
       "0  D2D1641B196DA5477D40C0907FD5F1DA     NaN                   10  \n",
       "1  670017E2D871B8962E5456CA71F6A1D1     NaN  НЕ КЛАССИФИЦИРОВАНО  \n",
       "2  ABB51261177B26E23AC2DE0F0508D6AB     NaN                  100  \n",
       "3  EDFFD44E0EC18764685E952553560EEF     NaN                  100  \n",
       "4  75AF532015CFA92F71FF54ADEDB9BEA3     NaN                   50  "
      ]
     },
     "execution_count": 4,
     "metadata": {},
     "output_type": "execute_result"
    }
   ],
   "source": [
    "products_df = pd.read_csv('data/Справочник продукции.csv')\n",
    "products_df.head()"
   ]
  },
  {
   "cell_type": "code",
   "execution_count": 21,
   "metadata": {
    "tags": []
   },
   "outputs": [],
   "source": [
    "products_df['country'] = products_df['country'].fillna('0')"
   ]
  },
  {
   "cell_type": "code",
   "execution_count": 22,
   "metadata": {
    "tags": []
   },
   "outputs": [
    {
     "name": "stdout",
     "output_type": "stream",
     "text": [
      "<class 'pandas.core.frame.DataFrame'>\n",
      "RangeIndex: 393467 entries, 0 to 393466\n",
      "Data columns (total 9 columns):\n",
      " #   Column              Non-Null Count   Dtype \n",
      "---  ------              --------------   ----- \n",
      " 0   gtin                393467 non-null  object\n",
      " 1   inn                 393467 non-null  object\n",
      " 2   product_name        393467 non-null  object\n",
      " 3   product_short_name  393467 non-null  object\n",
      " 4   tnved               393467 non-null  object\n",
      " 5   tnved10             393467 non-null  object\n",
      " 6   brand               393467 non-null  object\n",
      " 7   country             71651 non-null   object\n",
      " 8   volume              310281 non-null  object\n",
      "dtypes: object(9)\n",
      "memory usage: 27.0+ MB\n"
     ]
    }
   ],
   "source": [
    "products_df.info()"
   ]
  },
  {
   "cell_type": "code",
   "execution_count": 24,
   "metadata": {
    "tags": []
   },
   "outputs": [
    {
     "data": {
      "text/plain": [
       "100                    86572\n",
       "50                     73083\n",
       "30                     38130\n",
       "75                     12099\n",
       "НЕ КЛАССИФИЦИРОВАНО    11039\n",
       "                       ...  \n",
       "7.00                       1\n",
       "от 25 до 120               1\n",
       "159                        1\n",
       "30-50                      1\n",
       "10-80                      1\n",
       "Name: volume, Length: 910, dtype: int64"
      ]
     },
     "execution_count": 24,
     "metadata": {},
     "output_type": "execute_result"
    }
   ],
   "source": [
    "products_df['volume'].value_counts() # Заявленный вес единицы товара"
   ]
  },
  {
   "cell_type": "code",
   "execution_count": 26,
   "metadata": {
    "tags": []
   },
   "outputs": [
    {
     "data": {
      "text/plain": [
       "ФРАНЦИЯ                          23424\n",
       "РОССИЯ                           14719\n",
       "ТУРЦИЯ                            7735\n",
       "ИТАЛИЯ                            6576\n",
       "ОБЪЕДИНЕННЫЕ АРАБСКИЕ ЭМИРАТЫ     3588\n",
       "БЕЛАРУСЬ                          3291\n",
       "ИСПАНИЯ                           2697\n",
       "СОЕДИНЕННОЕ КОРОЛЕВСТВО           2072\n",
       "СОЕДИНЕННЫЕ ШТАТЫ                 1737\n",
       "ГЕРМАНИЯ                          1311\n",
       "Name: country, dtype: int64"
      ]
     },
     "execution_count": 26,
     "metadata": {},
     "output_type": "execute_result"
    }
   ],
   "source": [
    "products_df['country'].value_counts().head(10) # "
   ]
  },
  {
   "cell_type": "code",
   "execution_count": 191,
   "metadata": {
    "tags": []
   },
   "outputs": [
    {
     "data": {
      "text/plain": [
       "0          321816\n",
       "ФРАНЦИЯ     23424\n",
       "РОССИЯ      14719\n",
       "ТУРЦИЯ       7735\n",
       "ИТАЛИЯ       6576\n",
       "Name: country, dtype: int64"
      ]
     },
     "execution_count": 191,
     "metadata": {},
     "output_type": "execute_result"
    }
   ],
   "source": [
    "products_df['country'].fillna('0').value_counts().head(5)"
   ]
  },
  {
   "cell_type": "code",
   "execution_count": 192,
   "metadata": {
    "tags": []
   },
   "outputs": [
    {
     "data": {
      "text/plain": [
       "E0BB3FD2DEA30ACD6C89416BD2F0F972    46489\n",
       "09658A8FFA21FBE74DE98D86852987AD     5708\n",
       "D80A3EE8FCAC8471AD0D19E79C97761B     5198\n",
       "75AF532015CFA92F71FF54ADEDB9BEA3     4837\n",
       "EDFFD44E0EC18764685E952553560EEF     4694\n",
       "Name: brand, dtype: int64"
      ]
     },
     "execution_count": 192,
     "metadata": {},
     "output_type": "execute_result"
    }
   ],
   "source": [
    "products_df['brand'].fillna('0').value_counts().head(5) # "
   ]
  },
  {
   "cell_type": "code",
   "execution_count": 27,
   "metadata": {
    "tags": []
   },
   "outputs": [
    {
     "data": {
      "text/plain": [
       "E0BB3FD2DEA30ACD6C89416BD2F0F972    46489\n",
       "09658A8FFA21FBE74DE98D86852987AD     5708\n",
       "D80A3EE8FCAC8471AD0D19E79C97761B     5198\n",
       "75AF532015CFA92F71FF54ADEDB9BEA3     4837\n",
       "EDFFD44E0EC18764685E952553560EEF     4694\n",
       "                                    ...  \n",
       "030A12B5E78003D1D33CB30FF134B5F1        1\n",
       "3449C9D948FD5E65070715BDEAE15D8E        1\n",
       "8D4F0C300F629F3E18549D031B131CE4        1\n",
       "BC027D741B53CCE6C088CD707667FF79        1\n",
       "24E59B887F32899C85400FB2E6585621        1\n",
       "Name: brand, Length: 12644, dtype: int64"
      ]
     },
     "execution_count": 27,
     "metadata": {},
     "output_type": "execute_result"
    }
   ],
   "source": [
    "products_df['brand'].value_counts() #"
   ]
  },
  {
   "cell_type": "code",
   "execution_count": 28,
   "metadata": {
    "tags": []
   },
   "outputs": [
    {
     "data": {
      "text/plain": [
       "FAEA36DABA0E46CD081A7FA49DAD8FE0    318266\n",
       "58A4B52373651DA4292AD5725D388F8A     68270\n",
       "9F7293E9B9C4AEC1FEC02CF457F72E93      4120\n",
       "8CBBAC613BBC71178D19D901C4FF8F22       590\n",
       "DB208476C3C890F6A24E6BEAE2348127       451\n",
       "                                     ...  \n",
       "3D20E7B862BB68D09A7543605CAC2A45         1\n",
       "E3CBBD462BE70E29BDED2BD6EAF05D51         1\n",
       "0A017FB4A97EE9696D13925EC61AD127         1\n",
       "340FDF06310A19BAB09EBAFCEBEB661D         1\n",
       "77AB7DE26F594DC81C48795B28C03BC8         1\n",
       "Name: tnved10, Length: 220, dtype: int64"
      ]
     },
     "execution_count": 28,
     "metadata": {},
     "output_type": "execute_result"
    }
   ],
   "source": [
    "products_df['tnved10'].value_counts()"
   ]
  },
  {
   "cell_type": "code",
   "execution_count": 29,
   "metadata": {
    "tags": []
   },
   "outputs": [
    {
     "data": {
      "text/plain": [
       "6D2580183CEF6C8AF1CC72E1C6E6FBC4    393467\n",
       "Name: tnved, dtype: int64"
      ]
     },
     "execution_count": 29,
     "metadata": {},
     "output_type": "execute_result"
    }
   ],
   "source": [
    "products_df['tnved'].value_counts()"
   ]
  },
  {
   "cell_type": "code",
   "execution_count": 30,
   "metadata": {
    "tags": []
   },
   "outputs": [
    {
     "data": {
      "text/plain": [
       "9199AB529CF62D4BDB7E8B1D7459001D    141044\n",
       "B8AF2335E04E7BAD5168D9B39FABAC21    136013\n",
       "9F7293E9B9C4AEC1FEC02CF457F72E93     63060\n",
       "2868B842B46F754C088D89E130F89585     37276\n",
       "C6AD4B84092CCBB3E3729F73B00C55A1      6741\n",
       "                                     ...  \n",
       "6ACF8F36A7F3D9AAC95D59046AE62727         1\n",
       "24350563F957CC980BE96184E6E551BE         1\n",
       "1A31E7D277720BD89C535C4917D61FDC         1\n",
       "A633C47F268B45D17F33FEADBEBFFD48         1\n",
       "BCDAB7193FE530D5CA0EB7F7A177E0AC         1\n",
       "Name: product_short_name, Length: 137, dtype: int64"
      ]
     },
     "execution_count": 30,
     "metadata": {},
     "output_type": "execute_result"
    }
   ],
   "source": [
    "products_df['product_short_name'].value_counts()"
   ]
  },
  {
   "cell_type": "code",
   "execution_count": 31,
   "metadata": {
    "tags": []
   },
   "outputs": [
    {
     "data": {
      "text/plain": [
       "B8AF2335E04E7BAD5168D9B39FABAC21    2551\n",
       "2868B842B46F754C088D89E130F89585    1409\n",
       "9199AB529CF62D4BDB7E8B1D7459001D     779\n",
       "79F6035BC01CE95BE31AF1D533763852     744\n",
       "6C9AEEE99F6F675CCE8A6A126EB0D83A     425\n",
       "                                    ... \n",
       "5BA6BA35413C39012A91FFCBE2CC7DAD       1\n",
       "C87AAD3CDCF9D452153AAD85A5245690       1\n",
       "6898473449394034C4680D2E74F1A739       1\n",
       "7A9473D6C6BC4F9DE89A212758EF8BAC       1\n",
       "99B46FBA9D2569F172625204EA75D7ED       1\n",
       "Name: product_name, Length: 288180, dtype: int64"
      ]
     },
     "execution_count": 31,
     "metadata": {},
     "output_type": "execute_result"
    }
   ],
   "source": [
    "products_df['product_name'].value_counts()"
   ]
  },
  {
   "cell_type": "code",
   "execution_count": 32,
   "metadata": {
    "tags": []
   },
   "outputs": [
    {
     "data": {
      "text/plain": [
       "8630E3AAA57E1BE56637A05FADAC931E    9246\n",
       "25977F1E02F92D2B5AB3605B196C7ACB    5907\n",
       "6B8E111AB5B5C556C0AEA292ACA4D88B    5206\n",
       "CD2480BB07FCE7AB6AC3606F454C3B1D    4389\n",
       "B852894F1DA22468C9496B6743B4AE93    4167\n",
       "                                    ... \n",
       "9692B11980FB76CD90ECD0488A1018F1       1\n",
       "39505538C11E1DDDF34B2CA29F065FB1       1\n",
       "3E4DA8C50B6A4E41D93AEA8128B8E004       1\n",
       "2A92732977206FCF8FBFC18B5B71CB34       1\n",
       "8E47B5C96EBE2F66D273448551FDA57B       1\n",
       "Name: inn, Length: 4572, dtype: int64"
      ]
     },
     "execution_count": 32,
     "metadata": {},
     "output_type": "execute_result"
    }
   ],
   "source": [
    "products_df['inn'].value_counts()"
   ]
  },
  {
   "cell_type": "code",
   "execution_count": 33,
   "metadata": {
    "tags": []
   },
   "outputs": [
    {
     "data": {
      "text/plain": [
       "33C9D09F71D3A4E5BD6085AB192C95AB    151\n",
       "22C09928304E360B5B4336B34659A9ED     36\n",
       "845F8A6545F472FC35755286C938BACE     33\n",
       "EA736CB547E51F242DF060D7E5DDE3C4     32\n",
       "7281136266A60B8BB097E57F2E357C99     30\n",
       "                                   ... \n",
       "881DFF3D94248B6B831C4A3789ADA763      1\n",
       "82F11359933D7EC5ACEE9EA9A29202D1      1\n",
       "C740DEFC0D7FD3982434B0CEB50B61FD      1\n",
       "14355250039517F5B138A763A45C16BC      1\n",
       "C5B0FEC1CDD8A55C3B40B8289BDCFD9E      1\n",
       "Name: gtin, Length: 342736, dtype: int64"
      ]
     },
     "execution_count": 33,
     "metadata": {},
     "output_type": "execute_result"
    }
   ],
   "source": [
    "products_df['gtin'].value_counts()"
   ]
  },
  {
   "cell_type": "code",
   "execution_count": 37,
   "metadata": {
    "tags": []
   },
   "outputs": [
    {
     "data": {
      "text/html": [
       "<div>\n",
       "<style scoped>\n",
       "    .dataframe tbody tr th:only-of-type {\n",
       "        vertical-align: middle;\n",
       "    }\n",
       "\n",
       "    .dataframe tbody tr th {\n",
       "        vertical-align: top;\n",
       "    }\n",
       "\n",
       "    .dataframe thead th {\n",
       "        text-align: right;\n",
       "    }\n",
       "</style>\n",
       "<table border=\"1\" class=\"dataframe\">\n",
       "  <thead>\n",
       "    <tr style=\"text-align: right;\">\n",
       "      <th></th>\n",
       "      <th></th>\n",
       "      <th>gtin</th>\n",
       "      <th>inn</th>\n",
       "      <th>product_name</th>\n",
       "      <th>tnved</th>\n",
       "      <th>tnved10</th>\n",
       "      <th>brand</th>\n",
       "      <th>volume</th>\n",
       "    </tr>\n",
       "    <tr>\n",
       "      <th>country</th>\n",
       "      <th>product_short_name</th>\n",
       "      <th></th>\n",
       "      <th></th>\n",
       "      <th></th>\n",
       "      <th></th>\n",
       "      <th></th>\n",
       "      <th></th>\n",
       "      <th></th>\n",
       "    </tr>\n",
       "  </thead>\n",
       "  <tbody>\n",
       "    <tr>\n",
       "      <th>АВСТРАЛИЯ</th>\n",
       "      <th>2868B842B46F754C088D89E130F89585</th>\n",
       "      <td>12</td>\n",
       "      <td>12</td>\n",
       "      <td>12</td>\n",
       "      <td>12</td>\n",
       "      <td>12</td>\n",
       "      <td>12</td>\n",
       "      <td>12</td>\n",
       "    </tr>\n",
       "    <tr>\n",
       "      <th rowspan=\"2\" valign=\"top\">АНГИЛЬЯ</th>\n",
       "      <th>9199AB529CF62D4BDB7E8B1D7459001D</th>\n",
       "      <td>2</td>\n",
       "      <td>2</td>\n",
       "      <td>2</td>\n",
       "      <td>2</td>\n",
       "      <td>2</td>\n",
       "      <td>2</td>\n",
       "      <td>2</td>\n",
       "    </tr>\n",
       "    <tr>\n",
       "      <th>B8AF2335E04E7BAD5168D9B39FABAC21</th>\n",
       "      <td>2</td>\n",
       "      <td>2</td>\n",
       "      <td>2</td>\n",
       "      <td>2</td>\n",
       "      <td>2</td>\n",
       "      <td>2</td>\n",
       "      <td>2</td>\n",
       "    </tr>\n",
       "    <tr>\n",
       "      <th>АРМЕНИЯ</th>\n",
       "      <th>2868B842B46F754C088D89E130F89585</th>\n",
       "      <td>2</td>\n",
       "      <td>2</td>\n",
       "      <td>2</td>\n",
       "      <td>2</td>\n",
       "      <td>2</td>\n",
       "      <td>2</td>\n",
       "      <td>2</td>\n",
       "    </tr>\n",
       "    <tr>\n",
       "      <th rowspan=\"5\" valign=\"top\">БАХРЕЙН</th>\n",
       "      <th>2868B842B46F754C088D89E130F89585</th>\n",
       "      <td>19</td>\n",
       "      <td>19</td>\n",
       "      <td>19</td>\n",
       "      <td>19</td>\n",
       "      <td>19</td>\n",
       "      <td>19</td>\n",
       "      <td>19</td>\n",
       "    </tr>\n",
       "    <tr>\n",
       "      <th>42F04CB526338F1170B0A905EF97F451</th>\n",
       "      <td>2</td>\n",
       "      <td>2</td>\n",
       "      <td>2</td>\n",
       "      <td>2</td>\n",
       "      <td>2</td>\n",
       "      <td>2</td>\n",
       "      <td>2</td>\n",
       "    </tr>\n",
       "    <tr>\n",
       "      <th>670017E2D871B8962E5456CA71F6A1D1</th>\n",
       "      <td>7</td>\n",
       "      <td>7</td>\n",
       "      <td>7</td>\n",
       "      <td>7</td>\n",
       "      <td>7</td>\n",
       "      <td>7</td>\n",
       "      <td>7</td>\n",
       "    </tr>\n",
       "    <tr>\n",
       "      <th>9199AB529CF62D4BDB7E8B1D7459001D</th>\n",
       "      <td>45</td>\n",
       "      <td>45</td>\n",
       "      <td>45</td>\n",
       "      <td>45</td>\n",
       "      <td>45</td>\n",
       "      <td>45</td>\n",
       "      <td>45</td>\n",
       "    </tr>\n",
       "    <tr>\n",
       "      <th>B8AF2335E04E7BAD5168D9B39FABAC21</th>\n",
       "      <td>42</td>\n",
       "      <td>42</td>\n",
       "      <td>42</td>\n",
       "      <td>42</td>\n",
       "      <td>42</td>\n",
       "      <td>42</td>\n",
       "      <td>42</td>\n",
       "    </tr>\n",
       "    <tr>\n",
       "      <th rowspan=\"11\" valign=\"top\">БЕЛАРУСЬ</th>\n",
       "      <th>2055BD76EC29C8B623E402241A862E85</th>\n",
       "      <td>2</td>\n",
       "      <td>2</td>\n",
       "      <td>2</td>\n",
       "      <td>2</td>\n",
       "      <td>2</td>\n",
       "      <td>2</td>\n",
       "      <td>2</td>\n",
       "    </tr>\n",
       "    <tr>\n",
       "      <th>2868B842B46F754C088D89E130F89585</th>\n",
       "      <td>2449</td>\n",
       "      <td>2449</td>\n",
       "      <td>2449</td>\n",
       "      <td>2449</td>\n",
       "      <td>2449</td>\n",
       "      <td>2449</td>\n",
       "      <td>2449</td>\n",
       "    </tr>\n",
       "    <tr>\n",
       "      <th>2C60971C030C7E2F66E9242855B65014</th>\n",
       "      <td>3</td>\n",
       "      <td>3</td>\n",
       "      <td>3</td>\n",
       "      <td>3</td>\n",
       "      <td>3</td>\n",
       "      <td>3</td>\n",
       "      <td>3</td>\n",
       "    </tr>\n",
       "    <tr>\n",
       "      <th>30B1F638C078A06C0813DD3E9C878F0E</th>\n",
       "      <td>3</td>\n",
       "      <td>3</td>\n",
       "      <td>3</td>\n",
       "      <td>3</td>\n",
       "      <td>3</td>\n",
       "      <td>3</td>\n",
       "      <td>3</td>\n",
       "    </tr>\n",
       "    <tr>\n",
       "      <th>4E147573030A5A96278A19A54C6F9319</th>\n",
       "      <td>22</td>\n",
       "      <td>22</td>\n",
       "      <td>22</td>\n",
       "      <td>22</td>\n",
       "      <td>22</td>\n",
       "      <td>22</td>\n",
       "      <td>22</td>\n",
       "    </tr>\n",
       "    <tr>\n",
       "      <th>6C9AEEE99F6F675CCE8A6A126EB0D83A</th>\n",
       "      <td>36</td>\n",
       "      <td>36</td>\n",
       "      <td>36</td>\n",
       "      <td>36</td>\n",
       "      <td>36</td>\n",
       "      <td>36</td>\n",
       "      <td>36</td>\n",
       "    </tr>\n",
       "    <tr>\n",
       "      <th>9199AB529CF62D4BDB7E8B1D7459001D</th>\n",
       "      <td>661</td>\n",
       "      <td>661</td>\n",
       "      <td>661</td>\n",
       "      <td>661</td>\n",
       "      <td>661</td>\n",
       "      <td>661</td>\n",
       "      <td>661</td>\n",
       "    </tr>\n",
       "    <tr>\n",
       "      <th>A7078795180A2A28687DA2A1E8BACB92</th>\n",
       "      <td>1</td>\n",
       "      <td>1</td>\n",
       "      <td>1</td>\n",
       "      <td>1</td>\n",
       "      <td>1</td>\n",
       "      <td>1</td>\n",
       "      <td>1</td>\n",
       "    </tr>\n",
       "    <tr>\n",
       "      <th>B8AF2335E04E7BAD5168D9B39FABAC21</th>\n",
       "      <td>105</td>\n",
       "      <td>105</td>\n",
       "      <td>105</td>\n",
       "      <td>105</td>\n",
       "      <td>105</td>\n",
       "      <td>105</td>\n",
       "      <td>105</td>\n",
       "    </tr>\n",
       "    <tr>\n",
       "      <th>C6AD4B84092CCBB3E3729F73B00C55A1</th>\n",
       "      <td>8</td>\n",
       "      <td>8</td>\n",
       "      <td>8</td>\n",
       "      <td>8</td>\n",
       "      <td>8</td>\n",
       "      <td>8</td>\n",
       "      <td>8</td>\n",
       "    </tr>\n",
       "    <tr>\n",
       "      <th>C740053B0E82D87BB64A24772B4AA438</th>\n",
       "      <td>1</td>\n",
       "      <td>1</td>\n",
       "      <td>1</td>\n",
       "      <td>1</td>\n",
       "      <td>1</td>\n",
       "      <td>1</td>\n",
       "      <td>1</td>\n",
       "    </tr>\n",
       "    <tr>\n",
       "      <th rowspan=\"4\" valign=\"top\">БЕЛЬГИЯ</th>\n",
       "      <th>2868B842B46F754C088D89E130F89585</th>\n",
       "      <td>2</td>\n",
       "      <td>2</td>\n",
       "      <td>2</td>\n",
       "      <td>2</td>\n",
       "      <td>2</td>\n",
       "      <td>2</td>\n",
       "      <td>2</td>\n",
       "    </tr>\n",
       "    <tr>\n",
       "      <th>670017E2D871B8962E5456CA71F6A1D1</th>\n",
       "      <td>1</td>\n",
       "      <td>1</td>\n",
       "      <td>1</td>\n",
       "      <td>1</td>\n",
       "      <td>1</td>\n",
       "      <td>1</td>\n",
       "      <td>1</td>\n",
       "    </tr>\n",
       "    <tr>\n",
       "      <th>9199AB529CF62D4BDB7E8B1D7459001D</th>\n",
       "      <td>5</td>\n",
       "      <td>5</td>\n",
       "      <td>5</td>\n",
       "      <td>5</td>\n",
       "      <td>5</td>\n",
       "      <td>5</td>\n",
       "      <td>3</td>\n",
       "    </tr>\n",
       "    <tr>\n",
       "      <th>B8AF2335E04E7BAD5168D9B39FABAC21</th>\n",
       "      <td>4</td>\n",
       "      <td>4</td>\n",
       "      <td>4</td>\n",
       "      <td>4</td>\n",
       "      <td>4</td>\n",
       "      <td>4</td>\n",
       "      <td>2</td>\n",
       "    </tr>\n",
       "    <tr>\n",
       "      <th rowspan=\"2\" valign=\"top\">БОЛГАРИЯ</th>\n",
       "      <th>2868B842B46F754C088D89E130F89585</th>\n",
       "      <td>8</td>\n",
       "      <td>8</td>\n",
       "      <td>8</td>\n",
       "      <td>8</td>\n",
       "      <td>8</td>\n",
       "      <td>8</td>\n",
       "      <td>8</td>\n",
       "    </tr>\n",
       "    <tr>\n",
       "      <th>9199AB529CF62D4BDB7E8B1D7459001D</th>\n",
       "      <td>297</td>\n",
       "      <td>297</td>\n",
       "      <td>297</td>\n",
       "      <td>297</td>\n",
       "      <td>297</td>\n",
       "      <td>297</td>\n",
       "      <td>296</td>\n",
       "    </tr>\n",
       "    <tr>\n",
       "      <th rowspan=\"4\" valign=\"top\">ГЕРМАНИЯ</th>\n",
       "      <th>2868B842B46F754C088D89E130F89585</th>\n",
       "      <td>58</td>\n",
       "      <td>58</td>\n",
       "      <td>58</td>\n",
       "      <td>58</td>\n",
       "      <td>58</td>\n",
       "      <td>58</td>\n",
       "      <td>58</td>\n",
       "    </tr>\n",
       "    <tr>\n",
       "      <th>42F04CB526338F1170B0A905EF97F451</th>\n",
       "      <td>1</td>\n",
       "      <td>1</td>\n",
       "      <td>1</td>\n",
       "      <td>1</td>\n",
       "      <td>1</td>\n",
       "      <td>1</td>\n",
       "      <td>1</td>\n",
       "    </tr>\n",
       "    <tr>\n",
       "      <th>670017E2D871B8962E5456CA71F6A1D1</th>\n",
       "      <td>4</td>\n",
       "      <td>4</td>\n",
       "      <td>4</td>\n",
       "      <td>4</td>\n",
       "      <td>4</td>\n",
       "      <td>4</td>\n",
       "      <td>4</td>\n",
       "    </tr>\n",
       "    <tr>\n",
       "      <th>75E0EAF2E5062A080CA0FDBBB8140627</th>\n",
       "      <td>21</td>\n",
       "      <td>21</td>\n",
       "      <td>21</td>\n",
       "      <td>21</td>\n",
       "      <td>21</td>\n",
       "      <td>21</td>\n",
       "      <td>21</td>\n",
       "    </tr>\n",
       "  </tbody>\n",
       "</table>\n",
       "</div>"
      ],
      "text/plain": [
       "                                            gtin   inn  product_name  tnved  \\\n",
       "country   product_short_name                                                  \n",
       "АВСТРАЛИЯ 2868B842B46F754C088D89E130F89585    12    12            12     12   \n",
       "АНГИЛЬЯ   9199AB529CF62D4BDB7E8B1D7459001D     2     2             2      2   \n",
       "          B8AF2335E04E7BAD5168D9B39FABAC21     2     2             2      2   \n",
       "АРМЕНИЯ   2868B842B46F754C088D89E130F89585     2     2             2      2   \n",
       "БАХРЕЙН   2868B842B46F754C088D89E130F89585    19    19            19     19   \n",
       "          42F04CB526338F1170B0A905EF97F451     2     2             2      2   \n",
       "          670017E2D871B8962E5456CA71F6A1D1     7     7             7      7   \n",
       "          9199AB529CF62D4BDB7E8B1D7459001D    45    45            45     45   \n",
       "          B8AF2335E04E7BAD5168D9B39FABAC21    42    42            42     42   \n",
       "БЕЛАРУСЬ  2055BD76EC29C8B623E402241A862E85     2     2             2      2   \n",
       "          2868B842B46F754C088D89E130F89585  2449  2449          2449   2449   \n",
       "          2C60971C030C7E2F66E9242855B65014     3     3             3      3   \n",
       "          30B1F638C078A06C0813DD3E9C878F0E     3     3             3      3   \n",
       "          4E147573030A5A96278A19A54C6F9319    22    22            22     22   \n",
       "          6C9AEEE99F6F675CCE8A6A126EB0D83A    36    36            36     36   \n",
       "          9199AB529CF62D4BDB7E8B1D7459001D   661   661           661    661   \n",
       "          A7078795180A2A28687DA2A1E8BACB92     1     1             1      1   \n",
       "          B8AF2335E04E7BAD5168D9B39FABAC21   105   105           105    105   \n",
       "          C6AD4B84092CCBB3E3729F73B00C55A1     8     8             8      8   \n",
       "          C740053B0E82D87BB64A24772B4AA438     1     1             1      1   \n",
       "БЕЛЬГИЯ   2868B842B46F754C088D89E130F89585     2     2             2      2   \n",
       "          670017E2D871B8962E5456CA71F6A1D1     1     1             1      1   \n",
       "          9199AB529CF62D4BDB7E8B1D7459001D     5     5             5      5   \n",
       "          B8AF2335E04E7BAD5168D9B39FABAC21     4     4             4      4   \n",
       "БОЛГАРИЯ  2868B842B46F754C088D89E130F89585     8     8             8      8   \n",
       "          9199AB529CF62D4BDB7E8B1D7459001D   297   297           297    297   \n",
       "ГЕРМАНИЯ  2868B842B46F754C088D89E130F89585    58    58            58     58   \n",
       "          42F04CB526338F1170B0A905EF97F451     1     1             1      1   \n",
       "          670017E2D871B8962E5456CA71F6A1D1     4     4             4      4   \n",
       "          75E0EAF2E5062A080CA0FDBBB8140627    21    21            21     21   \n",
       "\n",
       "                                            tnved10  brand  volume  \n",
       "country   product_short_name                                        \n",
       "АВСТРАЛИЯ 2868B842B46F754C088D89E130F89585       12     12      12  \n",
       "АНГИЛЬЯ   9199AB529CF62D4BDB7E8B1D7459001D        2      2       2  \n",
       "          B8AF2335E04E7BAD5168D9B39FABAC21        2      2       2  \n",
       "АРМЕНИЯ   2868B842B46F754C088D89E130F89585        2      2       2  \n",
       "БАХРЕЙН   2868B842B46F754C088D89E130F89585       19     19      19  \n",
       "          42F04CB526338F1170B0A905EF97F451        2      2       2  \n",
       "          670017E2D871B8962E5456CA71F6A1D1        7      7       7  \n",
       "          9199AB529CF62D4BDB7E8B1D7459001D       45     45      45  \n",
       "          B8AF2335E04E7BAD5168D9B39FABAC21       42     42      42  \n",
       "БЕЛАРУСЬ  2055BD76EC29C8B623E402241A862E85        2      2       2  \n",
       "          2868B842B46F754C088D89E130F89585     2449   2449    2449  \n",
       "          2C60971C030C7E2F66E9242855B65014        3      3       3  \n",
       "          30B1F638C078A06C0813DD3E9C878F0E        3      3       3  \n",
       "          4E147573030A5A96278A19A54C6F9319       22     22      22  \n",
       "          6C9AEEE99F6F675CCE8A6A126EB0D83A       36     36      36  \n",
       "          9199AB529CF62D4BDB7E8B1D7459001D      661    661     661  \n",
       "          A7078795180A2A28687DA2A1E8BACB92        1      1       1  \n",
       "          B8AF2335E04E7BAD5168D9B39FABAC21      105    105     105  \n",
       "          C6AD4B84092CCBB3E3729F73B00C55A1        8      8       8  \n",
       "          C740053B0E82D87BB64A24772B4AA438        1      1       1  \n",
       "БЕЛЬГИЯ   2868B842B46F754C088D89E130F89585        2      2       2  \n",
       "          670017E2D871B8962E5456CA71F6A1D1        1      1       1  \n",
       "          9199AB529CF62D4BDB7E8B1D7459001D        5      5       3  \n",
       "          B8AF2335E04E7BAD5168D9B39FABAC21        4      4       2  \n",
       "БОЛГАРИЯ  2868B842B46F754C088D89E130F89585        8      8       8  \n",
       "          9199AB529CF62D4BDB7E8B1D7459001D      297    297     296  \n",
       "ГЕРМАНИЯ  2868B842B46F754C088D89E130F89585       58     58      58  \n",
       "          42F04CB526338F1170B0A905EF97F451        1      1       1  \n",
       "          670017E2D871B8962E5456CA71F6A1D1        4      4       4  \n",
       "          75E0EAF2E5062A080CA0FDBBB8140627       21     21      21  "
      ]
     },
     "execution_count": 37,
     "metadata": {},
     "output_type": "execute_result"
    }
   ],
   "source": [
    "products_df.groupby(['country', 'product_short_name']).count().head(30)"
   ]
  },
  {
   "cell_type": "code",
   "execution_count": 38,
   "metadata": {
    "tags": []
   },
   "outputs": [
    {
     "data": {
      "text/html": [
       "<div>\n",
       "<style scoped>\n",
       "    .dataframe tbody tr th:only-of-type {\n",
       "        vertical-align: middle;\n",
       "    }\n",
       "\n",
       "    .dataframe tbody tr th {\n",
       "        vertical-align: top;\n",
       "    }\n",
       "\n",
       "    .dataframe thead th {\n",
       "        text-align: right;\n",
       "    }\n",
       "</style>\n",
       "<table border=\"1\" class=\"dataframe\">\n",
       "  <thead>\n",
       "    <tr style=\"text-align: right;\">\n",
       "      <th></th>\n",
       "      <th></th>\n",
       "      <th>gtin</th>\n",
       "      <th>inn</th>\n",
       "      <th>product_name</th>\n",
       "      <th>tnved</th>\n",
       "      <th>tnved10</th>\n",
       "      <th>brand</th>\n",
       "      <th>volume</th>\n",
       "    </tr>\n",
       "    <tr>\n",
       "      <th>product_short_name</th>\n",
       "      <th>country</th>\n",
       "      <th></th>\n",
       "      <th></th>\n",
       "      <th></th>\n",
       "      <th></th>\n",
       "      <th></th>\n",
       "      <th></th>\n",
       "      <th></th>\n",
       "    </tr>\n",
       "  </thead>\n",
       "  <tbody>\n",
       "    <tr>\n",
       "      <th>02A7675BFD8266523047EAB377029745</th>\n",
       "      <th>КИТАЙ</th>\n",
       "      <td>1</td>\n",
       "      <td>1</td>\n",
       "      <td>1</td>\n",
       "      <td>1</td>\n",
       "      <td>1</td>\n",
       "      <td>1</td>\n",
       "      <td>1</td>\n",
       "    </tr>\n",
       "    <tr>\n",
       "      <th>0897CDEC3F48C9278EB8C45C96712AF8</th>\n",
       "      <th>ИСПАНИЯ</th>\n",
       "      <td>1</td>\n",
       "      <td>1</td>\n",
       "      <td>1</td>\n",
       "      <td>1</td>\n",
       "      <td>1</td>\n",
       "      <td>1</td>\n",
       "      <td>1</td>\n",
       "    </tr>\n",
       "    <tr>\n",
       "      <th rowspan=\"2\" valign=\"top\">112E4FF1E283A93AE54A048A72D60F50</th>\n",
       "      <th>ИСПАНИЯ</th>\n",
       "      <td>15</td>\n",
       "      <td>15</td>\n",
       "      <td>15</td>\n",
       "      <td>15</td>\n",
       "      <td>15</td>\n",
       "      <td>15</td>\n",
       "      <td>15</td>\n",
       "    </tr>\n",
       "    <tr>\n",
       "      <th>ФРАНЦИЯ</th>\n",
       "      <td>3</td>\n",
       "      <td>3</td>\n",
       "      <td>3</td>\n",
       "      <td>3</td>\n",
       "      <td>3</td>\n",
       "      <td>3</td>\n",
       "      <td>3</td>\n",
       "    </tr>\n",
       "    <tr>\n",
       "      <th>1A31E7D277720BD89C535C4917D61FDC</th>\n",
       "      <th>ФРАНЦИЯ</th>\n",
       "      <td>1</td>\n",
       "      <td>1</td>\n",
       "      <td>1</td>\n",
       "      <td>1</td>\n",
       "      <td>1</td>\n",
       "      <td>1</td>\n",
       "      <td>1</td>\n",
       "    </tr>\n",
       "    <tr>\n",
       "      <th>2055BD76EC29C8B623E402241A862E85</th>\n",
       "      <th>БЕЛАРУСЬ</th>\n",
       "      <td>2</td>\n",
       "      <td>2</td>\n",
       "      <td>2</td>\n",
       "      <td>2</td>\n",
       "      <td>2</td>\n",
       "      <td>2</td>\n",
       "      <td>2</td>\n",
       "    </tr>\n",
       "    <tr>\n",
       "      <th>2169F5521C7AE342374A8298DBCA26FD</th>\n",
       "      <th>РОССИЯ</th>\n",
       "      <td>7</td>\n",
       "      <td>7</td>\n",
       "      <td>7</td>\n",
       "      <td>7</td>\n",
       "      <td>7</td>\n",
       "      <td>7</td>\n",
       "      <td>1</td>\n",
       "    </tr>\n",
       "    <tr>\n",
       "      <th>259125C0A83B5BD3F7E9CC6339252B9A</th>\n",
       "      <th>РОССИЯ</th>\n",
       "      <td>1</td>\n",
       "      <td>1</td>\n",
       "      <td>1</td>\n",
       "      <td>1</td>\n",
       "      <td>1</td>\n",
       "      <td>1</td>\n",
       "      <td>1</td>\n",
       "    </tr>\n",
       "    <tr>\n",
       "      <th rowspan=\"22\" valign=\"top\">2868B842B46F754C088D89E130F89585</th>\n",
       "      <th>АВСТРАЛИЯ</th>\n",
       "      <td>12</td>\n",
       "      <td>12</td>\n",
       "      <td>12</td>\n",
       "      <td>12</td>\n",
       "      <td>12</td>\n",
       "      <td>12</td>\n",
       "      <td>12</td>\n",
       "    </tr>\n",
       "    <tr>\n",
       "      <th>АРМЕНИЯ</th>\n",
       "      <td>2</td>\n",
       "      <td>2</td>\n",
       "      <td>2</td>\n",
       "      <td>2</td>\n",
       "      <td>2</td>\n",
       "      <td>2</td>\n",
       "      <td>2</td>\n",
       "    </tr>\n",
       "    <tr>\n",
       "      <th>БАХРЕЙН</th>\n",
       "      <td>19</td>\n",
       "      <td>19</td>\n",
       "      <td>19</td>\n",
       "      <td>19</td>\n",
       "      <td>19</td>\n",
       "      <td>19</td>\n",
       "      <td>19</td>\n",
       "    </tr>\n",
       "    <tr>\n",
       "      <th>БЕЛАРУСЬ</th>\n",
       "      <td>2449</td>\n",
       "      <td>2449</td>\n",
       "      <td>2449</td>\n",
       "      <td>2449</td>\n",
       "      <td>2449</td>\n",
       "      <td>2449</td>\n",
       "      <td>2449</td>\n",
       "    </tr>\n",
       "    <tr>\n",
       "      <th>БЕЛЬГИЯ</th>\n",
       "      <td>2</td>\n",
       "      <td>2</td>\n",
       "      <td>2</td>\n",
       "      <td>2</td>\n",
       "      <td>2</td>\n",
       "      <td>2</td>\n",
       "      <td>2</td>\n",
       "    </tr>\n",
       "    <tr>\n",
       "      <th>БОЛГАРИЯ</th>\n",
       "      <td>8</td>\n",
       "      <td>8</td>\n",
       "      <td>8</td>\n",
       "      <td>8</td>\n",
       "      <td>8</td>\n",
       "      <td>8</td>\n",
       "      <td>8</td>\n",
       "    </tr>\n",
       "    <tr>\n",
       "      <th>ГЕРМАНИЯ</th>\n",
       "      <td>58</td>\n",
       "      <td>58</td>\n",
       "      <td>58</td>\n",
       "      <td>58</td>\n",
       "      <td>58</td>\n",
       "      <td>58</td>\n",
       "      <td>58</td>\n",
       "    </tr>\n",
       "    <tr>\n",
       "      <th>ДАНИЯ</th>\n",
       "      <td>1</td>\n",
       "      <td>1</td>\n",
       "      <td>1</td>\n",
       "      <td>1</td>\n",
       "      <td>1</td>\n",
       "      <td>1</td>\n",
       "      <td>1</td>\n",
       "    </tr>\n",
       "    <tr>\n",
       "      <th>ИЗРАИЛЬ</th>\n",
       "      <td>29</td>\n",
       "      <td>29</td>\n",
       "      <td>29</td>\n",
       "      <td>29</td>\n",
       "      <td>29</td>\n",
       "      <td>29</td>\n",
       "      <td>29</td>\n",
       "    </tr>\n",
       "    <tr>\n",
       "      <th>ИНДИЯ</th>\n",
       "      <td>1</td>\n",
       "      <td>1</td>\n",
       "      <td>1</td>\n",
       "      <td>1</td>\n",
       "      <td>1</td>\n",
       "      <td>1</td>\n",
       "      <td>1</td>\n",
       "    </tr>\n",
       "    <tr>\n",
       "      <th>ИСПАНИЯ</th>\n",
       "      <td>88</td>\n",
       "      <td>88</td>\n",
       "      <td>88</td>\n",
       "      <td>88</td>\n",
       "      <td>88</td>\n",
       "      <td>88</td>\n",
       "      <td>83</td>\n",
       "    </tr>\n",
       "    <tr>\n",
       "      <th>ИТАЛИЯ</th>\n",
       "      <td>1145</td>\n",
       "      <td>1145</td>\n",
       "      <td>1145</td>\n",
       "      <td>1145</td>\n",
       "      <td>1145</td>\n",
       "      <td>1145</td>\n",
       "      <td>964</td>\n",
       "    </tr>\n",
       "    <tr>\n",
       "      <th>КАНАДА</th>\n",
       "      <td>24</td>\n",
       "      <td>24</td>\n",
       "      <td>24</td>\n",
       "      <td>24</td>\n",
       "      <td>24</td>\n",
       "      <td>24</td>\n",
       "      <td>24</td>\n",
       "    </tr>\n",
       "    <tr>\n",
       "      <th>КИТАЙ</th>\n",
       "      <td>82</td>\n",
       "      <td>82</td>\n",
       "      <td>82</td>\n",
       "      <td>82</td>\n",
       "      <td>82</td>\n",
       "      <td>82</td>\n",
       "      <td>82</td>\n",
       "    </tr>\n",
       "    <tr>\n",
       "      <th>КОРЕЯ, РЕСПУБЛИКА</th>\n",
       "      <td>1</td>\n",
       "      <td>1</td>\n",
       "      <td>1</td>\n",
       "      <td>1</td>\n",
       "      <td>1</td>\n",
       "      <td>1</td>\n",
       "      <td>1</td>\n",
       "    </tr>\n",
       "    <tr>\n",
       "      <th>ЛАТВИЯ</th>\n",
       "      <td>42</td>\n",
       "      <td>42</td>\n",
       "      <td>42</td>\n",
       "      <td>42</td>\n",
       "      <td>42</td>\n",
       "      <td>42</td>\n",
       "      <td>42</td>\n",
       "    </tr>\n",
       "    <tr>\n",
       "      <th>НИДЕРЛАНДЫ</th>\n",
       "      <td>17</td>\n",
       "      <td>17</td>\n",
       "      <td>17</td>\n",
       "      <td>17</td>\n",
       "      <td>17</td>\n",
       "      <td>17</td>\n",
       "      <td>17</td>\n",
       "    </tr>\n",
       "    <tr>\n",
       "      <th>ОБЪЕДИНЕННЫЕ АРАБСКИЕ ЭМИРАТЫ</th>\n",
       "      <td>549</td>\n",
       "      <td>549</td>\n",
       "      <td>549</td>\n",
       "      <td>549</td>\n",
       "      <td>549</td>\n",
       "      <td>549</td>\n",
       "      <td>547</td>\n",
       "    </tr>\n",
       "    <tr>\n",
       "      <th>ОМАН</th>\n",
       "      <td>18</td>\n",
       "      <td>18</td>\n",
       "      <td>18</td>\n",
       "      <td>18</td>\n",
       "      <td>18</td>\n",
       "      <td>18</td>\n",
       "      <td>18</td>\n",
       "    </tr>\n",
       "    <tr>\n",
       "      <th>ПОЛЬША</th>\n",
       "      <td>154</td>\n",
       "      <td>154</td>\n",
       "      <td>154</td>\n",
       "      <td>154</td>\n",
       "      <td>154</td>\n",
       "      <td>154</td>\n",
       "      <td>154</td>\n",
       "    </tr>\n",
       "    <tr>\n",
       "      <th>РОССИЯ</th>\n",
       "      <td>4895</td>\n",
       "      <td>4895</td>\n",
       "      <td>4895</td>\n",
       "      <td>4895</td>\n",
       "      <td>4895</td>\n",
       "      <td>4895</td>\n",
       "      <td>3808</td>\n",
       "    </tr>\n",
       "    <tr>\n",
       "      <th>САУДОВСКАЯ АРАВИЯ</th>\n",
       "      <td>1</td>\n",
       "      <td>1</td>\n",
       "      <td>1</td>\n",
       "      <td>1</td>\n",
       "      <td>1</td>\n",
       "      <td>1</td>\n",
       "      <td>1</td>\n",
       "    </tr>\n",
       "  </tbody>\n",
       "</table>\n",
       "</div>"
      ],
      "text/plain": [
       "                                                                gtin   inn  \\\n",
       "product_short_name               country                                     \n",
       "02A7675BFD8266523047EAB377029745 КИТАЙ                             1     1   \n",
       "0897CDEC3F48C9278EB8C45C96712AF8 ИСПАНИЯ                           1     1   \n",
       "112E4FF1E283A93AE54A048A72D60F50 ИСПАНИЯ                          15    15   \n",
       "                                 ФРАНЦИЯ                           3     3   \n",
       "1A31E7D277720BD89C535C4917D61FDC ФРАНЦИЯ                           1     1   \n",
       "2055BD76EC29C8B623E402241A862E85 БЕЛАРУСЬ                          2     2   \n",
       "2169F5521C7AE342374A8298DBCA26FD РОССИЯ                            7     7   \n",
       "259125C0A83B5BD3F7E9CC6339252B9A РОССИЯ                            1     1   \n",
       "2868B842B46F754C088D89E130F89585 АВСТРАЛИЯ                        12    12   \n",
       "                                 АРМЕНИЯ                           2     2   \n",
       "                                 БАХРЕЙН                          19    19   \n",
       "                                 БЕЛАРУСЬ                       2449  2449   \n",
       "                                 БЕЛЬГИЯ                           2     2   \n",
       "                                 БОЛГАРИЯ                          8     8   \n",
       "                                 ГЕРМАНИЯ                         58    58   \n",
       "                                 ДАНИЯ                             1     1   \n",
       "                                 ИЗРАИЛЬ                          29    29   \n",
       "                                 ИНДИЯ                             1     1   \n",
       "                                 ИСПАНИЯ                          88    88   \n",
       "                                 ИТАЛИЯ                         1145  1145   \n",
       "                                 КАНАДА                           24    24   \n",
       "                                 КИТАЙ                            82    82   \n",
       "                                 КОРЕЯ, РЕСПУБЛИКА                 1     1   \n",
       "                                 ЛАТВИЯ                           42    42   \n",
       "                                 НИДЕРЛАНДЫ                       17    17   \n",
       "                                 ОБЪЕДИНЕННЫЕ АРАБСКИЕ ЭМИРАТЫ   549   549   \n",
       "                                 ОМАН                             18    18   \n",
       "                                 ПОЛЬША                          154   154   \n",
       "                                 РОССИЯ                         4895  4895   \n",
       "                                 САУДОВСКАЯ АРАВИЯ                 1     1   \n",
       "\n",
       "                                                                product_name  \\\n",
       "product_short_name               country                                       \n",
       "02A7675BFD8266523047EAB377029745 КИТАЙ                                     1   \n",
       "0897CDEC3F48C9278EB8C45C96712AF8 ИСПАНИЯ                                   1   \n",
       "112E4FF1E283A93AE54A048A72D60F50 ИСПАНИЯ                                  15   \n",
       "                                 ФРАНЦИЯ                                   3   \n",
       "1A31E7D277720BD89C535C4917D61FDC ФРАНЦИЯ                                   1   \n",
       "2055BD76EC29C8B623E402241A862E85 БЕЛАРУСЬ                                  2   \n",
       "2169F5521C7AE342374A8298DBCA26FD РОССИЯ                                    7   \n",
       "259125C0A83B5BD3F7E9CC6339252B9A РОССИЯ                                    1   \n",
       "2868B842B46F754C088D89E130F89585 АВСТРАЛИЯ                                12   \n",
       "                                 АРМЕНИЯ                                   2   \n",
       "                                 БАХРЕЙН                                  19   \n",
       "                                 БЕЛАРУСЬ                               2449   \n",
       "                                 БЕЛЬГИЯ                                   2   \n",
       "                                 БОЛГАРИЯ                                  8   \n",
       "                                 ГЕРМАНИЯ                                 58   \n",
       "                                 ДАНИЯ                                     1   \n",
       "                                 ИЗРАИЛЬ                                  29   \n",
       "                                 ИНДИЯ                                     1   \n",
       "                                 ИСПАНИЯ                                  88   \n",
       "                                 ИТАЛИЯ                                 1145   \n",
       "                                 КАНАДА                                   24   \n",
       "                                 КИТАЙ                                    82   \n",
       "                                 КОРЕЯ, РЕСПУБЛИКА                         1   \n",
       "                                 ЛАТВИЯ                                   42   \n",
       "                                 НИДЕРЛАНДЫ                               17   \n",
       "                                 ОБЪЕДИНЕННЫЕ АРАБСКИЕ ЭМИРАТЫ           549   \n",
       "                                 ОМАН                                     18   \n",
       "                                 ПОЛЬША                                  154   \n",
       "                                 РОССИЯ                                 4895   \n",
       "                                 САУДОВСКАЯ АРАВИЯ                         1   \n",
       "\n",
       "                                                                tnved  \\\n",
       "product_short_name               country                                \n",
       "02A7675BFD8266523047EAB377029745 КИТАЙ                              1   \n",
       "0897CDEC3F48C9278EB8C45C96712AF8 ИСПАНИЯ                            1   \n",
       "112E4FF1E283A93AE54A048A72D60F50 ИСПАНИЯ                           15   \n",
       "                                 ФРАНЦИЯ                            3   \n",
       "1A31E7D277720BD89C535C4917D61FDC ФРАНЦИЯ                            1   \n",
       "2055BD76EC29C8B623E402241A862E85 БЕЛАРУСЬ                           2   \n",
       "2169F5521C7AE342374A8298DBCA26FD РОССИЯ                             7   \n",
       "259125C0A83B5BD3F7E9CC6339252B9A РОССИЯ                             1   \n",
       "2868B842B46F754C088D89E130F89585 АВСТРАЛИЯ                         12   \n",
       "                                 АРМЕНИЯ                            2   \n",
       "                                 БАХРЕЙН                           19   \n",
       "                                 БЕЛАРУСЬ                        2449   \n",
       "                                 БЕЛЬГИЯ                            2   \n",
       "                                 БОЛГАРИЯ                           8   \n",
       "                                 ГЕРМАНИЯ                          58   \n",
       "                                 ДАНИЯ                              1   \n",
       "                                 ИЗРАИЛЬ                           29   \n",
       "                                 ИНДИЯ                              1   \n",
       "                                 ИСПАНИЯ                           88   \n",
       "                                 ИТАЛИЯ                          1145   \n",
       "                                 КАНАДА                            24   \n",
       "                                 КИТАЙ                             82   \n",
       "                                 КОРЕЯ, РЕСПУБЛИКА                  1   \n",
       "                                 ЛАТВИЯ                            42   \n",
       "                                 НИДЕРЛАНДЫ                        17   \n",
       "                                 ОБЪЕДИНЕННЫЕ АРАБСКИЕ ЭМИРАТЫ    549   \n",
       "                                 ОМАН                              18   \n",
       "                                 ПОЛЬША                           154   \n",
       "                                 РОССИЯ                          4895   \n",
       "                                 САУДОВСКАЯ АРАВИЯ                  1   \n",
       "\n",
       "                                                                tnved10  \\\n",
       "product_short_name               country                                  \n",
       "02A7675BFD8266523047EAB377029745 КИТАЙ                                1   \n",
       "0897CDEC3F48C9278EB8C45C96712AF8 ИСПАНИЯ                              1   \n",
       "112E4FF1E283A93AE54A048A72D60F50 ИСПАНИЯ                             15   \n",
       "                                 ФРАНЦИЯ                              3   \n",
       "1A31E7D277720BD89C535C4917D61FDC ФРАНЦИЯ                              1   \n",
       "2055BD76EC29C8B623E402241A862E85 БЕЛАРУСЬ                             2   \n",
       "2169F5521C7AE342374A8298DBCA26FD РОССИЯ                               7   \n",
       "259125C0A83B5BD3F7E9CC6339252B9A РОССИЯ                               1   \n",
       "2868B842B46F754C088D89E130F89585 АВСТРАЛИЯ                           12   \n",
       "                                 АРМЕНИЯ                              2   \n",
       "                                 БАХРЕЙН                             19   \n",
       "                                 БЕЛАРУСЬ                          2449   \n",
       "                                 БЕЛЬГИЯ                              2   \n",
       "                                 БОЛГАРИЯ                             8   \n",
       "                                 ГЕРМАНИЯ                            58   \n",
       "                                 ДАНИЯ                                1   \n",
       "                                 ИЗРАИЛЬ                             29   \n",
       "                                 ИНДИЯ                                1   \n",
       "                                 ИСПАНИЯ                             88   \n",
       "                                 ИТАЛИЯ                            1145   \n",
       "                                 КАНАДА                              24   \n",
       "                                 КИТАЙ                               82   \n",
       "                                 КОРЕЯ, РЕСПУБЛИКА                    1   \n",
       "                                 ЛАТВИЯ                              42   \n",
       "                                 НИДЕРЛАНДЫ                          17   \n",
       "                                 ОБЪЕДИНЕННЫЕ АРАБСКИЕ ЭМИРАТЫ      549   \n",
       "                                 ОМАН                                18   \n",
       "                                 ПОЛЬША                             154   \n",
       "                                 РОССИЯ                            4895   \n",
       "                                 САУДОВСКАЯ АРАВИЯ                    1   \n",
       "\n",
       "                                                                brand  volume  \n",
       "product_short_name               country                                       \n",
       "02A7675BFD8266523047EAB377029745 КИТАЙ                              1       1  \n",
       "0897CDEC3F48C9278EB8C45C96712AF8 ИСПАНИЯ                            1       1  \n",
       "112E4FF1E283A93AE54A048A72D60F50 ИСПАНИЯ                           15      15  \n",
       "                                 ФРАНЦИЯ                            3       3  \n",
       "1A31E7D277720BD89C535C4917D61FDC ФРАНЦИЯ                            1       1  \n",
       "2055BD76EC29C8B623E402241A862E85 БЕЛАРУСЬ                           2       2  \n",
       "2169F5521C7AE342374A8298DBCA26FD РОССИЯ                             7       1  \n",
       "259125C0A83B5BD3F7E9CC6339252B9A РОССИЯ                             1       1  \n",
       "2868B842B46F754C088D89E130F89585 АВСТРАЛИЯ                         12      12  \n",
       "                                 АРМЕНИЯ                            2       2  \n",
       "                                 БАХРЕЙН                           19      19  \n",
       "                                 БЕЛАРУСЬ                        2449    2449  \n",
       "                                 БЕЛЬГИЯ                            2       2  \n",
       "                                 БОЛГАРИЯ                           8       8  \n",
       "                                 ГЕРМАНИЯ                          58      58  \n",
       "                                 ДАНИЯ                              1       1  \n",
       "                                 ИЗРАИЛЬ                           29      29  \n",
       "                                 ИНДИЯ                              1       1  \n",
       "                                 ИСПАНИЯ                           88      83  \n",
       "                                 ИТАЛИЯ                          1145     964  \n",
       "                                 КАНАДА                            24      24  \n",
       "                                 КИТАЙ                             82      82  \n",
       "                                 КОРЕЯ, РЕСПУБЛИКА                  1       1  \n",
       "                                 ЛАТВИЯ                            42      42  \n",
       "                                 НИДЕРЛАНДЫ                        17      17  \n",
       "                                 ОБЪЕДИНЕННЫЕ АРАБСКИЕ ЭМИРАТЫ    549     547  \n",
       "                                 ОМАН                              18      18  \n",
       "                                 ПОЛЬША                           154     154  \n",
       "                                 РОССИЯ                          4895    3808  \n",
       "                                 САУДОВСКАЯ АРАВИЯ                  1       1  "
      ]
     },
     "execution_count": 38,
     "metadata": {},
     "output_type": "execute_result"
    }
   ],
   "source": [
    "products_df.groupby(['product_short_name', 'country']).count().head(30)"
   ]
  },
  {
   "cell_type": "code",
   "execution_count": 53,
   "metadata": {
    "tags": []
   },
   "outputs": [
    {
     "data": {
      "text/html": [
       "<div>\n",
       "<style scoped>\n",
       "    .dataframe tbody tr th:only-of-type {\n",
       "        vertical-align: middle;\n",
       "    }\n",
       "\n",
       "    .dataframe tbody tr th {\n",
       "        vertical-align: top;\n",
       "    }\n",
       "\n",
       "    .dataframe thead th {\n",
       "        text-align: right;\n",
       "    }\n",
       "</style>\n",
       "<table border=\"1\" class=\"dataframe\">\n",
       "  <thead>\n",
       "    <tr style=\"text-align: right;\">\n",
       "      <th></th>\n",
       "      <th>gtin</th>\n",
       "      <th>inn</th>\n",
       "      <th>product_name</th>\n",
       "      <th>tnved</th>\n",
       "      <th>tnved10</th>\n",
       "      <th>brand</th>\n",
       "      <th>country</th>\n",
       "      <th>volume</th>\n",
       "    </tr>\n",
       "    <tr>\n",
       "      <th>product_short_name</th>\n",
       "      <th></th>\n",
       "      <th></th>\n",
       "      <th></th>\n",
       "      <th></th>\n",
       "      <th></th>\n",
       "      <th></th>\n",
       "      <th></th>\n",
       "      <th></th>\n",
       "    </tr>\n",
       "  </thead>\n",
       "  <tbody>\n",
       "    <tr>\n",
       "      <th>9199AB529CF62D4BDB7E8B1D7459001D</th>\n",
       "      <td>141044</td>\n",
       "      <td>141044</td>\n",
       "      <td>141044</td>\n",
       "      <td>141044</td>\n",
       "      <td>141044</td>\n",
       "      <td>141044</td>\n",
       "      <td>36593</td>\n",
       "      <td>132858</td>\n",
       "    </tr>\n",
       "    <tr>\n",
       "      <th>B8AF2335E04E7BAD5168D9B39FABAC21</th>\n",
       "      <td>136013</td>\n",
       "      <td>136013</td>\n",
       "      <td>136013</td>\n",
       "      <td>136013</td>\n",
       "      <td>136013</td>\n",
       "      <td>136013</td>\n",
       "      <td>18030</td>\n",
       "      <td>127198</td>\n",
       "    </tr>\n",
       "    <tr>\n",
       "      <th>9F7293E9B9C4AEC1FEC02CF457F72E93</th>\n",
       "      <td>63060</td>\n",
       "      <td>63060</td>\n",
       "      <td>63060</td>\n",
       "      <td>63060</td>\n",
       "      <td>63060</td>\n",
       "      <td>63060</td>\n",
       "      <td>4</td>\n",
       "      <td>6</td>\n",
       "    </tr>\n",
       "    <tr>\n",
       "      <th>2868B842B46F754C088D89E130F89585</th>\n",
       "      <td>37276</td>\n",
       "      <td>37276</td>\n",
       "      <td>37276</td>\n",
       "      <td>37276</td>\n",
       "      <td>37276</td>\n",
       "      <td>37276</td>\n",
       "      <td>12596</td>\n",
       "      <td>35113</td>\n",
       "    </tr>\n",
       "    <tr>\n",
       "      <th>C6AD4B84092CCBB3E3729F73B00C55A1</th>\n",
       "      <td>6741</td>\n",
       "      <td>6741</td>\n",
       "      <td>6741</td>\n",
       "      <td>6741</td>\n",
       "      <td>6741</td>\n",
       "      <td>6741</td>\n",
       "      <td>2117</td>\n",
       "      <td>6149</td>\n",
       "    </tr>\n",
       "    <tr>\n",
       "      <th>...</th>\n",
       "      <td>...</td>\n",
       "      <td>...</td>\n",
       "      <td>...</td>\n",
       "      <td>...</td>\n",
       "      <td>...</td>\n",
       "      <td>...</td>\n",
       "      <td>...</td>\n",
       "      <td>...</td>\n",
       "    </tr>\n",
       "    <tr>\n",
       "      <th>6D2580183CEF6C8AF1CC72E1C6E6FBC4</th>\n",
       "      <td>1</td>\n",
       "      <td>1</td>\n",
       "      <td>1</td>\n",
       "      <td>1</td>\n",
       "      <td>1</td>\n",
       "      <td>1</td>\n",
       "      <td>0</td>\n",
       "      <td>1</td>\n",
       "    </tr>\n",
       "    <tr>\n",
       "      <th>AF06EE07B96163C227E593577E40D0EC</th>\n",
       "      <td>1</td>\n",
       "      <td>1</td>\n",
       "      <td>1</td>\n",
       "      <td>1</td>\n",
       "      <td>1</td>\n",
       "      <td>1</td>\n",
       "      <td>0</td>\n",
       "      <td>1</td>\n",
       "    </tr>\n",
       "    <tr>\n",
       "      <th>391E7EEE49DD89BEE41F5B9770ABB363</th>\n",
       "      <td>1</td>\n",
       "      <td>1</td>\n",
       "      <td>1</td>\n",
       "      <td>1</td>\n",
       "      <td>1</td>\n",
       "      <td>1</td>\n",
       "      <td>1</td>\n",
       "      <td>1</td>\n",
       "    </tr>\n",
       "    <tr>\n",
       "      <th>B3DE72BD69F2716D9E3C2423BF311B65</th>\n",
       "      <td>1</td>\n",
       "      <td>1</td>\n",
       "      <td>1</td>\n",
       "      <td>1</td>\n",
       "      <td>1</td>\n",
       "      <td>1</td>\n",
       "      <td>0</td>\n",
       "      <td>1</td>\n",
       "    </tr>\n",
       "    <tr>\n",
       "      <th>AEBCC4DAC9D487A5068C57D368426066</th>\n",
       "      <td>1</td>\n",
       "      <td>1</td>\n",
       "      <td>1</td>\n",
       "      <td>1</td>\n",
       "      <td>1</td>\n",
       "      <td>1</td>\n",
       "      <td>0</td>\n",
       "      <td>1</td>\n",
       "    </tr>\n",
       "  </tbody>\n",
       "</table>\n",
       "<p>137 rows × 8 columns</p>\n",
       "</div>"
      ],
      "text/plain": [
       "                                    gtin     inn  product_name   tnved  \\\n",
       "product_short_name                                                       \n",
       "9199AB529CF62D4BDB7E8B1D7459001D  141044  141044        141044  141044   \n",
       "B8AF2335E04E7BAD5168D9B39FABAC21  136013  136013        136013  136013   \n",
       "9F7293E9B9C4AEC1FEC02CF457F72E93   63060   63060         63060   63060   \n",
       "2868B842B46F754C088D89E130F89585   37276   37276         37276   37276   \n",
       "C6AD4B84092CCBB3E3729F73B00C55A1    6741    6741          6741    6741   \n",
       "...                                  ...     ...           ...     ...   \n",
       "6D2580183CEF6C8AF1CC72E1C6E6FBC4       1       1             1       1   \n",
       "AF06EE07B96163C227E593577E40D0EC       1       1             1       1   \n",
       "391E7EEE49DD89BEE41F5B9770ABB363       1       1             1       1   \n",
       "B3DE72BD69F2716D9E3C2423BF311B65       1       1             1       1   \n",
       "AEBCC4DAC9D487A5068C57D368426066       1       1             1       1   \n",
       "\n",
       "                                  tnved10   brand  country  volume  \n",
       "product_short_name                                                  \n",
       "9199AB529CF62D4BDB7E8B1D7459001D   141044  141044    36593  132858  \n",
       "B8AF2335E04E7BAD5168D9B39FABAC21   136013  136013    18030  127198  \n",
       "9F7293E9B9C4AEC1FEC02CF457F72E93    63060   63060        4       6  \n",
       "2868B842B46F754C088D89E130F89585    37276   37276    12596   35113  \n",
       "C6AD4B84092CCBB3E3729F73B00C55A1     6741    6741     2117    6149  \n",
       "...                                   ...     ...      ...     ...  \n",
       "6D2580183CEF6C8AF1CC72E1C6E6FBC4        1       1        0       1  \n",
       "AF06EE07B96163C227E593577E40D0EC        1       1        0       1  \n",
       "391E7EEE49DD89BEE41F5B9770ABB363        1       1        1       1  \n",
       "B3DE72BD69F2716D9E3C2423BF311B65        1       1        0       1  \n",
       "AEBCC4DAC9D487A5068C57D368426066        1       1        0       1  \n",
       "\n",
       "[137 rows x 8 columns]"
      ]
     },
     "execution_count": 53,
     "metadata": {},
     "output_type": "execute_result"
    }
   ],
   "source": [
    "products_df.groupby(['product_short_name']).count().sort_values(by='gtin', ascending=False)"
   ]
  },
  {
   "cell_type": "code",
   "execution_count": 67,
   "metadata": {
    "tags": []
   },
   "outputs": [
    {
     "data": {
      "text/plain": [
       "gtin                  14719\n",
       "inn                   14719\n",
       "product_name          14719\n",
       "product_short_name    14719\n",
       "tnved                 14719\n",
       "tnved10               14719\n",
       "brand                 14719\n",
       "country               14719\n",
       "volume                 9516\n",
       "dtype: int64"
      ]
     },
     "execution_count": 67,
     "metadata": {},
     "output_type": "execute_result"
    }
   ],
   "source": [
    "products_df[products_df['country'] == 'РОССИЯ'].count()"
   ]
  },
  {
   "cell_type": "markdown",
   "metadata": {
    "jp-MarkdownHeadingCollapsed": true,
    "tags": []
   },
   "source": [
    "# Агрегированные"
   ]
  },
  {
   "cell_type": "markdown",
   "metadata": {
    "tags": []
   },
   "source": [
    "## Перемещения"
   ]
  },
  {
   "cell_type": "code",
   "execution_count": 88,
   "metadata": {
    "tags": []
   },
   "outputs": [
    {
     "data": {
      "text/html": [
       "<div>\n",
       "<style scoped>\n",
       "    .dataframe tbody tr th:only-of-type {\n",
       "        vertical-align: middle;\n",
       "    }\n",
       "\n",
       "    .dataframe tbody tr th {\n",
       "        vertical-align: top;\n",
       "    }\n",
       "\n",
       "    .dataframe thead th {\n",
       "        text-align: right;\n",
       "    }\n",
       "</style>\n",
       "<table border=\"1\" class=\"dataframe\">\n",
       "  <thead>\n",
       "    <tr style=\"text-align: right;\">\n",
       "      <th></th>\n",
       "      <th>t1.dt</th>\n",
       "      <th>sender_region_code</th>\n",
       "      <th>receiver_region_code</th>\n",
       "      <th>sender_org_count</th>\n",
       "      <th>receiver_org_count</th>\n",
       "      <th>assortment</th>\n",
       "      <th>count_brand</th>\n",
       "      <th>cnt_moved</th>\n",
       "    </tr>\n",
       "  </thead>\n",
       "  <tbody>\n",
       "    <tr>\n",
       "      <th>0</th>\n",
       "      <td>2022-10-16</td>\n",
       "      <td>43</td>\n",
       "      <td>77</td>\n",
       "      <td>1</td>\n",
       "      <td>1</td>\n",
       "      <td>1</td>\n",
       "      <td>1</td>\n",
       "      <td>16</td>\n",
       "    </tr>\n",
       "    <tr>\n",
       "      <th>1</th>\n",
       "      <td>2022-05-31</td>\n",
       "      <td>50</td>\n",
       "      <td>56</td>\n",
       "      <td>5</td>\n",
       "      <td>3</td>\n",
       "      <td>98</td>\n",
       "      <td>15</td>\n",
       "      <td>928</td>\n",
       "    </tr>\n",
       "    <tr>\n",
       "      <th>2</th>\n",
       "      <td>2022-04-05</td>\n",
       "      <td>77</td>\n",
       "      <td>59</td>\n",
       "      <td>1</td>\n",
       "      <td>1</td>\n",
       "      <td>1</td>\n",
       "      <td>1</td>\n",
       "      <td>3</td>\n",
       "    </tr>\n",
       "    <tr>\n",
       "      <th>3</th>\n",
       "      <td>2022-07-14</td>\n",
       "      <td>58</td>\n",
       "      <td>66</td>\n",
       "      <td>1</td>\n",
       "      <td>1</td>\n",
       "      <td>2</td>\n",
       "      <td>2</td>\n",
       "      <td>2</td>\n",
       "    </tr>\n",
       "    <tr>\n",
       "      <th>4</th>\n",
       "      <td>2022-10-30</td>\n",
       "      <td>64</td>\n",
       "      <td>71</td>\n",
       "      <td>1</td>\n",
       "      <td>1</td>\n",
       "      <td>1</td>\n",
       "      <td>1</td>\n",
       "      <td>1</td>\n",
       "    </tr>\n",
       "  </tbody>\n",
       "</table>\n",
       "</div>"
      ],
      "text/plain": [
       "        t1.dt  sender_region_code  receiver_region_code  sender_org_count  \\\n",
       "0  2022-10-16                  43                    77                 1   \n",
       "1  2022-05-31                  50                    56                 5   \n",
       "2  2022-04-05                  77                    59                 1   \n",
       "3  2022-07-14                  58                    66                 1   \n",
       "4  2022-10-30                  64                    71                 1   \n",
       "\n",
       "   receiver_org_count  assortment  count_brand  cnt_moved  \n",
       "0                   1           1            1         16  \n",
       "1                   3          98           15        928  \n",
       "2                   1           1            1          3  \n",
       "3                   1           2            2          2  \n",
       "4                   1           1            1          1  "
      ]
     },
     "execution_count": 88,
     "metadata": {},
     "output_type": "execute_result"
    }
   ],
   "source": [
    "movement_df = pd.read_csv('data/Агрегированные данные о перемещениях товаров между участниками с 2021-11-22 по 2022-11-21.csv')\n",
    "movement_df.head(5)"
   ]
  },
  {
   "cell_type": "code",
   "execution_count": 157,
   "metadata": {
    "tags": []
   },
   "outputs": [
    {
     "data": {
      "text/plain": [
       "77    17194\n",
       "50     8560\n",
       "66     6111\n",
       "52     5170\n",
       "78     4897\n",
       "      ...  \n",
       "89        7\n",
       "9         4\n",
       "7         4\n",
       "8         3\n",
       "87        1\n",
       "Name: sender_region_code, Length: 81, dtype: int64"
      ]
     },
     "execution_count": 157,
     "metadata": {},
     "output_type": "execute_result"
    }
   ],
   "source": [
    "movement_df['sender_region_code'].value_counts()"
   ]
  },
  {
   "cell_type": "code",
   "execution_count": 158,
   "metadata": {
    "tags": []
   },
   "outputs": [
    {
     "data": {
      "text/plain": [
       "77    4308\n",
       "23    2745\n",
       "66    2544\n",
       "50    2512\n",
       "16    1937\n",
       "      ... \n",
       "8      133\n",
       "9      127\n",
       "17      96\n",
       "87      44\n",
       "83       4\n",
       "Name: receiver_region_code, Length: 85, dtype: int64"
      ]
     },
     "execution_count": 158,
     "metadata": {},
     "output_type": "execute_result"
    }
   ],
   "source": [
    "movement_df['receiver_region_code'].value_counts()"
   ]
  },
  {
   "cell_type": "code",
   "execution_count": 159,
   "metadata": {
    "tags": []
   },
   "outputs": [
    {
     "data": {
      "text/plain": [
       "1     56062\n",
       "2     15128\n",
       "3      6703\n",
       "4      3240\n",
       "5      2115\n",
       "      ...  \n",
       "85        1\n",
       "31        1\n",
       "52        1\n",
       "36        1\n",
       "93        1\n",
       "Name: sender_org_count, Length: 79, dtype: int64"
      ]
     },
     "execution_count": 159,
     "metadata": {},
     "output_type": "execute_result"
    }
   ],
   "source": [
    "movement_df['sender_org_count'].value_counts()"
   ]
  },
  {
   "cell_type": "code",
   "execution_count": 160,
   "metadata": {
    "tags": []
   },
   "outputs": [
    {
     "data": {
      "text/plain": [
       "1      42764\n",
       "2      14220\n",
       "3       7347\n",
       "4       4719\n",
       "5       3209\n",
       "       ...  \n",
       "137        1\n",
       "128        1\n",
       "70         1\n",
       "109        1\n",
       "131        1\n",
       "Name: receiver_org_count, Length: 129, dtype: int64"
      ]
     },
     "execution_count": 160,
     "metadata": {},
     "output_type": "execute_result"
    }
   ],
   "source": [
    "movement_df['receiver_org_count'].value_counts()"
   ]
  },
  {
   "cell_type": "code",
   "execution_count": 161,
   "metadata": {
    "tags": []
   },
   "outputs": [
    {
     "data": {
      "text/plain": [
       "1       5696\n",
       "2       3410\n",
       "3       3020\n",
       "4       2465\n",
       "5       2283\n",
       "        ... \n",
       "1403       1\n",
       "1071       1\n",
       "1844       1\n",
       "990        1\n",
       "789        1\n",
       "Name: assortment, Length: 1193, dtype: int64"
      ]
     },
     "execution_count": 161,
     "metadata": {},
     "output_type": "execute_result"
    }
   ],
   "source": [
    "movement_df['assortment'].value_counts()"
   ]
  },
  {
   "cell_type": "code",
   "execution_count": 162,
   "metadata": {
    "tags": []
   },
   "outputs": [
    {
     "data": {
      "text/plain": [
       "1      21846\n",
       "2       8783\n",
       "3       6087\n",
       "4       4597\n",
       "5       4257\n",
       "       ...  \n",
       "133        1\n",
       "278        1\n",
       "254        1\n",
       "152        1\n",
       "130        1\n",
       "Name: count_brand, Length: 256, dtype: int64"
      ]
     },
     "execution_count": 162,
     "metadata": {},
     "output_type": "execute_result"
    }
   ],
   "source": [
    "movement_df['count_brand'].value_counts()"
   ]
  },
  {
   "cell_type": "code",
   "execution_count": 163,
   "metadata": {
    "tags": []
   },
   "outputs": [
    {
     "data": {
      "text/plain": [
       "1         2785\n",
       "2         1935\n",
       "3         1493\n",
       "4         1343\n",
       "6         1295\n",
       "          ... \n",
       "7238         1\n",
       "9207         1\n",
       "78425        1\n",
       "24506        1\n",
       "101106       1\n",
       "Name: cnt_moved, Length: 7175, dtype: int64"
      ]
     },
     "execution_count": 163,
     "metadata": {},
     "output_type": "execute_result"
    }
   ],
   "source": [
    "movement_df['cnt_moved'].value_counts()"
   ]
  },
  {
   "cell_type": "markdown",
   "metadata": {
    "tags": []
   },
   "source": [
    "## Вывод"
   ]
  },
  {
   "cell_type": "code",
   "execution_count": 164,
   "metadata": {
    "tags": []
   },
   "outputs": [
    {
     "data": {
      "text/html": [
       "<div>\n",
       "<style scoped>\n",
       "    .dataframe tbody tr th:only-of-type {\n",
       "        vertical-align: middle;\n",
       "    }\n",
       "\n",
       "    .dataframe tbody tr th {\n",
       "        vertical-align: top;\n",
       "    }\n",
       "\n",
       "    .dataframe thead th {\n",
       "        text-align: right;\n",
       "    }\n",
       "</style>\n",
       "<table border=\"1\" class=\"dataframe\">\n",
       "  <thead>\n",
       "    <tr style=\"text-align: right;\">\n",
       "      <th></th>\n",
       "      <th>dt</th>\n",
       "      <th>region_code</th>\n",
       "      <th>type_operation</th>\n",
       "      <th>count_active_point</th>\n",
       "      <th>org_count</th>\n",
       "      <th>assortment</th>\n",
       "      <th>count_brand</th>\n",
       "      <th>cnt</th>\n",
       "      <th>sum_price</th>\n",
       "    </tr>\n",
       "  </thead>\n",
       "  <tbody>\n",
       "    <tr>\n",
       "      <th>0</th>\n",
       "      <td>2022-07-01</td>\n",
       "      <td>58</td>\n",
       "      <td>Прочий тип вывода из оборота</td>\n",
       "      <td>4</td>\n",
       "      <td>4</td>\n",
       "      <td>4</td>\n",
       "      <td>3</td>\n",
       "      <td>4</td>\n",
       "      <td>51827</td>\n",
       "    </tr>\n",
       "    <tr>\n",
       "      <th>1</th>\n",
       "      <td>2022-03-04</td>\n",
       "      <td>75</td>\n",
       "      <td>Прочий тип вывода из оборота</td>\n",
       "      <td>20</td>\n",
       "      <td>13</td>\n",
       "      <td>75</td>\n",
       "      <td>21</td>\n",
       "      <td>104</td>\n",
       "      <td>1350999</td>\n",
       "    </tr>\n",
       "    <tr>\n",
       "      <th>2</th>\n",
       "      <td>2021-12-19</td>\n",
       "      <td>54</td>\n",
       "      <td>Продажа конечному потребителю в точке продаж</td>\n",
       "      <td>210</td>\n",
       "      <td>89</td>\n",
       "      <td>539</td>\n",
       "      <td>125</td>\n",
       "      <td>1430</td>\n",
       "      <td>20375011</td>\n",
       "    </tr>\n",
       "    <tr>\n",
       "      <th>3</th>\n",
       "      <td>2022-08-23</td>\n",
       "      <td>72</td>\n",
       "      <td>Продажа конечному потребителю в точке продаж</td>\n",
       "      <td>90</td>\n",
       "      <td>57</td>\n",
       "      <td>287</td>\n",
       "      <td>60</td>\n",
       "      <td>414</td>\n",
       "      <td>3780981</td>\n",
       "    </tr>\n",
       "    <tr>\n",
       "      <th>4</th>\n",
       "      <td>2022-04-20</td>\n",
       "      <td>51</td>\n",
       "      <td>Продажа конечному потребителю в точке продаж</td>\n",
       "      <td>48</td>\n",
       "      <td>22</td>\n",
       "      <td>234</td>\n",
       "      <td>49</td>\n",
       "      <td>702</td>\n",
       "      <td>4249332</td>\n",
       "    </tr>\n",
       "  </tbody>\n",
       "</table>\n",
       "</div>"
      ],
      "text/plain": [
       "           dt  region_code                                type_operation  \\\n",
       "0  2022-07-01           58                  Прочий тип вывода из оборота   \n",
       "1  2022-03-04           75                  Прочий тип вывода из оборота   \n",
       "2  2021-12-19           54  Продажа конечному потребителю в точке продаж   \n",
       "3  2022-08-23           72  Продажа конечному потребителю в точке продаж   \n",
       "4  2022-04-20           51  Продажа конечному потребителю в точке продаж   \n",
       "\n",
       "   count_active_point  org_count  assortment  count_brand   cnt  sum_price  \n",
       "0                   4          4           4            3     4      51827  \n",
       "1                  20         13          75           21   104    1350999  \n",
       "2                 210         89         539          125  1430   20375011  \n",
       "3                  90         57         287           60   414    3780981  \n",
       "4                  48         22         234           49   702    4249332  "
      ]
     },
     "execution_count": 164,
     "metadata": {},
     "output_type": "execute_result"
    }
   ],
   "source": [
    "out_df = pd.read_csv('data/Агрегированные данные о выводе товаров из оборота с 2021-11-22 по 2022-11-21.csv')\n",
    "out_df.head(5)"
   ]
  },
  {
   "cell_type": "code",
   "execution_count": 165,
   "metadata": {
    "tags": []
   },
   "outputs": [
    {
     "data": {
      "text/plain": [
       "77    2094\n",
       "50    1753\n",
       "78    1709\n",
       "66    1602\n",
       "55    1494\n",
       "      ... \n",
       "49     479\n",
       "7      457\n",
       "17     419\n",
       "6      233\n",
       "83      80\n",
       "Name: region_code, Length: 85, dtype: int64"
      ]
     },
     "execution_count": 165,
     "metadata": {},
     "output_type": "execute_result"
    }
   ],
   "source": [
    "out_df['region_code'].value_counts()"
   ]
  },
  {
   "cell_type": "code",
   "execution_count": 166,
   "metadata": {
    "tags": []
   },
   "outputs": [
    {
     "data": {
      "text/plain": [
       "Продажа конечному потребителю в точке продаж    30530\n",
       "Прочий тип вывода из оборота                    27773\n",
       "Конечная продажа организации                     5708\n",
       "Списание / Вывод из оборота без получателя       5039\n",
       "Дистанционная продажа конечному потребителю      4931\n",
       "Продажи за пределы РФ                            1075\n",
       "Продажа по государственному контракту              10\n",
       "Name: type_operation, dtype: int64"
      ]
     },
     "execution_count": 166,
     "metadata": {},
     "output_type": "execute_result"
    }
   ],
   "source": [
    "out_df['type_operation'].value_counts()"
   ]
  },
  {
   "cell_type": "code",
   "execution_count": 176,
   "metadata": {
    "tags": []
   },
   "outputs": [],
   "source": [
    "# out_df['type_operation'].fillna('0').value_counts();"
   ]
  },
  {
   "cell_type": "code",
   "execution_count": 167,
   "metadata": {
    "tags": []
   },
   "outputs": [
    {
     "data": {
      "text/plain": [
       "77    2094\n",
       "50    1753\n",
       "78    1709\n",
       "66    1602\n",
       "55    1494\n",
       "      ... \n",
       "49     479\n",
       "7      457\n",
       "17     419\n",
       "6      233\n",
       "83      80\n",
       "Name: region_code, Length: 85, dtype: int64"
      ]
     },
     "execution_count": 167,
     "metadata": {},
     "output_type": "execute_result"
    }
   ],
   "source": [
    "out_df['region_code'].value_counts()"
   ]
  },
  {
   "cell_type": "code",
   "execution_count": 168,
   "metadata": {
    "tags": []
   },
   "outputs": [
    {
     "data": {
      "text/plain": [
       "1       19548\n",
       "2        3724\n",
       "3        2650\n",
       "4        2180\n",
       "5        1762\n",
       "        ...  \n",
       "7087        1\n",
       "2092        1\n",
       "2537        1\n",
       "783         1\n",
       "2565        1\n",
       "Name: count_active_point, Length: 1371, dtype: int64"
      ]
     },
     "execution_count": 168,
     "metadata": {},
     "output_type": "execute_result"
    }
   ],
   "source": [
    "out_df['count_active_point'].value_counts()"
   ]
  },
  {
   "cell_type": "code",
   "execution_count": 169,
   "metadata": {
    "tags": []
   },
   "outputs": [
    {
     "data": {
      "text/plain": [
       "1      15039\n",
       "2       6680\n",
       "3       4243\n",
       "4       3147\n",
       "5       2591\n",
       "       ...  \n",
       "350        1\n",
       "367        1\n",
       "244        1\n",
       "356        1\n",
       "334        1\n",
       "Name: org_count, Length: 354, dtype: int64"
      ]
     },
     "execution_count": 169,
     "metadata": {},
     "output_type": "execute_result"
    }
   ],
   "source": [
    "out_df['org_count'].value_counts()"
   ]
  },
  {
   "cell_type": "code",
   "execution_count": 170,
   "metadata": {
    "tags": []
   },
   "outputs": [
    {
     "data": {
      "text/plain": [
       "1       6497\n",
       "2       3638\n",
       "3       2650\n",
       "4       2225\n",
       "5       1841\n",
       "        ... \n",
       "6230       1\n",
       "1067       1\n",
       "2256       1\n",
       "5650       1\n",
       "7094       1\n",
       "Name: assortment, Length: 2677, dtype: int64"
      ]
     },
     "execution_count": 170,
     "metadata": {},
     "output_type": "execute_result"
    }
   ],
   "source": [
    "out_df['assortment'].value_counts()"
   ]
  },
  {
   "cell_type": "code",
   "execution_count": 171,
   "metadata": {
    "tags": []
   },
   "outputs": [
    {
     "data": {
      "text/plain": [
       "1      10011\n",
       "2       4799\n",
       "3       3718\n",
       "4       3218\n",
       "5       2694\n",
       "       ...  \n",
       "321        1\n",
       "617        1\n",
       "632        1\n",
       "338        1\n",
       "509        1\n",
       "Name: count_brand, Length: 467, dtype: int64"
      ]
     },
     "execution_count": 171,
     "metadata": {},
     "output_type": "execute_result"
    }
   ],
   "source": [
    "out_df['count_brand'].value_counts()"
   ]
  },
  {
   "cell_type": "code",
   "execution_count": 172,
   "metadata": {
    "tags": []
   },
   "outputs": [
    {
     "data": {
      "text/plain": [
       "1        5587\n",
       "2        3246\n",
       "3        2459\n",
       "4        1968\n",
       "5        1678\n",
       "         ... \n",
       "60310       1\n",
       "1861        1\n",
       "10555       1\n",
       "10092       1\n",
       "90592       1\n",
       "Name: cnt, Length: 5740, dtype: int64"
      ]
     },
     "execution_count": 172,
     "metadata": {},
     "output_type": "execute_result"
    }
   ],
   "source": [
    "out_df['cnt'].value_counts()"
   ]
  },
  {
   "cell_type": "code",
   "execution_count": 173,
   "metadata": {
    "tags": []
   },
   "outputs": [
    {
     "data": {
      "text/plain": [
       "0          13485\n",
       "5000         105\n",
       "5714          84\n",
       "31428         83\n",
       "4285          70\n",
       "           ...  \n",
       "3758980        1\n",
       "2460           1\n",
       "148373         1\n",
       "53956          1\n",
       "5030493        1\n",
       "Name: sum_price, Length: 55914, dtype: int64"
      ]
     },
     "execution_count": 173,
     "metadata": {},
     "output_type": "execute_result"
    }
   ],
   "source": [
    "out_df['sum_price'].value_counts()"
   ]
  },
  {
   "cell_type": "markdown",
   "metadata": {},
   "source": [
    " ## Ввод"
   ]
  },
  {
   "cell_type": "code",
   "execution_count": 177,
   "metadata": {
    "tags": []
   },
   "outputs": [
    {
     "data": {
      "text/html": [
       "<div>\n",
       "<style scoped>\n",
       "    .dataframe tbody tr th:only-of-type {\n",
       "        vertical-align: middle;\n",
       "    }\n",
       "\n",
       "    .dataframe tbody tr th {\n",
       "        vertical-align: top;\n",
       "    }\n",
       "\n",
       "    .dataframe thead th {\n",
       "        text-align: right;\n",
       "    }\n",
       "</style>\n",
       "<table border=\"1\" class=\"dataframe\">\n",
       "  <thead>\n",
       "    <tr style=\"text-align: right;\">\n",
       "      <th></th>\n",
       "      <th>dt</th>\n",
       "      <th>region_code</th>\n",
       "      <th>operation_type</th>\n",
       "      <th>org_count</th>\n",
       "      <th>assortment</th>\n",
       "      <th>count_brand</th>\n",
       "      <th>cnt</th>\n",
       "    </tr>\n",
       "  </thead>\n",
       "  <tbody>\n",
       "    <tr>\n",
       "      <th>0</th>\n",
       "      <td>2022-02-24</td>\n",
       "      <td>3</td>\n",
       "      <td>Маркировка остатков</td>\n",
       "      <td>1</td>\n",
       "      <td>1</td>\n",
       "      <td>1</td>\n",
       "      <td>1</td>\n",
       "    </tr>\n",
       "    <tr>\n",
       "      <th>1</th>\n",
       "      <td>2022-02-04</td>\n",
       "      <td>63</td>\n",
       "      <td>Маркировка остатков</td>\n",
       "      <td>1</td>\n",
       "      <td>1</td>\n",
       "      <td>1</td>\n",
       "      <td>2</td>\n",
       "    </tr>\n",
       "    <tr>\n",
       "      <th>2</th>\n",
       "      <td>2021-11-23</td>\n",
       "      <td>66</td>\n",
       "      <td>Маркировка остатков</td>\n",
       "      <td>7</td>\n",
       "      <td>98</td>\n",
       "      <td>10</td>\n",
       "      <td>547</td>\n",
       "    </tr>\n",
       "    <tr>\n",
       "      <th>3</th>\n",
       "      <td>2022-11-12</td>\n",
       "      <td>64</td>\n",
       "      <td>РФ</td>\n",
       "      <td>1</td>\n",
       "      <td>2</td>\n",
       "      <td>1</td>\n",
       "      <td>2</td>\n",
       "    </tr>\n",
       "    <tr>\n",
       "      <th>4</th>\n",
       "      <td>2022-09-26</td>\n",
       "      <td>54</td>\n",
       "      <td>Перемаркировка</td>\n",
       "      <td>1</td>\n",
       "      <td>1</td>\n",
       "      <td>1</td>\n",
       "      <td>8</td>\n",
       "    </tr>\n",
       "  </tbody>\n",
       "</table>\n",
       "</div>"
      ],
      "text/plain": [
       "           dt  region_code       operation_type  org_count  assortment  \\\n",
       "0  2022-02-24            3  Маркировка остатков          1           1   \n",
       "1  2022-02-04           63  Маркировка остатков          1           1   \n",
       "2  2021-11-23           66  Маркировка остатков          7          98   \n",
       "3  2022-11-12           64                   РФ          1           2   \n",
       "4  2022-09-26           54       Перемаркировка          1           1   \n",
       "\n",
       "   count_brand  cnt  \n",
       "0            1    1  \n",
       "1            1    2  \n",
       "2           10  547  \n",
       "3            1    2  \n",
       "4            1    8  "
      ]
     },
     "execution_count": 177,
     "metadata": {},
     "output_type": "execute_result"
    }
   ],
   "source": [
    "in_df = pd.read_csv('data/Агрегированные данные о вводе товаров в оборот с 2021-11-22 по 2022-11-21.csv')\n",
    "in_df.head(5)"
   ]
  },
  {
   "cell_type": "code",
   "execution_count": 189,
   "metadata": {
    "tags": []
   },
   "outputs": [
    {
     "data": {
      "text/html": [
       "<div>\n",
       "<style scoped>\n",
       "    .dataframe tbody tr th:only-of-type {\n",
       "        vertical-align: middle;\n",
       "    }\n",
       "\n",
       "    .dataframe tbody tr th {\n",
       "        vertical-align: top;\n",
       "    }\n",
       "\n",
       "    .dataframe thead th {\n",
       "        text-align: right;\n",
       "    }\n",
       "</style>\n",
       "<table border=\"1\" class=\"dataframe\">\n",
       "  <thead>\n",
       "    <tr style=\"text-align: right;\">\n",
       "      <th></th>\n",
       "      <th>dt</th>\n",
       "      <th>region_code</th>\n",
       "      <th>operation_type</th>\n",
       "      <th>org_count</th>\n",
       "      <th>assortment</th>\n",
       "      <th>count_brand</th>\n",
       "      <th>cnt</th>\n",
       "    </tr>\n",
       "  </thead>\n",
       "  <tbody>\n",
       "    <tr>\n",
       "      <th>0</th>\n",
       "      <td>2022-02-24</td>\n",
       "      <td>3</td>\n",
       "      <td>Маркировка остатков</td>\n",
       "      <td>1</td>\n",
       "      <td>1</td>\n",
       "      <td>1</td>\n",
       "      <td>1</td>\n",
       "    </tr>\n",
       "    <tr>\n",
       "      <th>133</th>\n",
       "      <td>2022-02-24</td>\n",
       "      <td>47</td>\n",
       "      <td>Маркировка остатков</td>\n",
       "      <td>1</td>\n",
       "      <td>1</td>\n",
       "      <td>1</td>\n",
       "      <td>18</td>\n",
       "    </tr>\n",
       "    <tr>\n",
       "      <th>180</th>\n",
       "      <td>2022-02-24</td>\n",
       "      <td>40</td>\n",
       "      <td>Перемаркировка</td>\n",
       "      <td>1</td>\n",
       "      <td>1</td>\n",
       "      <td>1</td>\n",
       "      <td>1</td>\n",
       "    </tr>\n",
       "    <tr>\n",
       "      <th>406</th>\n",
       "      <td>2022-02-24</td>\n",
       "      <td>47</td>\n",
       "      <td>Принято от физического лица</td>\n",
       "      <td>1</td>\n",
       "      <td>1</td>\n",
       "      <td>1</td>\n",
       "      <td>5</td>\n",
       "    </tr>\n",
       "    <tr>\n",
       "      <th>623</th>\n",
       "      <td>2022-02-24</td>\n",
       "      <td>38</td>\n",
       "      <td>Возврат</td>\n",
       "      <td>1</td>\n",
       "      <td>1</td>\n",
       "      <td>1</td>\n",
       "      <td>1</td>\n",
       "    </tr>\n",
       "    <tr>\n",
       "      <th>...</th>\n",
       "      <td>...</td>\n",
       "      <td>...</td>\n",
       "      <td>...</td>\n",
       "      <td>...</td>\n",
       "      <td>...</td>\n",
       "      <td>...</td>\n",
       "      <td>...</td>\n",
       "    </tr>\n",
       "    <tr>\n",
       "      <th>33431</th>\n",
       "      <td>2022-02-24</td>\n",
       "      <td>63</td>\n",
       "      <td>Возврат</td>\n",
       "      <td>1</td>\n",
       "      <td>1</td>\n",
       "      <td>1</td>\n",
       "      <td>1</td>\n",
       "    </tr>\n",
       "    <tr>\n",
       "      <th>33871</th>\n",
       "      <td>2022-02-24</td>\n",
       "      <td>72</td>\n",
       "      <td>Маркировка остатков</td>\n",
       "      <td>1</td>\n",
       "      <td>1</td>\n",
       "      <td>1</td>\n",
       "      <td>1</td>\n",
       "    </tr>\n",
       "    <tr>\n",
       "      <th>33883</th>\n",
       "      <td>2022-02-24</td>\n",
       "      <td>69</td>\n",
       "      <td>Маркировка остатков</td>\n",
       "      <td>1</td>\n",
       "      <td>1</td>\n",
       "      <td>1</td>\n",
       "      <td>1</td>\n",
       "    </tr>\n",
       "    <tr>\n",
       "      <th>33971</th>\n",
       "      <td>2022-02-24</td>\n",
       "      <td>54</td>\n",
       "      <td>Перемаркировка</td>\n",
       "      <td>2</td>\n",
       "      <td>4</td>\n",
       "      <td>4</td>\n",
       "      <td>4</td>\n",
       "    </tr>\n",
       "    <tr>\n",
       "      <th>34105</th>\n",
       "      <td>2022-02-24</td>\n",
       "      <td>55</td>\n",
       "      <td>Возврат</td>\n",
       "      <td>6</td>\n",
       "      <td>12</td>\n",
       "      <td>7</td>\n",
       "      <td>15</td>\n",
       "    </tr>\n",
       "  </tbody>\n",
       "</table>\n",
       "<p>118 rows × 7 columns</p>\n",
       "</div>"
      ],
      "text/plain": [
       "               dt  region_code               operation_type  org_count  \\\n",
       "0      2022-02-24            3          Маркировка остатков          1   \n",
       "133    2022-02-24           47          Маркировка остатков          1   \n",
       "180    2022-02-24           40               Перемаркировка          1   \n",
       "406    2022-02-24           47  Принято от физического лица          1   \n",
       "623    2022-02-24           38                      Возврат          1   \n",
       "...           ...          ...                          ...        ...   \n",
       "33431  2022-02-24           63                      Возврат          1   \n",
       "33871  2022-02-24           72          Маркировка остатков          1   \n",
       "33883  2022-02-24           69          Маркировка остатков          1   \n",
       "33971  2022-02-24           54               Перемаркировка          2   \n",
       "34105  2022-02-24           55                      Возврат          6   \n",
       "\n",
       "       assortment  count_brand  cnt  \n",
       "0               1            1    1  \n",
       "133             1            1   18  \n",
       "180             1            1    1  \n",
       "406             1            1    5  \n",
       "623             1            1    1  \n",
       "...           ...          ...  ...  \n",
       "33431           1            1    1  \n",
       "33871           1            1    1  \n",
       "33883           1            1    1  \n",
       "33971           4            4    4  \n",
       "34105          12            7   15  \n",
       "\n",
       "[118 rows x 7 columns]"
      ]
     },
     "execution_count": 189,
     "metadata": {},
     "output_type": "execute_result"
    }
   ],
   "source": [
    "in_df.query(\"dt == '2022-02-24'\")"
   ]
  },
  {
   "cell_type": "code",
   "execution_count": 179,
   "metadata": {
    "tags": []
   },
   "outputs": [],
   "source": [
    "# in_df['dt'].value_counts()"
   ]
  },
  {
   "cell_type": "code",
   "execution_count": 180,
   "metadata": {
    "tags": []
   },
   "outputs": [
    {
     "data": {
      "text/plain": [
       "77    2111\n",
       "50    1710\n",
       "78    1476\n",
       "16    1276\n",
       "23    1237\n",
       "      ... \n",
       "9       17\n",
       "7       15\n",
       "17       7\n",
       "6        3\n",
       "4        1\n",
       "Name: region_code, Length: 85, dtype: int64"
      ]
     },
     "execution_count": 180,
     "metadata": {},
     "output_type": "execute_result"
    }
   ],
   "source": [
    "in_df['region_code'].value_counts()"
   ]
  },
  {
   "cell_type": "code",
   "execution_count": 181,
   "metadata": {
    "tags": []
   },
   "outputs": [
    {
     "data": {
      "text/plain": [
       "Возврат                        12927\n",
       "Маркировка остатков             9692\n",
       "Перемаркировка                  5844\n",
       "РФ                              2971\n",
       "Импорт. Не ЕАЭС                 1571\n",
       "Импорт. ЕАЭС                    1017\n",
       "Принято от физического лица      180\n",
       "Name: operation_type, dtype: int64"
      ]
     },
     "execution_count": 181,
     "metadata": {},
     "output_type": "execute_result"
    }
   ],
   "source": [
    "in_df['operation_type'].value_counts()"
   ]
  },
  {
   "cell_type": "code",
   "execution_count": 183,
   "metadata": {
    "tags": []
   },
   "outputs": [
    {
     "data": {
      "text/plain": [
       "1    21794\n",
       "2     6059\n",
       "3     2459\n",
       "4     1198\n",
       "5      646\n",
       "6      519\n",
       "7      350\n",
       "Name: org_count, dtype: int64"
      ]
     },
     "execution_count": 183,
     "metadata": {},
     "output_type": "execute_result"
    }
   ],
   "source": [
    "in_df['org_count'].value_counts().head(7) # мало"
   ]
  },
  {
   "cell_type": "code",
   "execution_count": 184,
   "metadata": {
    "tags": []
   },
   "outputs": [
    {
     "data": {
      "text/plain": [
       "1      13356\n",
       "2       5379\n",
       "3       2612\n",
       "4       1785\n",
       "5        981\n",
       "       ...  \n",
       "649        1\n",
       "401        1\n",
       "332        1\n",
       "554        1\n",
       "560        1\n",
       "Name: assortment, Length: 490, dtype: int64"
      ]
     },
     "execution_count": 184,
     "metadata": {},
     "output_type": "execute_result"
    }
   ],
   "source": [
    "in_df['assortment'].value_counts()"
   ]
  },
  {
   "cell_type": "code",
   "execution_count": 185,
   "metadata": {
    "tags": []
   },
   "outputs": [
    {
     "data": {
      "text/plain": [
       "1      18490\n",
       "2       5702\n",
       "3       2396\n",
       "4       1237\n",
       "5        749\n",
       "       ...  \n",
       "121        1\n",
       "102        1\n",
       "356        1\n",
       "107        1\n",
       "136        1\n",
       "Name: count_brand, Length: 145, dtype: int64"
      ]
     },
     "execution_count": 185,
     "metadata": {},
     "output_type": "execute_result"
    }
   ],
   "source": [
    "in_df['count_brand'].value_counts()"
   ]
  },
  {
   "cell_type": "code",
   "execution_count": 186,
   "metadata": {
    "tags": []
   },
   "outputs": [
    {
     "data": {
      "text/plain": [
       "1         11108\n",
       "2          4792\n",
       "3          2508\n",
       "4          1552\n",
       "5           985\n",
       "          ...  \n",
       "56804         1\n",
       "50069         1\n",
       "281819        1\n",
       "30307         1\n",
       "8028          1\n",
       "Name: cnt, Length: 3605, dtype: int64"
      ]
     },
     "execution_count": 186,
     "metadata": {},
     "output_type": "execute_result"
    }
   ],
   "source": [
    "in_df['cnt'].value_counts()"
   ]
  },
  {
   "cell_type": "markdown",
   "metadata": {
    "jp-MarkdownHeadingCollapsed": true,
    "tags": []
   },
   "source": [
    " # Розница вывод"
   ]
  },
  {
   "cell_type": "code",
   "execution_count": 90,
   "metadata": {
    "tags": []
   },
   "outputs": [
    {
     "data": {
      "text/html": [
       "<div>\n",
       "<style scoped>\n",
       "    .dataframe tbody tr th:only-of-type {\n",
       "        vertical-align: middle;\n",
       "    }\n",
       "\n",
       "    .dataframe tbody tr th {\n",
       "        vertical-align: top;\n",
       "    }\n",
       "\n",
       "    .dataframe thead th {\n",
       "        text-align: right;\n",
       "    }\n",
       "</style>\n",
       "<table border=\"1\" class=\"dataframe\">\n",
       "  <thead>\n",
       "    <tr style=\"text-align: right;\">\n",
       "      <th></th>\n",
       "      <th>dt</th>\n",
       "      <th>gtin</th>\n",
       "      <th>prid</th>\n",
       "      <th>inn</th>\n",
       "      <th>id_sp_</th>\n",
       "      <th>type_operation</th>\n",
       "      <th>price</th>\n",
       "      <th>cnt</th>\n",
       "    </tr>\n",
       "  </thead>\n",
       "  <tbody>\n",
       "    <tr>\n",
       "      <th>0</th>\n",
       "      <td>2022-04-02</td>\n",
       "      <td>0E6D952FEFCA3542FF2E4EB72E544D6E</td>\n",
       "      <td>0618FA53229CAA68F16217D747EB5C46</td>\n",
       "      <td>6B8E111AB5B5C556C0AEA292ACA4D88B</td>\n",
       "      <td>NaN</td>\n",
       "      <td>Продажа конечному потребителю в точке продаж</td>\n",
       "      <td>85500</td>\n",
       "      <td>1</td>\n",
       "    </tr>\n",
       "    <tr>\n",
       "      <th>1</th>\n",
       "      <td>2022-04-02</td>\n",
       "      <td>18AA2603B271C19A581133BD34319311</td>\n",
       "      <td>0618FA53229CAA68F16217D747EB5C46</td>\n",
       "      <td>6B8E111AB5B5C556C0AEA292ACA4D88B</td>\n",
       "      <td>NaN</td>\n",
       "      <td>Продажа конечному потребителю в точке продаж</td>\n",
       "      <td>83571</td>\n",
       "      <td>1</td>\n",
       "    </tr>\n",
       "    <tr>\n",
       "      <th>2</th>\n",
       "      <td>2022-04-02</td>\n",
       "      <td>807F8E2BBA75FA9FDD7E48689C17B03C</td>\n",
       "      <td>0618FA53229CAA68F16217D747EB5C46</td>\n",
       "      <td>6B8E111AB5B5C556C0AEA292ACA4D88B</td>\n",
       "      <td>NaN</td>\n",
       "      <td>Продажа конечному потребителю в точке продаж</td>\n",
       "      <td>14285</td>\n",
       "      <td>2</td>\n",
       "    </tr>\n",
       "    <tr>\n",
       "      <th>3</th>\n",
       "      <td>2022-04-02</td>\n",
       "      <td>3DA4C09BB1526430F6584E8FA94C5723</td>\n",
       "      <td>CE816FDF82B121C67CAE9B79203B8BA1</td>\n",
       "      <td>6B8E111AB5B5C556C0AEA292ACA4D88B</td>\n",
       "      <td>DB144114FDED5796EC868E55DA982839</td>\n",
       "      <td>Продажа конечному потребителю в точке продаж</td>\n",
       "      <td>48528</td>\n",
       "      <td>1</td>\n",
       "    </tr>\n",
       "    <tr>\n",
       "      <th>4</th>\n",
       "      <td>2022-04-02</td>\n",
       "      <td>C2A8785275FF723EDD3057CE98FD794E</td>\n",
       "      <td>CE816FDF82B121C67CAE9B79203B8BA1</td>\n",
       "      <td>6B8E111AB5B5C556C0AEA292ACA4D88B</td>\n",
       "      <td>NaN</td>\n",
       "      <td>Продажа конечному потребителю в точке продаж</td>\n",
       "      <td>60742</td>\n",
       "      <td>1</td>\n",
       "    </tr>\n",
       "  </tbody>\n",
       "</table>\n",
       "</div>"
      ],
      "text/plain": [
       "           dt                              gtin  \\\n",
       "0  2022-04-02  0E6D952FEFCA3542FF2E4EB72E544D6E   \n",
       "1  2022-04-02  18AA2603B271C19A581133BD34319311   \n",
       "2  2022-04-02  807F8E2BBA75FA9FDD7E48689C17B03C   \n",
       "3  2022-04-02  3DA4C09BB1526430F6584E8FA94C5723   \n",
       "4  2022-04-02  C2A8785275FF723EDD3057CE98FD794E   \n",
       "\n",
       "                               prid                               inn  \\\n",
       "0  0618FA53229CAA68F16217D747EB5C46  6B8E111AB5B5C556C0AEA292ACA4D88B   \n",
       "1  0618FA53229CAA68F16217D747EB5C46  6B8E111AB5B5C556C0AEA292ACA4D88B   \n",
       "2  0618FA53229CAA68F16217D747EB5C46  6B8E111AB5B5C556C0AEA292ACA4D88B   \n",
       "3  CE816FDF82B121C67CAE9B79203B8BA1  6B8E111AB5B5C556C0AEA292ACA4D88B   \n",
       "4  CE816FDF82B121C67CAE9B79203B8BA1  6B8E111AB5B5C556C0AEA292ACA4D88B   \n",
       "\n",
       "                             id_sp_  \\\n",
       "0                               NaN   \n",
       "1                               NaN   \n",
       "2                               NaN   \n",
       "3  DB144114FDED5796EC868E55DA982839   \n",
       "4                               NaN   \n",
       "\n",
       "                                 type_operation  price  cnt  \n",
       "0  Продажа конечному потребителю в точке продаж  85500    1  \n",
       "1  Продажа конечному потребителю в точке продаж  83571    1  \n",
       "2  Продажа конечному потребителю в точке продаж  14285    2  \n",
       "3  Продажа конечному потребителю в точке продаж  48528    1  \n",
       "4  Продажа конечному потребителю в точке продаж  60742    1  "
      ]
     },
     "execution_count": 90,
     "metadata": {},
     "output_type": "execute_result"
    }
   ],
   "source": [
    "retail_out_df = pd.read_csv('data/Дополнительные датасеты для продукта для розницы/Данные о выводе товаров из оборота с 2021-11-22 по 2022-11-21 один розничный продавец.csv')\n",
    "retail_out_df.head(5)"
   ]
  },
  {
   "cell_type": "code",
   "execution_count": 148,
   "metadata": {
    "tags": []
   },
   "outputs": [
    {
     "name": "stdout",
     "output_type": "stream",
     "text": [
      "<class 'pandas.core.frame.DataFrame'>\n",
      "RangeIndex: 2262895 entries, 0 to 2262894\n",
      "Data columns (total 8 columns):\n",
      " #   Column          Dtype \n",
      "---  ------          ----- \n",
      " 0   dt              object\n",
      " 1   gtin            object\n",
      " 2   prid            object\n",
      " 3   inn             object\n",
      " 4   id_sp_          object\n",
      " 5   type_operation  object\n",
      " 6   price           int64 \n",
      " 7   cnt             int64 \n",
      "dtypes: int64(2), object(6)\n",
      "memory usage: 138.1+ MB\n"
     ]
    }
   ],
   "source": [
    "retail_out_df.info()"
   ]
  },
  {
   "cell_type": "code",
   "execution_count": 153,
   "metadata": {
    "tags": []
   },
   "outputs": [
    {
     "data": {
      "text/plain": [
       "0                                   681330\n",
       "3D1D20C0C33E6478BD4B6AA005858479     30478\n",
       "32246224A0B2950C19FAC96BC145F73F     27801\n",
       "1B398061561B35FE8F4865C8AB024075     27222\n",
       "69376E48B489D54BBFA3D6C9BDB1AD63     24308\n",
       "                                     ...  \n",
       "56B4DCE7D5E5D01F9D7DAE15A7065EE9         1\n",
       "9233D93E2D6B6B06330D9A3AA80773EE         1\n",
       "C402C54537E34F09DCC80172AEC1799C         1\n",
       "F50B2FA5625D7705F8616BE82D972E27         1\n",
       "A7DB73439ED81263F59B9B7B0F744868         1\n",
       "Name: id_sp_, Length: 287, dtype: int64"
      ]
     },
     "execution_count": 153,
     "metadata": {},
     "output_type": "execute_result"
    }
   ],
   "source": [
    "retail_out_df['id_sp_'].fillna('0').value_counts()"
   ]
  },
  {
   "cell_type": "code",
   "execution_count": 154,
   "metadata": {
    "tags": []
   },
   "outputs": [
    {
     "data": {
      "text/plain": [
       "6B8E111AB5B5C556C0AEA292ACA4D88B    2262895\n",
       "Name: inn, dtype: int64"
      ]
     },
     "execution_count": 154,
     "metadata": {},
     "output_type": "execute_result"
    }
   ],
   "source": [
    "retail_out_df['inn'].value_counts()"
   ]
  },
  {
   "cell_type": "code",
   "execution_count": 156,
   "metadata": {
    "tags": []
   },
   "outputs": [
    {
     "data": {
      "text/plain": [
       "0618FA53229CAA68F16217D747EB5C46    770222\n",
       "91ECAC3DC5225241188E04925B2C97CA    318157\n",
       "7D1B71037D27D5597BEA1D5077663541    205104\n",
       "A43BE3249A22A8CCB7AE1F6D1B1477D0    195466\n",
       "CE816FDF82B121C67CAE9B79203B8BA1    173757\n",
       "6B8E111AB5B5C556C0AEA292ACA4D88B    129666\n",
       "93E0A152D5F486EA13C9DEFA24625849    123554\n",
       "668F1CD708BD7C2EF7F7D308637147A7    102056\n",
       "EF97FB7B958BBC9476716CD392CF8E54     80764\n",
       "77F82E55113DC87D9DD6E67AC7C3B6A7     45913\n",
       "Name: prid, dtype: int64"
      ]
     },
     "execution_count": 156,
     "metadata": {},
     "output_type": "execute_result"
    }
   ],
   "source": [
    "retail_out_df['prid'].value_counts().head(10) # Их мало"
   ]
  },
  {
   "cell_type": "code",
   "execution_count": 149,
   "metadata": {
    "tags": []
   },
   "outputs": [
    {
     "data": {
      "text/plain": [
       "Продажа конечному потребителю в точке продаж    2135724\n",
       "Дистанционная продажа конечному потребителю      109805\n",
       "Прочий тип вывода из оборота                      16588\n",
       "Списание / Вывод из оборота без получателя          361\n",
       "Конечная продажа организации                        320\n",
       "Продажи за пределы РФ                                97\n",
       "Name: type_operation, dtype: int64"
      ]
     },
     "execution_count": 149,
     "metadata": {},
     "output_type": "execute_result"
    }
   ],
   "source": [
    "retail_out_df['type_operation'].value_counts()"
   ]
  },
  {
   "cell_type": "code",
   "execution_count": 152,
   "metadata": {
    "tags": []
   },
   "outputs": [
    {
     "data": {
      "text/plain": [
       "961616"
      ]
     },
     "execution_count": 152,
     "metadata": {},
     "output_type": "execute_result"
    }
   ],
   "source": [
    "retail_out_df.query('price == 0').size"
   ]
  },
  {
   "cell_type": "markdown",
   "metadata": {
    "tags": []
   },
   "source": [
    "# Производитель"
   ]
  },
  {
   "cell_type": "markdown",
   "metadata": {
    "jp-MarkdownHeadingCollapsed": true,
    "tags": []
   },
   "source": [
    "## Производитель ввод"
   ]
  },
  {
   "cell_type": "code",
   "execution_count": 5,
   "metadata": {
    "tags": []
   },
   "outputs": [
    {
     "data": {
      "text/html": [
       "<div>\n",
       "<style scoped>\n",
       "    .dataframe tbody tr th:only-of-type {\n",
       "        vertical-align: middle;\n",
       "    }\n",
       "\n",
       "    .dataframe tbody tr th {\n",
       "        vertical-align: top;\n",
       "    }\n",
       "\n",
       "    .dataframe thead th {\n",
       "        text-align: right;\n",
       "    }\n",
       "</style>\n",
       "<table border=\"1\" class=\"dataframe\">\n",
       "  <thead>\n",
       "    <tr style=\"text-align: right;\">\n",
       "      <th></th>\n",
       "      <th>dt</th>\n",
       "      <th>inn</th>\n",
       "      <th>gtin</th>\n",
       "      <th>prid</th>\n",
       "      <th>operation_type</th>\n",
       "      <th>cnt</th>\n",
       "    </tr>\n",
       "  </thead>\n",
       "  <tbody>\n",
       "    <tr>\n",
       "      <th>0</th>\n",
       "      <td>2021-11-22</td>\n",
       "      <td>DA62EC79660CF21AC37A260DA6F642C4</td>\n",
       "      <td>A279061678C6BCAD8D72041BB2C0A834</td>\n",
       "      <td>DA62EC79660CF21AC37A260DA6F642C4</td>\n",
       "      <td>РФ</td>\n",
       "      <td>175</td>\n",
       "    </tr>\n",
       "    <tr>\n",
       "      <th>1</th>\n",
       "      <td>2021-11-22</td>\n",
       "      <td>DA62EC79660CF21AC37A260DA6F642C4</td>\n",
       "      <td>3C31611BC8FF7AF82B6E7D8930E11CA8</td>\n",
       "      <td>DA62EC79660CF21AC37A260DA6F642C4</td>\n",
       "      <td>РФ</td>\n",
       "      <td>18</td>\n",
       "    </tr>\n",
       "    <tr>\n",
       "      <th>2</th>\n",
       "      <td>2021-11-22</td>\n",
       "      <td>DA62EC79660CF21AC37A260DA6F642C4</td>\n",
       "      <td>4A566E6DC27A1376CC263090A77C62D8</td>\n",
       "      <td>DA62EC79660CF21AC37A260DA6F642C4</td>\n",
       "      <td>РФ</td>\n",
       "      <td>1</td>\n",
       "    </tr>\n",
       "    <tr>\n",
       "      <th>3</th>\n",
       "      <td>2021-11-22</td>\n",
       "      <td>DA62EC79660CF21AC37A260DA6F642C4</td>\n",
       "      <td>2FAFBA086E6F308987A681CD6238AE3C</td>\n",
       "      <td>DA62EC79660CF21AC37A260DA6F642C4</td>\n",
       "      <td>РФ</td>\n",
       "      <td>18</td>\n",
       "    </tr>\n",
       "    <tr>\n",
       "      <th>4</th>\n",
       "      <td>2021-11-22</td>\n",
       "      <td>DA62EC79660CF21AC37A260DA6F642C4</td>\n",
       "      <td>5D74B67E1DAC42C7526F27A6BDA73FF6</td>\n",
       "      <td>DA62EC79660CF21AC37A260DA6F642C4</td>\n",
       "      <td>Перемаркировка</td>\n",
       "      <td>120</td>\n",
       "    </tr>\n",
       "  </tbody>\n",
       "</table>\n",
       "</div>"
      ],
      "text/plain": [
       "           dt                               inn  \\\n",
       "0  2021-11-22  DA62EC79660CF21AC37A260DA6F642C4   \n",
       "1  2021-11-22  DA62EC79660CF21AC37A260DA6F642C4   \n",
       "2  2021-11-22  DA62EC79660CF21AC37A260DA6F642C4   \n",
       "3  2021-11-22  DA62EC79660CF21AC37A260DA6F642C4   \n",
       "4  2021-11-22  DA62EC79660CF21AC37A260DA6F642C4   \n",
       "\n",
       "                               gtin                              prid  \\\n",
       "0  A279061678C6BCAD8D72041BB2C0A834  DA62EC79660CF21AC37A260DA6F642C4   \n",
       "1  3C31611BC8FF7AF82B6E7D8930E11CA8  DA62EC79660CF21AC37A260DA6F642C4   \n",
       "2  4A566E6DC27A1376CC263090A77C62D8  DA62EC79660CF21AC37A260DA6F642C4   \n",
       "3  2FAFBA086E6F308987A681CD6238AE3C  DA62EC79660CF21AC37A260DA6F642C4   \n",
       "4  5D74B67E1DAC42C7526F27A6BDA73FF6  DA62EC79660CF21AC37A260DA6F642C4   \n",
       "\n",
       "   operation_type  cnt  \n",
       "0              РФ  175  \n",
       "1              РФ   18  \n",
       "2              РФ    1  \n",
       "3              РФ   18  \n",
       "4  Перемаркировка  120  "
      ]
     },
     "execution_count": 5,
     "metadata": {},
     "output_type": "execute_result"
    }
   ],
   "source": [
    "factory_in = pd.read_csv('data/Дополнительные датасеты для продукта для производителя/Данные о вводе товаров в оборот с 2021-11-22 по 2022-11-21 один производитель.csv')\n",
    "factory_in.head(5)"
   ]
  },
  {
   "cell_type": "markdown",
   "metadata": {},
   "source": [
    "Перемаркировка"
   ]
  },
  {
   "cell_type": "code",
   "execution_count": 25,
   "metadata": {
    "tags": []
   },
   "outputs": [
    {
     "data": {
      "text/plain": [
       "5D74B67E1DAC42C7526F27A6BDA73FF6    15\n",
       "8088EB728C76675D594BE5097D66B966    13\n",
       "33EB34CCEB2F31800590CD6A35D77E51    11\n",
       "859C541431985132C29F457945761242    10\n",
       "F2CDA2E744F97F29BE94A381774E10D8     9\n",
       "                                    ..\n",
       "AEAA9708FB85B367FC41D90060A2B9DD     1\n",
       "B4E5FCFA22D492E88C56BBEF1B2AB55F     1\n",
       "E20F564AB1DB7D395CA58B0258BEC769     1\n",
       "B02DEEAA5277F36B55B2F305FB45467A     1\n",
       "C052C4A7B1461D3BDA0E786361525C56     1\n",
       "Name: gtin, Length: 211, dtype: int64"
      ]
     },
     "execution_count": 25,
     "metadata": {},
     "output_type": "execute_result"
    }
   ],
   "source": [
    "factory_in.query(\"operation_type == 'Перемаркировка'\")['gtin'].value_counts()"
   ]
  },
  {
   "cell_type": "code",
   "execution_count": null,
   "metadata": {},
   "outputs": [],
   "source": [
    "Возврат"
   ]
  },
  {
   "cell_type": "code",
   "execution_count": 28,
   "metadata": {
    "tags": []
   },
   "outputs": [
    {
     "data": {
      "text/plain": [
       "436ADF538DC56BF1655602A61B351A1D    4\n",
       "33EB34CCEB2F31800590CD6A35D77E51    4\n",
       "95333638A9E567B1BCC0DDAFC91A39A7    3\n",
       "BA72BCA7A8B7B979F3C118C4C208D764    3\n",
       "82679ED6AB16F320FC9566B50CBBA5E7    3\n",
       "Name: gtin, dtype: int64"
      ]
     },
     "execution_count": 28,
     "metadata": {},
     "output_type": "execute_result"
    }
   ],
   "source": [
    "factory_in.query(\"operation_type == 'Возврат'\")['gtin'].value_counts().head(5)"
   ]
  },
  {
   "cell_type": "code",
   "execution_count": 141,
   "metadata": {
    "tags": []
   },
   "outputs": [
    {
     "name": "stdout",
     "output_type": "stream",
     "text": [
      "<class 'pandas.core.frame.DataFrame'>\n",
      "RangeIndex: 2597 entries, 0 to 2596\n",
      "Data columns (total 6 columns):\n",
      " #   Column          Non-Null Count  Dtype \n",
      "---  ------          --------------  ----- \n",
      " 0   dt              2597 non-null   object\n",
      " 1   inn             2597 non-null   object\n",
      " 2   gtin            2597 non-null   object\n",
      " 3   prid            2597 non-null   object\n",
      " 4   operation_type  2597 non-null   object\n",
      " 5   cnt             2597 non-null   int64 \n",
      "dtypes: int64(1), object(5)\n",
      "memory usage: 121.9+ KB\n"
     ]
    }
   ],
   "source": [
    "factory_in.info()"
   ]
  },
  {
   "cell_type": "code",
   "execution_count": 136,
   "metadata": {
    "tags": []
   },
   "outputs": [
    {
     "data": {
      "text/plain": [
       "DA62EC79660CF21AC37A260DA6F642C4    2597\n",
       "Name: inn, dtype: int64"
      ]
     },
     "execution_count": 136,
     "metadata": {},
     "output_type": "execute_result"
    }
   ],
   "source": [
    "factory_in['inn'].value_counts()"
   ]
  },
  {
   "cell_type": "code",
   "execution_count": 137,
   "metadata": {
    "tags": []
   },
   "outputs": [
    {
     "data": {
      "text/plain": [
       "DA62EC79660CF21AC37A260DA6F642C4    2597\n",
       "Name: prid, dtype: int64"
      ]
     },
     "execution_count": 137,
     "metadata": {},
     "output_type": "execute_result"
    }
   ],
   "source": [
    "factory_in['prid'].value_counts()"
   ]
  },
  {
   "cell_type": "code",
   "execution_count": 138,
   "metadata": {
    "tags": []
   },
   "outputs": [
    {
     "data": {
      "text/plain": [
       "8088EB728C76675D594BE5097D66B966    106\n",
       "289AEBCA82877CB19E7AA33E0E522883     97\n",
       "5D74B67E1DAC42C7526F27A6BDA73FF6     91\n",
       "06F4CAE6A2764D141E53C3AC8282CD36     66\n",
       "01008088C6247B9C0A1F4F460898065E     57\n",
       "                                   ... \n",
       "25B8F97289E7985F6C9B098DB708B23D      1\n",
       "D0FDFB508148EFA08BA92884FD9C670D      1\n",
       "12667ADBF753BA1B5D3AF02BD5899D74      1\n",
       "2370C429DEB718B7B6B7FF6C77DFF305      1\n",
       "F65C15E99254D739851169A81D9C5782      1\n",
       "Name: gtin, Length: 321, dtype: int64"
      ]
     },
     "execution_count": 138,
     "metadata": {},
     "output_type": "execute_result"
    }
   ],
   "source": [
    "factory_in['gtin'].value_counts()"
   ]
  },
  {
   "cell_type": "code",
   "execution_count": 139,
   "metadata": {
    "tags": []
   },
   "outputs": [
    {
     "data": {
      "text/plain": [
       "1       691\n",
       "2       162\n",
       "3        51\n",
       "4        38\n",
       "5        25\n",
       "       ... \n",
       "3952      1\n",
       "3208      1\n",
       "2280      1\n",
       "9960      1\n",
       "4582      1\n",
       "Name: cnt, Length: 1149, dtype: int64"
      ]
     },
     "execution_count": 139,
     "metadata": {},
     "output_type": "execute_result"
    }
   ],
   "source": [
    "factory_in['cnt'].value_counts()"
   ]
  },
  {
   "cell_type": "code",
   "execution_count": 140,
   "metadata": {
    "tags": []
   },
   "outputs": [
    {
     "data": {
      "text/plain": [
       "РФ                     1917\n",
       "Перемаркировка          598\n",
       "Возврат                  81\n",
       "Маркировка остатков       1\n",
       "Name: operation_type, dtype: int64"
      ]
     },
     "execution_count": 140,
     "metadata": {},
     "output_type": "execute_result"
    }
   ],
   "source": [
    "factory_in['operation_type'].value_counts()"
   ]
  },
  {
   "cell_type": "markdown",
   "metadata": {
    "jp-MarkdownHeadingCollapsed": true,
    "tags": []
   },
   "source": [
    "## Производитель вывод"
   ]
  },
  {
   "cell_type": "code",
   "execution_count": 6,
   "metadata": {
    "tags": []
   },
   "outputs": [
    {
     "data": {
      "text/html": [
       "<div>\n",
       "<style scoped>\n",
       "    .dataframe tbody tr th:only-of-type {\n",
       "        vertical-align: middle;\n",
       "    }\n",
       "\n",
       "    .dataframe tbody tr th {\n",
       "        vertical-align: top;\n",
       "    }\n",
       "\n",
       "    .dataframe thead th {\n",
       "        text-align: right;\n",
       "    }\n",
       "</style>\n",
       "<table border=\"1\" class=\"dataframe\">\n",
       "  <thead>\n",
       "    <tr style=\"text-align: right;\">\n",
       "      <th></th>\n",
       "      <th>dt</th>\n",
       "      <th>gtin</th>\n",
       "      <th>prid</th>\n",
       "      <th>inn</th>\n",
       "      <th>id_sp_</th>\n",
       "      <th>type_operation</th>\n",
       "      <th>price</th>\n",
       "      <th>cnt</th>\n",
       "    </tr>\n",
       "  </thead>\n",
       "  <tbody>\n",
       "    <tr>\n",
       "      <th>0</th>\n",
       "      <td>2022-10-15</td>\n",
       "      <td>289AEBCA82877CB19E7AA33E0E522883</td>\n",
       "      <td>DA62EC79660CF21AC37A260DA6F642C4</td>\n",
       "      <td>89F1BFD156A04E3D9B28C7FD6BED4F2F</td>\n",
       "      <td>F5DEEE4DB58DAE786ABB7ACC1339E7AC</td>\n",
       "      <td>Продажа конечному потребителю в точке продаж</td>\n",
       "      <td>1285</td>\n",
       "      <td>2</td>\n",
       "    </tr>\n",
       "    <tr>\n",
       "      <th>1</th>\n",
       "      <td>2022-10-15</td>\n",
       "      <td>289AEBCA82877CB19E7AA33E0E522883</td>\n",
       "      <td>DA62EC79660CF21AC37A260DA6F642C4</td>\n",
       "      <td>89F1BFD156A04E3D9B28C7FD6BED4F2F</td>\n",
       "      <td>0CDC2604FE5051E46DA2A9ED5B318274</td>\n",
       "      <td>Продажа конечному потребителю в точке продаж</td>\n",
       "      <td>1285</td>\n",
       "      <td>2</td>\n",
       "    </tr>\n",
       "    <tr>\n",
       "      <th>2</th>\n",
       "      <td>2022-10-15</td>\n",
       "      <td>289AEBCA82877CB19E7AA33E0E522883</td>\n",
       "      <td>DA62EC79660CF21AC37A260DA6F642C4</td>\n",
       "      <td>89F1BFD156A04E3D9B28C7FD6BED4F2F</td>\n",
       "      <td>5196C057F2C464323436C87B54DE6119</td>\n",
       "      <td>Продажа конечному потребителю в точке продаж</td>\n",
       "      <td>1128</td>\n",
       "      <td>1</td>\n",
       "    </tr>\n",
       "    <tr>\n",
       "      <th>3</th>\n",
       "      <td>2022-10-15</td>\n",
       "      <td>289AEBCA82877CB19E7AA33E0E522883</td>\n",
       "      <td>DA62EC79660CF21AC37A260DA6F642C4</td>\n",
       "      <td>89F1BFD156A04E3D9B28C7FD6BED4F2F</td>\n",
       "      <td>29F8E31472B06FD89405AB4CF147D352</td>\n",
       "      <td>Продажа конечному потребителю в точке продаж</td>\n",
       "      <td>1285</td>\n",
       "      <td>2</td>\n",
       "    </tr>\n",
       "    <tr>\n",
       "      <th>4</th>\n",
       "      <td>2022-10-15</td>\n",
       "      <td>289AEBCA82877CB19E7AA33E0E522883</td>\n",
       "      <td>DA62EC79660CF21AC37A260DA6F642C4</td>\n",
       "      <td>89F1BFD156A04E3D9B28C7FD6BED4F2F</td>\n",
       "      <td>E778C673254F2DE374B3EAB367FF3478</td>\n",
       "      <td>Продажа конечному потребителю в точке продаж</td>\n",
       "      <td>1285</td>\n",
       "      <td>1</td>\n",
       "    </tr>\n",
       "  </tbody>\n",
       "</table>\n",
       "</div>"
      ],
      "text/plain": [
       "           dt                              gtin  \\\n",
       "0  2022-10-15  289AEBCA82877CB19E7AA33E0E522883   \n",
       "1  2022-10-15  289AEBCA82877CB19E7AA33E0E522883   \n",
       "2  2022-10-15  289AEBCA82877CB19E7AA33E0E522883   \n",
       "3  2022-10-15  289AEBCA82877CB19E7AA33E0E522883   \n",
       "4  2022-10-15  289AEBCA82877CB19E7AA33E0E522883   \n",
       "\n",
       "                               prid                               inn  \\\n",
       "0  DA62EC79660CF21AC37A260DA6F642C4  89F1BFD156A04E3D9B28C7FD6BED4F2F   \n",
       "1  DA62EC79660CF21AC37A260DA6F642C4  89F1BFD156A04E3D9B28C7FD6BED4F2F   \n",
       "2  DA62EC79660CF21AC37A260DA6F642C4  89F1BFD156A04E3D9B28C7FD6BED4F2F   \n",
       "3  DA62EC79660CF21AC37A260DA6F642C4  89F1BFD156A04E3D9B28C7FD6BED4F2F   \n",
       "4  DA62EC79660CF21AC37A260DA6F642C4  89F1BFD156A04E3D9B28C7FD6BED4F2F   \n",
       "\n",
       "                             id_sp_  \\\n",
       "0  F5DEEE4DB58DAE786ABB7ACC1339E7AC   \n",
       "1  0CDC2604FE5051E46DA2A9ED5B318274   \n",
       "2  5196C057F2C464323436C87B54DE6119   \n",
       "3  29F8E31472B06FD89405AB4CF147D352   \n",
       "4  E778C673254F2DE374B3EAB367FF3478   \n",
       "\n",
       "                                 type_operation  price  cnt  \n",
       "0  Продажа конечному потребителю в точке продаж   1285    2  \n",
       "1  Продажа конечному потребителю в точке продаж   1285    2  \n",
       "2  Продажа конечному потребителю в точке продаж   1128    1  \n",
       "3  Продажа конечному потребителю в точке продаж   1285    2  \n",
       "4  Продажа конечному потребителю в точке продаж   1285    1  "
      ]
     },
     "execution_count": 6,
     "metadata": {},
     "output_type": "execute_result"
    }
   ],
   "source": [
    "factory_out = pd.read_csv('data/Дополнительные датасеты для продукта для производителя/Данные о выводе товаров из оборота с 2021-11-22 по 2022-11-21 один производитель.csv')\n",
    "factory_out.head(5)"
   ]
  },
  {
   "cell_type": "code",
   "execution_count": 33,
   "metadata": {
    "tags": []
   },
   "outputs": [],
   "source": [
    "factory_out['price_out'] = factory_out['price'] / factory_out['cnt']"
   ]
  },
  {
   "cell_type": "code",
   "execution_count": 37,
   "metadata": {
    "tags": []
   },
   "outputs": [
    {
     "data": {
      "text/plain": [
       "array(['289AEBCA82877CB19E7AA33E0E522883',\n",
       "       '8088EB728C76675D594BE5097D66B966',\n",
       "       'E4CBE8BA3DBC3C6E2E85EC808EFCF3F5',\n",
       "       'E0C3BE288E09F7A2529D358D54AA71DC',\n",
       "       '5D74B67E1DAC42C7526F27A6BDA73FF6'], dtype=object)"
      ]
     },
     "execution_count": 37,
     "metadata": {},
     "output_type": "execute_result"
    }
   ],
   "source": [
    "factory_out['gtin'].unique()[:5]"
   ]
  },
  {
   "cell_type": "code",
   "execution_count": 40,
   "metadata": {
    "tags": []
   },
   "outputs": [
    {
     "data": {
      "text/plain": [
       "inn\n",
       "00428A5DE4609FB27B275440CA52EEDE    1553.250000\n",
       "0058A60B0B25912D196873A4A12018F7    1928.000000\n",
       "005EC7ED4F75FF426E5248408AB3BE7E      47.333333\n",
       "00847C212E2E0C5681574CB5C2D9441E    1012.545168\n",
       "00A7A563FB2C0A3CCED2904C849254D3     899.218750\n",
       "                                       ...     \n",
       "FFB0435C6EB8DB04945429DB03F91639    1192.555227\n",
       "FFC98119D6193CCA5C46ABE462553004    2245.140455\n",
       "FFD7019B7CBCDEFCCE9A0B6E2BB63AA6    1878.947368\n",
       "FFE206BA6648A50388B72EDA4AD764D6    1305.761905\n",
       "FFEF3B3E700AB4DA1BEBA98140B49667    2145.591398\n",
       "Name: price_out, Length: 2248, dtype: float64"
      ]
     },
     "execution_count": 40,
     "metadata": {},
     "output_type": "execute_result"
    }
   ],
   "source": [
    "factory_out.query(\"gtin == '5D74B67E1DAC42C7526F27A6BDA73FF6'\").groupby(['inn'])['price_out'].mean()"
   ]
  },
  {
   "cell_type": "code",
   "execution_count": 142,
   "metadata": {
    "tags": []
   },
   "outputs": [
    {
     "name": "stdout",
     "output_type": "stream",
     "text": [
      "<class 'pandas.core.frame.DataFrame'>\n",
      "RangeIndex: 1650157 entries, 0 to 1650156\n",
      "Data columns (total 8 columns):\n",
      " #   Column          Non-Null Count    Dtype \n",
      "---  ------          --------------    ----- \n",
      " 0   dt              1650157 non-null  object\n",
      " 1   gtin            1650157 non-null  object\n",
      " 2   prid            1650157 non-null  object\n",
      " 3   inn             1650157 non-null  object\n",
      " 4   id_sp_          1404578 non-null  object\n",
      " 5   type_operation  1650157 non-null  object\n",
      " 6   price           1650157 non-null  int64 \n",
      " 7   cnt             1650157 non-null  int64 \n",
      "dtypes: int64(2), object(6)\n",
      "memory usage: 100.7+ MB\n"
     ]
    }
   ],
   "source": [
    "factory_out.info()"
   ]
  },
  {
   "cell_type": "code",
   "execution_count": 212,
   "metadata": {
    "tags": []
   },
   "outputs": [
    {
     "data": {
      "text/plain": [
       "0                                   245579\n",
       "A496FEE4E9523BDC1118451E5912330C     25888\n",
       "1A03FC38DA17FD0B187A9F74D6F876A1     25813\n",
       "9D28FDABCB9A028CDD077BE0EF013912     24718\n",
       "2920920398BFC032194733171301B81B     21211\n",
       "                                     ...  \n",
       "4F65B8CFBB86E76807D1B286581067CB         1\n",
       "63E0C29662F643BFB66745473092E040         1\n",
       "FFA88981648E66BF0CF4B4038C473C1C         1\n",
       "20507498F919F3484EDDDB7A21D4F5EA         1\n",
       "BEC4F813983EE28810439D3A193FEFEE         1\n",
       "Name: id_sp_, Length: 14887, dtype: int64"
      ]
     },
     "execution_count": 212,
     "metadata": {},
     "output_type": "execute_result"
    }
   ],
   "source": [
    "factory_out['id_sp_'].fillna('0').value_counts()"
   ]
  },
  {
   "cell_type": "code",
   "execution_count": 211,
   "metadata": {
    "tags": []
   },
   "outputs": [
    {
     "data": {
      "text/plain": [
       "89F1BFD156A04E3D9B28C7FD6BED4F2F    363245\n",
       "E147E089C99F3A5EFEEF57739F60EFD1    187317\n",
       "DA62EC79660CF21AC37A260DA6F642C4    152785\n",
       "B73B3E40E1D168D794E7AF988235DDC7     95138\n",
       "5C87E9B71FEC0A6A9C761D46F0B3EB9C     52401\n",
       "                                     ...  \n",
       "966D483304A81F1072FE9555C1E6D26C         1\n",
       "1D9F91171AFF3F3679EF1F318A919500         1\n",
       "FAFC6E2FA724BCE836DDC84EC2927C30         1\n",
       "4DCF5D5C7A901B7A270BBE0CFF750B0A         1\n",
       "0E5F3149E060CCB98945B78BE053CED5         1\n",
       "Name: inn, Length: 4446, dtype: int64"
      ]
     },
     "execution_count": 211,
     "metadata": {},
     "output_type": "execute_result"
    }
   ],
   "source": [
    "factory_out['inn'].fillna('0').value_counts()"
   ]
  },
  {
   "cell_type": "code",
   "execution_count": 117,
   "metadata": {
    "tags": []
   },
   "outputs": [
    {
     "data": {
      "text/plain": [
       "289AEBCA82877CB19E7AA33E0E522883    350721\n",
       "5D74B67E1DAC42C7526F27A6BDA73FF6    148471\n",
       "06F4CAE6A2764D141E53C3AC8282CD36    122038\n",
       "19AB58E7A981925E37850D2BFF503CA0    103042\n",
       "8088EB728C76675D594BE5097D66B966     72783\n",
       "                                     ...  \n",
       "D809545280C070B5D4EF1AB58E9AF39E         2\n",
       "D84E3B2BFB8EFCFE0E76435CAF9512E3         2\n",
       "1B851BAD37A709E019629AAD744E799A         1\n",
       "1FED4E2C4360A7D1B5479D4E030474BE         1\n",
       "50737869A346A8CA42BFB29C7894396D         1\n",
       "Name: gtin, Length: 401, dtype: int64"
      ]
     },
     "execution_count": 117,
     "metadata": {},
     "output_type": "execute_result"
    }
   ],
   "source": [
    "factory_out['gtin'].value_counts()"
   ]
  },
  {
   "cell_type": "code",
   "execution_count": 118,
   "metadata": {
    "tags": []
   },
   "outputs": [
    {
     "data": {
      "text/plain": [
       "Продажа конечному потребителю в точке продаж    1559507\n",
       "Прочий тип вывода из оборота                      44840\n",
       "Дистанционная продажа конечному потребителю       38569\n",
       "Конечная продажа организации                       3059\n",
       "Списание / Вывод из оборота без получателя         2908\n",
       "Продажи за пределы РФ                              1274\n",
       "Name: type_operation, dtype: int64"
      ]
     },
     "execution_count": 118,
     "metadata": {},
     "output_type": "execute_result"
    }
   ],
   "source": [
    "factory_out['type_operation'].value_counts()"
   ]
  },
  {
   "cell_type": "code",
   "execution_count": 119,
   "metadata": {
    "tags": []
   },
   "outputs": [
    {
     "data": {
      "text/plain": [
       "gtin\n",
       "01008088C6247B9C0A1F4F460898065E    85438.007685\n",
       "0103492993C57F25EDB5531ABB40089D     2155.602816\n",
       "017610CEC5635945ED5AC900701B2357     4328.356840\n",
       "01C113B0C991B1427C40F5B593E53786     2144.212005\n",
       "024622A87791CED3E996965EBA7F3DC8        0.000000\n",
       "                                        ...     \n",
       "FF1C4E0671C972C4D57D17E7A000E1C0      571.568301\n",
       "FF37E7678431101D484331E58D0B41D1     1805.428123\n",
       "FFA503105DB84B1720814B65DA93071E     7716.794021\n",
       "FFF2836422F4ACD4DD9360512CA0E5A1     7149.572699\n",
       "FFF8CA99860BCD1370FA25B49044E225      719.088304\n",
       "Name: price, Length: 401, dtype: float64"
      ]
     },
     "execution_count": 119,
     "metadata": {},
     "output_type": "execute_result"
    }
   ],
   "source": [
    "factory_out.groupby(['gtin'])['price'].std()"
   ]
  },
  {
   "cell_type": "code",
   "execution_count": 146,
   "metadata": {
    "tags": []
   },
   "outputs": [
    {
     "data": {
      "text/html": [
       "<div>\n",
       "<style scoped>\n",
       "    .dataframe tbody tr th:only-of-type {\n",
       "        vertical-align: middle;\n",
       "    }\n",
       "\n",
       "    .dataframe tbody tr th {\n",
       "        vertical-align: top;\n",
       "    }\n",
       "\n",
       "    .dataframe thead th {\n",
       "        text-align: right;\n",
       "    }\n",
       "</style>\n",
       "<table border=\"1\" class=\"dataframe\">\n",
       "  <thead>\n",
       "    <tr style=\"text-align: right;\">\n",
       "      <th></th>\n",
       "      <th>dt</th>\n",
       "      <th>gtin</th>\n",
       "      <th>prid</th>\n",
       "      <th>inn</th>\n",
       "      <th>id_sp_</th>\n",
       "      <th>type_operation</th>\n",
       "      <th>price</th>\n",
       "      <th>cnt</th>\n",
       "    </tr>\n",
       "  </thead>\n",
       "  <tbody>\n",
       "    <tr>\n",
       "      <th>101</th>\n",
       "      <td>2022-10-15</td>\n",
       "      <td>01008088C6247B9C0A1F4F460898065E</td>\n",
       "      <td>DA62EC79660CF21AC37A260DA6F642C4</td>\n",
       "      <td>F7CA3735AF5996979B520D3FDB0CA19A</td>\n",
       "      <td>0C5ABBF5EB3809B5AD17C9B2517EA562</td>\n",
       "      <td>Продажа конечному потребителю в точке продаж</td>\n",
       "      <td>5000</td>\n",
       "      <td>2</td>\n",
       "    </tr>\n",
       "    <tr>\n",
       "      <th>172</th>\n",
       "      <td>2022-10-15</td>\n",
       "      <td>01008088C6247B9C0A1F4F460898065E</td>\n",
       "      <td>DA62EC79660CF21AC37A260DA6F642C4</td>\n",
       "      <td>3BFEEDFB792E6D27503E28C004F2574A</td>\n",
       "      <td>28F164BBFD63B4CBB98C2788158F4BD1</td>\n",
       "      <td>Продажа конечному потребителю в точке продаж</td>\n",
       "      <td>12142</td>\n",
       "      <td>1</td>\n",
       "    </tr>\n",
       "    <tr>\n",
       "      <th>238</th>\n",
       "      <td>2022-10-15</td>\n",
       "      <td>01008088C6247B9C0A1F4F460898065E</td>\n",
       "      <td>DA62EC79660CF21AC37A260DA6F642C4</td>\n",
       "      <td>DA885C6F8E3E132E144FA34D6CBEC543</td>\n",
       "      <td>62A51960D443FAE1F91C67FD618F72FB</td>\n",
       "      <td>Продажа конечному потребителю в точке продаж</td>\n",
       "      <td>11271</td>\n",
       "      <td>1</td>\n",
       "    </tr>\n",
       "    <tr>\n",
       "      <th>430</th>\n",
       "      <td>2022-03-02</td>\n",
       "      <td>01008088C6247B9C0A1F4F460898065E</td>\n",
       "      <td>DA62EC79660CF21AC37A260DA6F642C4</td>\n",
       "      <td>DA62EC79660CF21AC37A260DA6F642C4</td>\n",
       "      <td>BB45C1B1D24B888A78DDA9B1DDDAB9C3</td>\n",
       "      <td>Продажа конечному потребителю в точке продаж</td>\n",
       "      <td>8642</td>\n",
       "      <td>2</td>\n",
       "    </tr>\n",
       "    <tr>\n",
       "      <th>489</th>\n",
       "      <td>2022-03-02</td>\n",
       "      <td>01008088C6247B9C0A1F4F460898065E</td>\n",
       "      <td>DA62EC79660CF21AC37A260DA6F642C4</td>\n",
       "      <td>2BE02F3FE88C85D34B7B4A577DAA638D</td>\n",
       "      <td>NaN</td>\n",
       "      <td>Дистанционная продажа конечному потребителю</td>\n",
       "      <td>0</td>\n",
       "      <td>2</td>\n",
       "    </tr>\n",
       "  </tbody>\n",
       "</table>\n",
       "</div>"
      ],
      "text/plain": [
       "             dt                              gtin  \\\n",
       "101  2022-10-15  01008088C6247B9C0A1F4F460898065E   \n",
       "172  2022-10-15  01008088C6247B9C0A1F4F460898065E   \n",
       "238  2022-10-15  01008088C6247B9C0A1F4F460898065E   \n",
       "430  2022-03-02  01008088C6247B9C0A1F4F460898065E   \n",
       "489  2022-03-02  01008088C6247B9C0A1F4F460898065E   \n",
       "\n",
       "                                 prid                               inn  \\\n",
       "101  DA62EC79660CF21AC37A260DA6F642C4  F7CA3735AF5996979B520D3FDB0CA19A   \n",
       "172  DA62EC79660CF21AC37A260DA6F642C4  3BFEEDFB792E6D27503E28C004F2574A   \n",
       "238  DA62EC79660CF21AC37A260DA6F642C4  DA885C6F8E3E132E144FA34D6CBEC543   \n",
       "430  DA62EC79660CF21AC37A260DA6F642C4  DA62EC79660CF21AC37A260DA6F642C4   \n",
       "489  DA62EC79660CF21AC37A260DA6F642C4  2BE02F3FE88C85D34B7B4A577DAA638D   \n",
       "\n",
       "                               id_sp_  \\\n",
       "101  0C5ABBF5EB3809B5AD17C9B2517EA562   \n",
       "172  28F164BBFD63B4CBB98C2788158F4BD1   \n",
       "238  62A51960D443FAE1F91C67FD618F72FB   \n",
       "430  BB45C1B1D24B888A78DDA9B1DDDAB9C3   \n",
       "489                               NaN   \n",
       "\n",
       "                                   type_operation  price  cnt  \n",
       "101  Продажа конечному потребителю в точке продаж   5000    2  \n",
       "172  Продажа конечному потребителю в точке продаж  12142    1  \n",
       "238  Продажа конечному потребителю в точке продаж  11271    1  \n",
       "430  Продажа конечному потребителю в точке продаж   8642    2  \n",
       "489   Дистанционная продажа конечному потребителю      0    2  "
      ]
     },
     "execution_count": 146,
     "metadata": {},
     "output_type": "execute_result"
    }
   ],
   "source": [
    "factory_out[factory_out.gtin == '01008088C6247B9C0A1F4F460898065E'].head(5)"
   ]
  },
  {
   "cell_type": "code",
   "execution_count": 147,
   "metadata": {
    "tags": []
   },
   "outputs": [
    {
     "data": {
      "text/html": [
       "<div>\n",
       "<style scoped>\n",
       "    .dataframe tbody tr th:only-of-type {\n",
       "        vertical-align: middle;\n",
       "    }\n",
       "\n",
       "    .dataframe tbody tr th {\n",
       "        vertical-align: top;\n",
       "    }\n",
       "\n",
       "    .dataframe thead th {\n",
       "        text-align: right;\n",
       "    }\n",
       "</style>\n",
       "<table border=\"1\" class=\"dataframe\">\n",
       "  <thead>\n",
       "    <tr style=\"text-align: right;\">\n",
       "      <th></th>\n",
       "      <th>dt</th>\n",
       "      <th>gtin</th>\n",
       "      <th>prid</th>\n",
       "      <th>inn</th>\n",
       "      <th>id_sp_</th>\n",
       "      <th>type_operation</th>\n",
       "      <th>price</th>\n",
       "      <th>cnt</th>\n",
       "    </tr>\n",
       "  </thead>\n",
       "  <tbody>\n",
       "    <tr>\n",
       "      <th>1190546</th>\n",
       "      <td>2022-03-30</td>\n",
       "      <td>01008088C6247B9C0A1F4F460898065E</td>\n",
       "      <td>DA62EC79660CF21AC37A260DA6F642C4</td>\n",
       "      <td>94995E55885552CD919DC6F24DE51354</td>\n",
       "      <td>4C9838E08C2474E1C8CA5542F97980D0</td>\n",
       "      <td>Продажа конечному потребителю в точке продаж</td>\n",
       "      <td>11297000</td>\n",
       "      <td>1</td>\n",
       "    </tr>\n",
       "    <tr>\n",
       "      <th>341080</th>\n",
       "      <td>2022-08-09</td>\n",
       "      <td>01008088C6247B9C0A1F4F460898065E</td>\n",
       "      <td>DA62EC79660CF21AC37A260DA6F642C4</td>\n",
       "      <td>C1956EEE3041BB68F5205AFAB93F6FED</td>\n",
       "      <td>BBACF20220BBBA53083754F06DE06958</td>\n",
       "      <td>Продажа конечному потребителю в точке продаж</td>\n",
       "      <td>55885</td>\n",
       "      <td>1</td>\n",
       "    </tr>\n",
       "    <tr>\n",
       "      <th>63842</th>\n",
       "      <td>2022-04-25</td>\n",
       "      <td>01008088C6247B9C0A1F4F460898065E</td>\n",
       "      <td>DA62EC79660CF21AC37A260DA6F642C4</td>\n",
       "      <td>05E3E1DD8F6112C2D4E662FC11776124</td>\n",
       "      <td>F22305C3CEA6CAB02B7CEF7CB972A762</td>\n",
       "      <td>Продажа конечному потребителю в точке продаж</td>\n",
       "      <td>37142</td>\n",
       "      <td>1</td>\n",
       "    </tr>\n",
       "    <tr>\n",
       "      <th>281289</th>\n",
       "      <td>2022-08-01</td>\n",
       "      <td>01008088C6247B9C0A1F4F460898065E</td>\n",
       "      <td>DA62EC79660CF21AC37A260DA6F642C4</td>\n",
       "      <td>F0B3FD716A3ECFAC7F0EC84E06915A27</td>\n",
       "      <td>E25F450684003A46F90C5DD7BB90181A</td>\n",
       "      <td>Продажа конечному потребителю в точке продаж</td>\n",
       "      <td>26357</td>\n",
       "      <td>1</td>\n",
       "    </tr>\n",
       "    <tr>\n",
       "      <th>387309</th>\n",
       "      <td>2021-12-30</td>\n",
       "      <td>01008088C6247B9C0A1F4F460898065E</td>\n",
       "      <td>DA62EC79660CF21AC37A260DA6F642C4</td>\n",
       "      <td>51BF4A2F0E18A2DF4CD5F52E37E5FF31</td>\n",
       "      <td>8857956360B699C87581CD2E9DF38683</td>\n",
       "      <td>Продажа конечному потребителю в точке продаж</td>\n",
       "      <td>25642</td>\n",
       "      <td>1</td>\n",
       "    </tr>\n",
       "  </tbody>\n",
       "</table>\n",
       "</div>"
      ],
      "text/plain": [
       "                 dt                              gtin  \\\n",
       "1190546  2022-03-30  01008088C6247B9C0A1F4F460898065E   \n",
       "341080   2022-08-09  01008088C6247B9C0A1F4F460898065E   \n",
       "63842    2022-04-25  01008088C6247B9C0A1F4F460898065E   \n",
       "281289   2022-08-01  01008088C6247B9C0A1F4F460898065E   \n",
       "387309   2021-12-30  01008088C6247B9C0A1F4F460898065E   \n",
       "\n",
       "                                     prid                               inn  \\\n",
       "1190546  DA62EC79660CF21AC37A260DA6F642C4  94995E55885552CD919DC6F24DE51354   \n",
       "341080   DA62EC79660CF21AC37A260DA6F642C4  C1956EEE3041BB68F5205AFAB93F6FED   \n",
       "63842    DA62EC79660CF21AC37A260DA6F642C4  05E3E1DD8F6112C2D4E662FC11776124   \n",
       "281289   DA62EC79660CF21AC37A260DA6F642C4  F0B3FD716A3ECFAC7F0EC84E06915A27   \n",
       "387309   DA62EC79660CF21AC37A260DA6F642C4  51BF4A2F0E18A2DF4CD5F52E37E5FF31   \n",
       "\n",
       "                                   id_sp_  \\\n",
       "1190546  4C9838E08C2474E1C8CA5542F97980D0   \n",
       "341080   BBACF20220BBBA53083754F06DE06958   \n",
       "63842    F22305C3CEA6CAB02B7CEF7CB972A762   \n",
       "281289   E25F450684003A46F90C5DD7BB90181A   \n",
       "387309   8857956360B699C87581CD2E9DF38683   \n",
       "\n",
       "                                       type_operation     price  cnt  \n",
       "1190546  Продажа конечному потребителю в точке продаж  11297000    1  \n",
       "341080   Продажа конечному потребителю в точке продаж     55885    1  \n",
       "63842    Продажа конечному потребителю в точке продаж     37142    1  \n",
       "281289   Продажа конечному потребителю в точке продаж     26357    1  \n",
       "387309   Продажа конечному потребителю в точке продаж     25642    1  "
      ]
     },
     "execution_count": 147,
     "metadata": {},
     "output_type": "execute_result"
    }
   ],
   "source": [
    "factory_out[factory_out.gtin == '01008088C6247B9C0A1F4F460898065E'].sort_values(by='price', ascending=False).head(5)"
   ]
  },
  {
   "cell_type": "code",
   "execution_count": 204,
   "metadata": {
    "tags": []
   },
   "outputs": [
    {
     "data": {
      "text/html": [
       "<div>\n",
       "<style scoped>\n",
       "    .dataframe tbody tr th:only-of-type {\n",
       "        vertical-align: middle;\n",
       "    }\n",
       "\n",
       "    .dataframe tbody tr th {\n",
       "        vertical-align: top;\n",
       "    }\n",
       "\n",
       "    .dataframe thead th {\n",
       "        text-align: right;\n",
       "    }\n",
       "</style>\n",
       "<table border=\"1\" class=\"dataframe\">\n",
       "  <thead>\n",
       "    <tr style=\"text-align: right;\">\n",
       "      <th></th>\n",
       "      <th>dt</th>\n",
       "      <th>gtin</th>\n",
       "      <th>prid</th>\n",
       "      <th>inn</th>\n",
       "      <th>id_sp_</th>\n",
       "      <th>type_operation</th>\n",
       "      <th>price</th>\n",
       "      <th>cnt</th>\n",
       "    </tr>\n",
       "  </thead>\n",
       "  <tbody>\n",
       "    <tr>\n",
       "      <th>117500</th>\n",
       "      <td>2022-04-26</td>\n",
       "      <td>0103492993C57F25EDB5531ABB40089D</td>\n",
       "      <td>DA62EC79660CF21AC37A260DA6F642C4</td>\n",
       "      <td>DA62EC79660CF21AC37A260DA6F642C4</td>\n",
       "      <td>AD8536DFCEC366D3A8ED292B60B0C22A</td>\n",
       "      <td>Продажа конечному потребителю в точке продаж</td>\n",
       "      <td>18714</td>\n",
       "      <td>1</td>\n",
       "    </tr>\n",
       "    <tr>\n",
       "      <th>984810</th>\n",
       "      <td>2022-11-13</td>\n",
       "      <td>0103492993C57F25EDB5531ABB40089D</td>\n",
       "      <td>DA62EC79660CF21AC37A260DA6F642C4</td>\n",
       "      <td>DA62EC79660CF21AC37A260DA6F642C4</td>\n",
       "      <td>AD8536DFCEC366D3A8ED292B60B0C22A</td>\n",
       "      <td>Продажа конечному потребителю в точке продаж</td>\n",
       "      <td>14685</td>\n",
       "      <td>1</td>\n",
       "    </tr>\n",
       "    <tr>\n",
       "      <th>1298241</th>\n",
       "      <td>2022-11-18</td>\n",
       "      <td>0103492993C57F25EDB5531ABB40089D</td>\n",
       "      <td>DA62EC79660CF21AC37A260DA6F642C4</td>\n",
       "      <td>DA62EC79660CF21AC37A260DA6F642C4</td>\n",
       "      <td>AD8536DFCEC366D3A8ED292B60B0C22A</td>\n",
       "      <td>Продажа конечному потребителю в точке продаж</td>\n",
       "      <td>14685</td>\n",
       "      <td>1</td>\n",
       "    </tr>\n",
       "    <tr>\n",
       "      <th>1300969</th>\n",
       "      <td>2022-08-01</td>\n",
       "      <td>0103492993C57F25EDB5531ABB40089D</td>\n",
       "      <td>DA62EC79660CF21AC37A260DA6F642C4</td>\n",
       "      <td>DA62EC79660CF21AC37A260DA6F642C4</td>\n",
       "      <td>AD8536DFCEC366D3A8ED292B60B0C22A</td>\n",
       "      <td>Продажа конечному потребителю в точке продаж</td>\n",
       "      <td>14685</td>\n",
       "      <td>1</td>\n",
       "    </tr>\n",
       "    <tr>\n",
       "      <th>1400175</th>\n",
       "      <td>2022-07-05</td>\n",
       "      <td>0103492993C57F25EDB5531ABB40089D</td>\n",
       "      <td>DA62EC79660CF21AC37A260DA6F642C4</td>\n",
       "      <td>DA62EC79660CF21AC37A260DA6F642C4</td>\n",
       "      <td>AD8536DFCEC366D3A8ED292B60B0C22A</td>\n",
       "      <td>Продажа конечному потребителю в точке продаж</td>\n",
       "      <td>14685</td>\n",
       "      <td>1</td>\n",
       "    </tr>\n",
       "  </tbody>\n",
       "</table>\n",
       "</div>"
      ],
      "text/plain": [
       "                 dt                              gtin  \\\n",
       "117500   2022-04-26  0103492993C57F25EDB5531ABB40089D   \n",
       "984810   2022-11-13  0103492993C57F25EDB5531ABB40089D   \n",
       "1298241  2022-11-18  0103492993C57F25EDB5531ABB40089D   \n",
       "1300969  2022-08-01  0103492993C57F25EDB5531ABB40089D   \n",
       "1400175  2022-07-05  0103492993C57F25EDB5531ABB40089D   \n",
       "\n",
       "                                     prid                               inn  \\\n",
       "117500   DA62EC79660CF21AC37A260DA6F642C4  DA62EC79660CF21AC37A260DA6F642C4   \n",
       "984810   DA62EC79660CF21AC37A260DA6F642C4  DA62EC79660CF21AC37A260DA6F642C4   \n",
       "1298241  DA62EC79660CF21AC37A260DA6F642C4  DA62EC79660CF21AC37A260DA6F642C4   \n",
       "1300969  DA62EC79660CF21AC37A260DA6F642C4  DA62EC79660CF21AC37A260DA6F642C4   \n",
       "1400175  DA62EC79660CF21AC37A260DA6F642C4  DA62EC79660CF21AC37A260DA6F642C4   \n",
       "\n",
       "                                   id_sp_  \\\n",
       "117500   AD8536DFCEC366D3A8ED292B60B0C22A   \n",
       "984810   AD8536DFCEC366D3A8ED292B60B0C22A   \n",
       "1298241  AD8536DFCEC366D3A8ED292B60B0C22A   \n",
       "1300969  AD8536DFCEC366D3A8ED292B60B0C22A   \n",
       "1400175  AD8536DFCEC366D3A8ED292B60B0C22A   \n",
       "\n",
       "                                       type_operation  price  cnt  \n",
       "117500   Продажа конечному потребителю в точке продаж  18714    1  \n",
       "984810   Продажа конечному потребителю в точке продаж  14685    1  \n",
       "1298241  Продажа конечному потребителю в точке продаж  14685    1  \n",
       "1300969  Продажа конечному потребителю в точке продаж  14685    1  \n",
       "1400175  Продажа конечному потребителю в точке продаж  14685    1  "
      ]
     },
     "execution_count": 204,
     "metadata": {},
     "output_type": "execute_result"
    }
   ],
   "source": [
    "factory_out[factory_out.gtin == '0103492993C57F25EDB5531ABB40089D'].sort_values(by='price', ascending=False).head(5)"
   ]
  },
  {
   "cell_type": "code",
   "execution_count": 205,
   "metadata": {
    "tags": []
   },
   "outputs": [
    {
     "data": {
      "text/html": [
       "<div>\n",
       "<style scoped>\n",
       "    .dataframe tbody tr th:only-of-type {\n",
       "        vertical-align: middle;\n",
       "    }\n",
       "\n",
       "    .dataframe tbody tr th {\n",
       "        vertical-align: top;\n",
       "    }\n",
       "\n",
       "    .dataframe thead th {\n",
       "        text-align: right;\n",
       "    }\n",
       "</style>\n",
       "<table border=\"1\" class=\"dataframe\">\n",
       "  <thead>\n",
       "    <tr style=\"text-align: right;\">\n",
       "      <th></th>\n",
       "      <th>dt</th>\n",
       "      <th>gtin</th>\n",
       "      <th>prid</th>\n",
       "      <th>inn</th>\n",
       "      <th>id_sp_</th>\n",
       "      <th>type_operation</th>\n",
       "      <th>price</th>\n",
       "      <th>cnt</th>\n",
       "    </tr>\n",
       "  </thead>\n",
       "  <tbody>\n",
       "    <tr>\n",
       "      <th>250408</th>\n",
       "      <td>2022-11-02</td>\n",
       "      <td>01C113B0C991B1427C40F5B593E53786</td>\n",
       "      <td>DA62EC79660CF21AC37A260DA6F642C4</td>\n",
       "      <td>422164E7A685C1B211BE7B6A23603E67</td>\n",
       "      <td>9FCBD09ABA38AF115E9EA02F0866FFDA</td>\n",
       "      <td>Продажа конечному потребителю в точке продаж</td>\n",
       "      <td>10800</td>\n",
       "      <td>1</td>\n",
       "    </tr>\n",
       "    <tr>\n",
       "      <th>807646</th>\n",
       "      <td>2022-05-26</td>\n",
       "      <td>01C113B0C991B1427C40F5B593E53786</td>\n",
       "      <td>DA62EC79660CF21AC37A260DA6F642C4</td>\n",
       "      <td>9C64FB7E006B2225899F3537AD68ECD4</td>\n",
       "      <td>9BFEDACA58311646A8E9B9034DB4DDAC</td>\n",
       "      <td>Продажа конечному потребителю в точке продаж</td>\n",
       "      <td>9285</td>\n",
       "      <td>1</td>\n",
       "    </tr>\n",
       "    <tr>\n",
       "      <th>337367</th>\n",
       "      <td>2022-09-10</td>\n",
       "      <td>01C113B0C991B1427C40F5B593E53786</td>\n",
       "      <td>DA62EC79660CF21AC37A260DA6F642C4</td>\n",
       "      <td>4FA7C79096D40996753003FDEB651E4D</td>\n",
       "      <td>9B608A68035FB181D17AC213B65233AB</td>\n",
       "      <td>Продажа конечному потребителю в точке продаж</td>\n",
       "      <td>9142</td>\n",
       "      <td>1</td>\n",
       "    </tr>\n",
       "    <tr>\n",
       "      <th>846880</th>\n",
       "      <td>2022-03-03</td>\n",
       "      <td>01C113B0C991B1427C40F5B593E53786</td>\n",
       "      <td>DA62EC79660CF21AC37A260DA6F642C4</td>\n",
       "      <td>422164E7A685C1B211BE7B6A23603E67</td>\n",
       "      <td>9FCBD09ABA38AF115E9EA02F0866FFDA</td>\n",
       "      <td>Продажа конечному потребителю в точке продаж</td>\n",
       "      <td>8128</td>\n",
       "      <td>1</td>\n",
       "    </tr>\n",
       "    <tr>\n",
       "      <th>152257</th>\n",
       "      <td>2022-01-03</td>\n",
       "      <td>01C113B0C991B1427C40F5B593E53786</td>\n",
       "      <td>DA62EC79660CF21AC37A260DA6F642C4</td>\n",
       "      <td>9C64FB7E006B2225899F3537AD68ECD4</td>\n",
       "      <td>9BFEDACA58311646A8E9B9034DB4DDAC</td>\n",
       "      <td>Продажа конечному потребителю в точке продаж</td>\n",
       "      <td>6428</td>\n",
       "      <td>1</td>\n",
       "    </tr>\n",
       "  </tbody>\n",
       "</table>\n",
       "</div>"
      ],
      "text/plain": [
       "                dt                              gtin  \\\n",
       "250408  2022-11-02  01C113B0C991B1427C40F5B593E53786   \n",
       "807646  2022-05-26  01C113B0C991B1427C40F5B593E53786   \n",
       "337367  2022-09-10  01C113B0C991B1427C40F5B593E53786   \n",
       "846880  2022-03-03  01C113B0C991B1427C40F5B593E53786   \n",
       "152257  2022-01-03  01C113B0C991B1427C40F5B593E53786   \n",
       "\n",
       "                                    prid                               inn  \\\n",
       "250408  DA62EC79660CF21AC37A260DA6F642C4  422164E7A685C1B211BE7B6A23603E67   \n",
       "807646  DA62EC79660CF21AC37A260DA6F642C4  9C64FB7E006B2225899F3537AD68ECD4   \n",
       "337367  DA62EC79660CF21AC37A260DA6F642C4  4FA7C79096D40996753003FDEB651E4D   \n",
       "846880  DA62EC79660CF21AC37A260DA6F642C4  422164E7A685C1B211BE7B6A23603E67   \n",
       "152257  DA62EC79660CF21AC37A260DA6F642C4  9C64FB7E006B2225899F3537AD68ECD4   \n",
       "\n",
       "                                  id_sp_  \\\n",
       "250408  9FCBD09ABA38AF115E9EA02F0866FFDA   \n",
       "807646  9BFEDACA58311646A8E9B9034DB4DDAC   \n",
       "337367  9B608A68035FB181D17AC213B65233AB   \n",
       "846880  9FCBD09ABA38AF115E9EA02F0866FFDA   \n",
       "152257  9BFEDACA58311646A8E9B9034DB4DDAC   \n",
       "\n",
       "                                      type_operation  price  cnt  \n",
       "250408  Продажа конечному потребителю в точке продаж  10800    1  \n",
       "807646  Продажа конечному потребителю в точке продаж   9285    1  \n",
       "337367  Продажа конечному потребителю в точке продаж   9142    1  \n",
       "846880  Продажа конечному потребителю в точке продаж   8128    1  \n",
       "152257  Продажа конечному потребителю в точке продаж   6428    1  "
      ]
     },
     "execution_count": 205,
     "metadata": {},
     "output_type": "execute_result"
    }
   ],
   "source": [
    "factory_out[factory_out.gtin == '01C113B0C991B1427C40F5B593E53786'].sort_values(by='price', ascending=False).head(5)"
   ]
  },
  {
   "cell_type": "code",
   "execution_count": 120,
   "metadata": {
    "tags": []
   },
   "outputs": [
    {
     "data": {
      "text/plain": [
       "gtin\n",
       "01008088C6247B9C0A1F4F460898065E     8819.143764\n",
       "0103492993C57F25EDB5531ABB40089D    14228.000000\n",
       "017610CEC5635945ED5AC900701B2357     5079.073643\n",
       "01C113B0C991B1427C40F5B593E53786     3787.508161\n",
       "024622A87791CED3E996965EBA7F3DC8     4142.000000\n",
       "                                        ...     \n",
       "FF1C4E0671C972C4D57D17E7A000E1C0     1679.201048\n",
       "FF37E7678431101D484331E58D0B41D1     3004.177215\n",
       "FFA503105DB84B1720814B65DA93071E    18802.747099\n",
       "FFF2836422F4ACD4DD9360512CA0E5A1    10540.344000\n",
       "FFF8CA99860BCD1370FA25B49044E225     1561.030762\n",
       "Name: price, Length: 401, dtype: float64"
      ]
     },
     "execution_count": 120,
     "metadata": {},
     "output_type": "execute_result"
    }
   ],
   "source": [
    "factory_out.groupby(['gtin'])['price'].mean()"
   ]
  },
  {
   "cell_type": "markdown",
   "metadata": {
    "jp-MarkdownHeadingCollapsed": true,
    "tags": []
   },
   "source": [
    "## Перемещения"
   ]
  },
  {
   "cell_type": "code",
   "execution_count": 7,
   "metadata": {
    "tags": []
   },
   "outputs": [
    {
     "data": {
      "text/html": [
       "<div>\n",
       "<style scoped>\n",
       "    .dataframe tbody tr th:only-of-type {\n",
       "        vertical-align: middle;\n",
       "    }\n",
       "\n",
       "    .dataframe tbody tr th {\n",
       "        vertical-align: top;\n",
       "    }\n",
       "\n",
       "    .dataframe thead th {\n",
       "        text-align: right;\n",
       "    }\n",
       "</style>\n",
       "<table border=\"1\" class=\"dataframe\">\n",
       "  <thead>\n",
       "    <tr style=\"text-align: right;\">\n",
       "      <th></th>\n",
       "      <th>dt</th>\n",
       "      <th>gtin</th>\n",
       "      <th>prid</th>\n",
       "      <th>sender_inn</th>\n",
       "      <th>receiver_inn</th>\n",
       "      <th>cnt_moved</th>\n",
       "    </tr>\n",
       "  </thead>\n",
       "  <tbody>\n",
       "    <tr>\n",
       "      <th>0</th>\n",
       "      <td>2022-03-28</td>\n",
       "      <td>289AEBCA82877CB19E7AA33E0E522883</td>\n",
       "      <td>DA62EC79660CF21AC37A260DA6F642C4</td>\n",
       "      <td>1141B8EB196FC9FE45B4FF3ED85F77DF</td>\n",
       "      <td>3300B49A222B322B9EA60CE45672178C</td>\n",
       "      <td>5</td>\n",
       "    </tr>\n",
       "    <tr>\n",
       "      <th>1</th>\n",
       "      <td>2022-03-28</td>\n",
       "      <td>42E4014F6E3023404F8B676D080EDDB0</td>\n",
       "      <td>DA62EC79660CF21AC37A260DA6F642C4</td>\n",
       "      <td>B6D3FC3661E47A30E2579CF85C81F179</td>\n",
       "      <td>DFE5BB9A38F0887450C94A05B5258D16</td>\n",
       "      <td>1</td>\n",
       "    </tr>\n",
       "    <tr>\n",
       "      <th>2</th>\n",
       "      <td>2022-03-28</td>\n",
       "      <td>8AD9201DF484BA62BFCDA93389BE2546</td>\n",
       "      <td>DA62EC79660CF21AC37A260DA6F642C4</td>\n",
       "      <td>5137D2202694EB65874BB604ACA4C56B</td>\n",
       "      <td>6E13702FD0C465A91622BA2492AEBC03</td>\n",
       "      <td>1</td>\n",
       "    </tr>\n",
       "    <tr>\n",
       "      <th>3</th>\n",
       "      <td>2022-03-28</td>\n",
       "      <td>777D245A6557001F2461B3F35E68A759</td>\n",
       "      <td>DA62EC79660CF21AC37A260DA6F642C4</td>\n",
       "      <td>DA62EC79660CF21AC37A260DA6F642C4</td>\n",
       "      <td>2BE02F3FE88C85D34B7B4A577DAA638D</td>\n",
       "      <td>1</td>\n",
       "    </tr>\n",
       "    <tr>\n",
       "      <th>4</th>\n",
       "      <td>2022-03-28</td>\n",
       "      <td>D5849F5C3693948DA91F02E989A0AC9A</td>\n",
       "      <td>DA62EC79660CF21AC37A260DA6F642C4</td>\n",
       "      <td>623065E7FDF2FA62F2197A7C9F8F5333</td>\n",
       "      <td>C8719385CAB828EFE6FACB3D5304BF66</td>\n",
       "      <td>1</td>\n",
       "    </tr>\n",
       "  </tbody>\n",
       "</table>\n",
       "</div>"
      ],
      "text/plain": [
       "           dt                              gtin  \\\n",
       "0  2022-03-28  289AEBCA82877CB19E7AA33E0E522883   \n",
       "1  2022-03-28  42E4014F6E3023404F8B676D080EDDB0   \n",
       "2  2022-03-28  8AD9201DF484BA62BFCDA93389BE2546   \n",
       "3  2022-03-28  777D245A6557001F2461B3F35E68A759   \n",
       "4  2022-03-28  D5849F5C3693948DA91F02E989A0AC9A   \n",
       "\n",
       "                               prid                        sender_inn  \\\n",
       "0  DA62EC79660CF21AC37A260DA6F642C4  1141B8EB196FC9FE45B4FF3ED85F77DF   \n",
       "1  DA62EC79660CF21AC37A260DA6F642C4  B6D3FC3661E47A30E2579CF85C81F179   \n",
       "2  DA62EC79660CF21AC37A260DA6F642C4  5137D2202694EB65874BB604ACA4C56B   \n",
       "3  DA62EC79660CF21AC37A260DA6F642C4  DA62EC79660CF21AC37A260DA6F642C4   \n",
       "4  DA62EC79660CF21AC37A260DA6F642C4  623065E7FDF2FA62F2197A7C9F8F5333   \n",
       "\n",
       "                       receiver_inn  cnt_moved  \n",
       "0  3300B49A222B322B9EA60CE45672178C          5  \n",
       "1  DFE5BB9A38F0887450C94A05B5258D16          1  \n",
       "2  6E13702FD0C465A91622BA2492AEBC03          1  \n",
       "3  2BE02F3FE88C85D34B7B4A577DAA638D          1  \n",
       "4  C8719385CAB828EFE6FACB3D5304BF66          1  "
      ]
     },
     "execution_count": 7,
     "metadata": {},
     "output_type": "execute_result"
    }
   ],
   "source": [
    "factory_move = pd.read_csv('data/Дополнительные датасеты для продукта для производителя/Данные о перемещениях товаров между участниками с 2021-11-22 по 2022-11-21 один производитель.csv')\n",
    "factory_move.head(5)"
   ]
  },
  {
   "cell_type": "code",
   "execution_count": 144,
   "metadata": {
    "tags": []
   },
   "outputs": [
    {
     "name": "stdout",
     "output_type": "stream",
     "text": [
      "<class 'pandas.core.frame.DataFrame'>\n",
      "RangeIndex: 342302 entries, 0 to 342301\n",
      "Data columns (total 6 columns):\n",
      " #   Column        Non-Null Count   Dtype \n",
      "---  ------        --------------   ----- \n",
      " 0   dt            342302 non-null  object\n",
      " 1   gtin          342302 non-null  object\n",
      " 2   prid          342302 non-null  object\n",
      " 3   sender_inn    342302 non-null  object\n",
      " 4   receiver_inn  342302 non-null  object\n",
      " 5   cnt_moved     342302 non-null  int64 \n",
      "dtypes: int64(1), object(5)\n",
      "memory usage: 15.7+ MB\n"
     ]
    }
   ],
   "source": [
    "factory_move.info()"
   ]
  },
  {
   "cell_type": "code",
   "execution_count": 111,
   "metadata": {
    "tags": []
   },
   "outputs": [
    {
     "data": {
      "text/plain": [
       "06F4CAE6A2764D141E53C3AC8282CD36    17971\n",
       "5D74B67E1DAC42C7526F27A6BDA73FF6    17059\n",
       "19AB58E7A981925E37850D2BFF503CA0    13690\n",
       "289AEBCA82877CB19E7AA33E0E522883    13127\n",
       "33EB34CCEB2F31800590CD6A35D77E51     9790\n",
       "                                    ...  \n",
       "236CB4A1B6D48EF52B91EA00608955FD        2\n",
       "F490D05FF970042847BCA28DBC428AC5        1\n",
       "DF120B04C11313495366BFD9AB2D6349        1\n",
       "D0FDFB508148EFA08BA92884FD9C670D        1\n",
       "3538E27C87AF0716E95515A1525D937A        1\n",
       "Name: gtin, Length: 316, dtype: int64"
      ]
     },
     "execution_count": 111,
     "metadata": {},
     "output_type": "execute_result"
    }
   ],
   "source": [
    "factory_move['gtin'].value_counts()"
   ]
  },
  {
   "cell_type": "code",
   "execution_count": 112,
   "metadata": {
    "tags": []
   },
   "outputs": [
    {
     "data": {
      "text/plain": [
       "DA62EC79660CF21AC37A260DA6F642C4    342302\n",
       "Name: prid, dtype: int64"
      ]
     },
     "execution_count": 112,
     "metadata": {},
     "output_type": "execute_result"
    }
   ],
   "source": [
    "factory_move['prid'].value_counts()"
   ]
  },
  {
   "cell_type": "code",
   "execution_count": 113,
   "metadata": {
    "tags": []
   },
   "outputs": [
    {
     "data": {
      "text/plain": [
       "2BE02F3FE88C85D34B7B4A577DAA638D    78134\n",
       "DA62EC79660CF21AC37A260DA6F642C4    34738\n",
       "5137D2202694EB65874BB604ACA4C56B    21497\n",
       "1E9AB659E9470CE5A35CF1BA1FD4D490    12044\n",
       "1141B8EB196FC9FE45B4FF3ED85F77DF    11331\n",
       "                                    ...  \n",
       "911AF79EFA0838AA8C4A6E18C3923F9A        1\n",
       "EED55DBFD446B7C08893EF974B4A02F1        1\n",
       "403A01AA2BA723D2A64FBE86895ABC45        1\n",
       "B21928F371E80AA15D8F23FF1F9BDE40        1\n",
       "C130D61F5E5CA0BC4D0A7F7C0C52BB7A        1\n",
       "Name: sender_inn, Length: 416, dtype: int64"
      ]
     },
     "execution_count": 113,
     "metadata": {},
     "output_type": "execute_result"
    }
   ],
   "source": [
    "factory_move['sender_inn'].value_counts()"
   ]
  },
  {
   "cell_type": "code",
   "execution_count": 114,
   "metadata": {
    "tags": []
   },
   "outputs": [
    {
     "data": {
      "text/plain": [
       "2BE02F3FE88C85D34B7B4A577DAA638D    34077\n",
       "EC32658F10E46693F0E1C98483ABE2A0     4161\n",
       "811F94F707E9F70981237326C6629913     4054\n",
       "6E13702FD0C465A91622BA2492AEBC03     3633\n",
       "5C87E9B71FEC0A6A9C761D46F0B3EB9C     3597\n",
       "                                    ...  \n",
       "F7E2699071B647D9CFD864B133F4B376        1\n",
       "B2A0FD16DD2A4609E55DA5A8836048A0        1\n",
       "F4360EEED165AE5734B50B76B7D723C3        1\n",
       "73AB5C263012ED9C23EF4C64F9378A32        1\n",
       "D791263809523765446A6AFA6A1A82AD        1\n",
       "Name: receiver_inn, Length: 5642, dtype: int64"
      ]
     },
     "execution_count": 114,
     "metadata": {},
     "output_type": "execute_result"
    }
   ],
   "source": [
    "factory_move['receiver_inn'].value_counts()"
   ]
  },
  {
   "cell_type": "markdown",
   "metadata": {
    "tags": []
   },
   "source": [
    "## Объединенная"
   ]
  },
  {
   "cell_type": "code",
   "execution_count": null,
   "metadata": {},
   "outputs": [],
   "source": [
    "Выбытие + Справочники"
   ]
  },
  {
   "cell_type": "code",
   "execution_count": null,
   "metadata": {
    "tags": []
   },
   "outputs": [],
   "source": [
    "factory_out.set_index('id_sp_').join(points_df.set_index('id_sp_')[['region_code','city_with_type', 'postal_code']]) \\\n",
    ".set_index('gtin').join(products_df.set_index('gtin')[['product_name', 'product_short_name', 'brand', 'country']])"
   ]
  },
  {
   "cell_type": "markdown",
   "metadata": {},
   "source": [
    "Движение + Справочники"
   ]
  },
  {
   "cell_type": "code",
   "execution_count": 19,
   "metadata": {
    "tags": []
   },
   "outputs": [
    {
     "data": {
      "text/html": [
       "<div>\n",
       "<style scoped>\n",
       "    .dataframe tbody tr th:only-of-type {\n",
       "        vertical-align: middle;\n",
       "    }\n",
       "\n",
       "    .dataframe tbody tr th {\n",
       "        vertical-align: top;\n",
       "    }\n",
       "\n",
       "    .dataframe thead th {\n",
       "        text-align: right;\n",
       "    }\n",
       "</style>\n",
       "<table border=\"1\" class=\"dataframe\">\n",
       "  <thead>\n",
       "    <tr style=\"text-align: right;\">\n",
       "      <th></th>\n",
       "      <th>receiver_inn</th>\n",
       "      <th>sender_inn</th>\n",
       "      <th>dt</th>\n",
       "      <th>prid</th>\n",
       "      <th>cnt_moved</th>\n",
       "      <th>product_name</th>\n",
       "      <th>product_short_name</th>\n",
       "      <th>brand</th>\n",
       "      <th>country</th>\n",
       "      <th>region_code</th>\n",
       "      <th>region_code_rec_inn</th>\n",
       "    </tr>\n",
       "  </thead>\n",
       "  <tbody>\n",
       "    <tr>\n",
       "      <th>0</th>\n",
       "      <td>001302A80A24238AFF2C225ED859BE24</td>\n",
       "      <td>4D335F39E9F496F935C0397D78D57285</td>\n",
       "      <td>2022-07-04</td>\n",
       "      <td>DA62EC79660CF21AC37A260DA6F642C4</td>\n",
       "      <td>10</td>\n",
       "      <td>3450999CEDBFE595CD0DDE4A287CF500</td>\n",
       "      <td>C6AD4B84092CCBB3E3729F73B00C55A1</td>\n",
       "      <td>550710FDA7CDAABA81268E683325B534</td>\n",
       "      <td>РОССИЯ</td>\n",
       "      <td>22</td>\n",
       "      <td>54.0</td>\n",
       "    </tr>\n",
       "    <tr>\n",
       "      <th>1</th>\n",
       "      <td>001302A80A24238AFF2C225ED859BE24</td>\n",
       "      <td>4D335F39E9F496F935C0397D78D57285</td>\n",
       "      <td>2022-07-04</td>\n",
       "      <td>DA62EC79660CF21AC37A260DA6F642C4</td>\n",
       "      <td>10</td>\n",
       "      <td>3450999CEDBFE595CD0DDE4A287CF500</td>\n",
       "      <td>C6AD4B84092CCBB3E3729F73B00C55A1</td>\n",
       "      <td>550710FDA7CDAABA81268E683325B534</td>\n",
       "      <td>РОССИЯ</td>\n",
       "      <td>22</td>\n",
       "      <td>54.0</td>\n",
       "    </tr>\n",
       "    <tr>\n",
       "      <th>2</th>\n",
       "      <td>001302A80A24238AFF2C225ED859BE24</td>\n",
       "      <td>4D335F39E9F496F935C0397D78D57285</td>\n",
       "      <td>2022-07-04</td>\n",
       "      <td>DA62EC79660CF21AC37A260DA6F642C4</td>\n",
       "      <td>10</td>\n",
       "      <td>3450999CEDBFE595CD0DDE4A287CF500</td>\n",
       "      <td>C6AD4B84092CCBB3E3729F73B00C55A1</td>\n",
       "      <td>550710FDA7CDAABA81268E683325B534</td>\n",
       "      <td>РОССИЯ</td>\n",
       "      <td>22</td>\n",
       "      <td>54.0</td>\n",
       "    </tr>\n",
       "    <tr>\n",
       "      <th>3</th>\n",
       "      <td>001302A80A24238AFF2C225ED859BE24</td>\n",
       "      <td>4D335F39E9F496F935C0397D78D57285</td>\n",
       "      <td>2022-07-04</td>\n",
       "      <td>DA62EC79660CF21AC37A260DA6F642C4</td>\n",
       "      <td>10</td>\n",
       "      <td>3450999CEDBFE595CD0DDE4A287CF500</td>\n",
       "      <td>C6AD4B84092CCBB3E3729F73B00C55A1</td>\n",
       "      <td>550710FDA7CDAABA81268E683325B534</td>\n",
       "      <td>РОССИЯ</td>\n",
       "      <td>22</td>\n",
       "      <td>54.0</td>\n",
       "    </tr>\n",
       "    <tr>\n",
       "      <th>4</th>\n",
       "      <td>001302A80A24238AFF2C225ED859BE24</td>\n",
       "      <td>4D335F39E9F496F935C0397D78D57285</td>\n",
       "      <td>2022-07-04</td>\n",
       "      <td>DA62EC79660CF21AC37A260DA6F642C4</td>\n",
       "      <td>10</td>\n",
       "      <td>3450999CEDBFE595CD0DDE4A287CF500</td>\n",
       "      <td>C6AD4B84092CCBB3E3729F73B00C55A1</td>\n",
       "      <td>550710FDA7CDAABA81268E683325B534</td>\n",
       "      <td>РОССИЯ</td>\n",
       "      <td>22</td>\n",
       "      <td>54.0</td>\n",
       "    </tr>\n",
       "    <tr>\n",
       "      <th>...</th>\n",
       "      <td>...</td>\n",
       "      <td>...</td>\n",
       "      <td>...</td>\n",
       "      <td>...</td>\n",
       "      <td>...</td>\n",
       "      <td>...</td>\n",
       "      <td>...</td>\n",
       "      <td>...</td>\n",
       "      <td>...</td>\n",
       "      <td>...</td>\n",
       "      <td>...</td>\n",
       "    </tr>\n",
       "    <tr>\n",
       "      <th>1579824</th>\n",
       "      <td>FFF9E9E005A8F64CB3F927D76CCBE34B</td>\n",
       "      <td>AE7F5C67298A67CACD2A193C9405524F</td>\n",
       "      <td>2022-07-28</td>\n",
       "      <td>DA62EC79660CF21AC37A260DA6F642C4</td>\n",
       "      <td>1</td>\n",
       "      <td>E736D2D4470658513B56DED9412A29EC</td>\n",
       "      <td>2868B842B46F754C088D89E130F89585</td>\n",
       "      <td>550710FDA7CDAABA81268E683325B534</td>\n",
       "      <td>РОССИЯ</td>\n",
       "      <td>50</td>\n",
       "      <td>76.0</td>\n",
       "    </tr>\n",
       "    <tr>\n",
       "      <th>1579825</th>\n",
       "      <td>FFF9E9E005A8F64CB3F927D76CCBE34B</td>\n",
       "      <td>AE7F5C67298A67CACD2A193C9405524F</td>\n",
       "      <td>2022-07-28</td>\n",
       "      <td>DA62EC79660CF21AC37A260DA6F642C4</td>\n",
       "      <td>1</td>\n",
       "      <td>E736D2D4470658513B56DED9412A29EC</td>\n",
       "      <td>2868B842B46F754C088D89E130F89585</td>\n",
       "      <td>550710FDA7CDAABA81268E683325B534</td>\n",
       "      <td>РОССИЯ</td>\n",
       "      <td>50</td>\n",
       "      <td>76.0</td>\n",
       "    </tr>\n",
       "    <tr>\n",
       "      <th>1579826</th>\n",
       "      <td>FFF9E9E005A8F64CB3F927D76CCBE34B</td>\n",
       "      <td>AE7F5C67298A67CACD2A193C9405524F</td>\n",
       "      <td>2021-11-25</td>\n",
       "      <td>DA62EC79660CF21AC37A260DA6F642C4</td>\n",
       "      <td>2</td>\n",
       "      <td>524574517B4F0E01D0905D34DDDA3F3C</td>\n",
       "      <td>C6AD4B84092CCBB3E3729F73B00C55A1</td>\n",
       "      <td>550710FDA7CDAABA81268E683325B534</td>\n",
       "      <td>РОССИЯ</td>\n",
       "      <td>50</td>\n",
       "      <td>76.0</td>\n",
       "    </tr>\n",
       "    <tr>\n",
       "      <th>1579827</th>\n",
       "      <td>FFF9E9E005A8F64CB3F927D76CCBE34B</td>\n",
       "      <td>AE7F5C67298A67CACD2A193C9405524F</td>\n",
       "      <td>2022-04-20</td>\n",
       "      <td>DA62EC79660CF21AC37A260DA6F642C4</td>\n",
       "      <td>2</td>\n",
       "      <td>524574517B4F0E01D0905D34DDDA3F3C</td>\n",
       "      <td>C6AD4B84092CCBB3E3729F73B00C55A1</td>\n",
       "      <td>550710FDA7CDAABA81268E683325B534</td>\n",
       "      <td>РОССИЯ</td>\n",
       "      <td>50</td>\n",
       "      <td>76.0</td>\n",
       "    </tr>\n",
       "    <tr>\n",
       "      <th>1579828</th>\n",
       "      <td>FFF9E9E005A8F64CB3F927D76CCBE34B</td>\n",
       "      <td>AE7F5C67298A67CACD2A193C9405524F</td>\n",
       "      <td>2022-01-20</td>\n",
       "      <td>DA62EC79660CF21AC37A260DA6F642C4</td>\n",
       "      <td>1</td>\n",
       "      <td>524574517B4F0E01D0905D34DDDA3F3C</td>\n",
       "      <td>C6AD4B84092CCBB3E3729F73B00C55A1</td>\n",
       "      <td>550710FDA7CDAABA81268E683325B534</td>\n",
       "      <td>РОССИЯ</td>\n",
       "      <td>50</td>\n",
       "      <td>76.0</td>\n",
       "    </tr>\n",
       "  </tbody>\n",
       "</table>\n",
       "<p>1579829 rows × 11 columns</p>\n",
       "</div>"
      ],
      "text/plain": [
       "                             receiver_inn                        sender_inn  \\\n",
       "0        001302A80A24238AFF2C225ED859BE24  4D335F39E9F496F935C0397D78D57285   \n",
       "1        001302A80A24238AFF2C225ED859BE24  4D335F39E9F496F935C0397D78D57285   \n",
       "2        001302A80A24238AFF2C225ED859BE24  4D335F39E9F496F935C0397D78D57285   \n",
       "3        001302A80A24238AFF2C225ED859BE24  4D335F39E9F496F935C0397D78D57285   \n",
       "4        001302A80A24238AFF2C225ED859BE24  4D335F39E9F496F935C0397D78D57285   \n",
       "...                                   ...                               ...   \n",
       "1579824  FFF9E9E005A8F64CB3F927D76CCBE34B  AE7F5C67298A67CACD2A193C9405524F   \n",
       "1579825  FFF9E9E005A8F64CB3F927D76CCBE34B  AE7F5C67298A67CACD2A193C9405524F   \n",
       "1579826  FFF9E9E005A8F64CB3F927D76CCBE34B  AE7F5C67298A67CACD2A193C9405524F   \n",
       "1579827  FFF9E9E005A8F64CB3F927D76CCBE34B  AE7F5C67298A67CACD2A193C9405524F   \n",
       "1579828  FFF9E9E005A8F64CB3F927D76CCBE34B  AE7F5C67298A67CACD2A193C9405524F   \n",
       "\n",
       "                 dt                              prid  cnt_moved  \\\n",
       "0        2022-07-04  DA62EC79660CF21AC37A260DA6F642C4         10   \n",
       "1        2022-07-04  DA62EC79660CF21AC37A260DA6F642C4         10   \n",
       "2        2022-07-04  DA62EC79660CF21AC37A260DA6F642C4         10   \n",
       "3        2022-07-04  DA62EC79660CF21AC37A260DA6F642C4         10   \n",
       "4        2022-07-04  DA62EC79660CF21AC37A260DA6F642C4         10   \n",
       "...             ...                               ...        ...   \n",
       "1579824  2022-07-28  DA62EC79660CF21AC37A260DA6F642C4          1   \n",
       "1579825  2022-07-28  DA62EC79660CF21AC37A260DA6F642C4          1   \n",
       "1579826  2021-11-25  DA62EC79660CF21AC37A260DA6F642C4          2   \n",
       "1579827  2022-04-20  DA62EC79660CF21AC37A260DA6F642C4          2   \n",
       "1579828  2022-01-20  DA62EC79660CF21AC37A260DA6F642C4          1   \n",
       "\n",
       "                             product_name                product_short_name  \\\n",
       "0        3450999CEDBFE595CD0DDE4A287CF500  C6AD4B84092CCBB3E3729F73B00C55A1   \n",
       "1        3450999CEDBFE595CD0DDE4A287CF500  C6AD4B84092CCBB3E3729F73B00C55A1   \n",
       "2        3450999CEDBFE595CD0DDE4A287CF500  C6AD4B84092CCBB3E3729F73B00C55A1   \n",
       "3        3450999CEDBFE595CD0DDE4A287CF500  C6AD4B84092CCBB3E3729F73B00C55A1   \n",
       "4        3450999CEDBFE595CD0DDE4A287CF500  C6AD4B84092CCBB3E3729F73B00C55A1   \n",
       "...                                   ...                               ...   \n",
       "1579824  E736D2D4470658513B56DED9412A29EC  2868B842B46F754C088D89E130F89585   \n",
       "1579825  E736D2D4470658513B56DED9412A29EC  2868B842B46F754C088D89E130F89585   \n",
       "1579826  524574517B4F0E01D0905D34DDDA3F3C  C6AD4B84092CCBB3E3729F73B00C55A1   \n",
       "1579827  524574517B4F0E01D0905D34DDDA3F3C  C6AD4B84092CCBB3E3729F73B00C55A1   \n",
       "1579828  524574517B4F0E01D0905D34DDDA3F3C  C6AD4B84092CCBB3E3729F73B00C55A1   \n",
       "\n",
       "                                    brand country  region_code  \\\n",
       "0        550710FDA7CDAABA81268E683325B534  РОССИЯ           22   \n",
       "1        550710FDA7CDAABA81268E683325B534  РОССИЯ           22   \n",
       "2        550710FDA7CDAABA81268E683325B534  РОССИЯ           22   \n",
       "3        550710FDA7CDAABA81268E683325B534  РОССИЯ           22   \n",
       "4        550710FDA7CDAABA81268E683325B534  РОССИЯ           22   \n",
       "...                                   ...     ...          ...   \n",
       "1579824  550710FDA7CDAABA81268E683325B534  РОССИЯ           50   \n",
       "1579825  550710FDA7CDAABA81268E683325B534  РОССИЯ           50   \n",
       "1579826  550710FDA7CDAABA81268E683325B534  РОССИЯ           50   \n",
       "1579827  550710FDA7CDAABA81268E683325B534  РОССИЯ           50   \n",
       "1579828  550710FDA7CDAABA81268E683325B534  РОССИЯ           50   \n",
       "\n",
       "         region_code_rec_inn  \n",
       "0                       54.0  \n",
       "1                       54.0  \n",
       "2                       54.0  \n",
       "3                       54.0  \n",
       "4                       54.0  \n",
       "...                      ...  \n",
       "1579824                 76.0  \n",
       "1579825                 76.0  \n",
       "1579826                 76.0  \n",
       "1579827                 76.0  \n",
       "1579828                 76.0  \n",
       "\n",
       "[1579829 rows x 11 columns]"
      ]
     },
     "execution_count": 19,
     "metadata": {},
     "output_type": "execute_result"
    }
   ],
   "source": [
    "factory_move.set_index('gtin').join(products_df.set_index('gtin')[['product_name', 'product_short_name', 'brand', 'country']]) \\\n",
    ".set_index('sender_inn').join(members_df.set_index('inn')).reset_index().rename(columns={'index':'sender_inn'}).set_index('receiver_inn').join(members_df.set_index('inn'), rsuffix='_rec_inn').reset_index().rename(columns={'index':'receiver_inn'})"
   ]
  },
  {
   "cell_type": "code",
   "execution_count": null,
   "metadata": {},
   "outputs": [],
   "source": [
    "factory_out_joined = factory_out_joined.drop_duplicates()\n",
    "factory_move_joined = factory_move_joined.drop_duplicates()"
   ]
  },
  {
   "cell_type": "code",
   "execution_count": 246,
   "metadata": {
    "tags": []
   },
   "outputs": [],
   "source": [
    "# factory_out.join(factory_move, lsuffix='_m', how='left').join(factory_in, lsuffix='_m', how='left').join() # .info()"
   ]
  },
  {
   "cell_type": "markdown",
   "metadata": {
    "jp-MarkdownHeadingCollapsed": true,
    "tags": []
   },
   "source": [
    "#  дистриб перемещения"
   ]
  },
  {
   "cell_type": "code",
   "execution_count": 98,
   "metadata": {
    "tags": []
   },
   "outputs": [
    {
     "data": {
      "text/html": [
       "<div>\n",
       "<style scoped>\n",
       "    .dataframe tbody tr th:only-of-type {\n",
       "        vertical-align: middle;\n",
       "    }\n",
       "\n",
       "    .dataframe tbody tr th {\n",
       "        vertical-align: top;\n",
       "    }\n",
       "\n",
       "    .dataframe thead th {\n",
       "        text-align: right;\n",
       "    }\n",
       "</style>\n",
       "<table border=\"1\" class=\"dataframe\">\n",
       "  <thead>\n",
       "    <tr style=\"text-align: right;\">\n",
       "      <th></th>\n",
       "      <th>dt</th>\n",
       "      <th>gtin</th>\n",
       "      <th>prid</th>\n",
       "      <th>sender_inn</th>\n",
       "      <th>receiver_inn</th>\n",
       "      <th>cnt_moved</th>\n",
       "    </tr>\n",
       "  </thead>\n",
       "  <tbody>\n",
       "    <tr>\n",
       "      <th>0</th>\n",
       "      <td>2021-11-22</td>\n",
       "      <td>7343A8B396B8E0383D62495D625C1C59</td>\n",
       "      <td>7D1B71037D27D5597BEA1D5077663541</td>\n",
       "      <td>7D1B71037D27D5597BEA1D5077663541</td>\n",
       "      <td>6B8E111AB5B5C556C0AEA292ACA4D88B</td>\n",
       "      <td>107</td>\n",
       "    </tr>\n",
       "    <tr>\n",
       "      <th>1</th>\n",
       "      <td>2021-12-02</td>\n",
       "      <td>9993469FE80106ECB60FDB32AABC4252</td>\n",
       "      <td>7D1B71037D27D5597BEA1D5077663541</td>\n",
       "      <td>7D1B71037D27D5597BEA1D5077663541</td>\n",
       "      <td>DD3924C3F35CFC1D7AD5006C710DB029</td>\n",
       "      <td>4</td>\n",
       "    </tr>\n",
       "    <tr>\n",
       "      <th>2</th>\n",
       "      <td>2021-12-02</td>\n",
       "      <td>0CB732010A7967675A7B20604337636A</td>\n",
       "      <td>7D1B71037D27D5597BEA1D5077663541</td>\n",
       "      <td>7D1B71037D27D5597BEA1D5077663541</td>\n",
       "      <td>DD3924C3F35CFC1D7AD5006C710DB029</td>\n",
       "      <td>4</td>\n",
       "    </tr>\n",
       "    <tr>\n",
       "      <th>3</th>\n",
       "      <td>2021-12-02</td>\n",
       "      <td>50EDC8DB9E9E462EE0596D1019D0BD37</td>\n",
       "      <td>7D1B71037D27D5597BEA1D5077663541</td>\n",
       "      <td>7D1B71037D27D5597BEA1D5077663541</td>\n",
       "      <td>DD3924C3F35CFC1D7AD5006C710DB029</td>\n",
       "      <td>2</td>\n",
       "    </tr>\n",
       "    <tr>\n",
       "      <th>4</th>\n",
       "      <td>2021-12-02</td>\n",
       "      <td>428580681C21CCC2DA098F10BC1D5B49</td>\n",
       "      <td>7D1B71037D27D5597BEA1D5077663541</td>\n",
       "      <td>7D1B71037D27D5597BEA1D5077663541</td>\n",
       "      <td>DD3924C3F35CFC1D7AD5006C710DB029</td>\n",
       "      <td>4</td>\n",
       "    </tr>\n",
       "  </tbody>\n",
       "</table>\n",
       "</div>"
      ],
      "text/plain": [
       "           dt                              gtin  \\\n",
       "0  2021-11-22  7343A8B396B8E0383D62495D625C1C59   \n",
       "1  2021-12-02  9993469FE80106ECB60FDB32AABC4252   \n",
       "2  2021-12-02  0CB732010A7967675A7B20604337636A   \n",
       "3  2021-12-02  50EDC8DB9E9E462EE0596D1019D0BD37   \n",
       "4  2021-12-02  428580681C21CCC2DA098F10BC1D5B49   \n",
       "\n",
       "                               prid                        sender_inn  \\\n",
       "0  7D1B71037D27D5597BEA1D5077663541  7D1B71037D27D5597BEA1D5077663541   \n",
       "1  7D1B71037D27D5597BEA1D5077663541  7D1B71037D27D5597BEA1D5077663541   \n",
       "2  7D1B71037D27D5597BEA1D5077663541  7D1B71037D27D5597BEA1D5077663541   \n",
       "3  7D1B71037D27D5597BEA1D5077663541  7D1B71037D27D5597BEA1D5077663541   \n",
       "4  7D1B71037D27D5597BEA1D5077663541  7D1B71037D27D5597BEA1D5077663541   \n",
       "\n",
       "                       receiver_inn  cnt_moved  \n",
       "0  6B8E111AB5B5C556C0AEA292ACA4D88B        107  \n",
       "1  DD3924C3F35CFC1D7AD5006C710DB029          4  \n",
       "2  DD3924C3F35CFC1D7AD5006C710DB029          4  \n",
       "3  DD3924C3F35CFC1D7AD5006C710DB029          2  \n",
       "4  DD3924C3F35CFC1D7AD5006C710DB029          4  "
      ]
     },
     "execution_count": 98,
     "metadata": {},
     "output_type": "execute_result"
    }
   ],
   "source": [
    "distributor_move = pd.read_csv('data/Дополнительные датасеты для продукта для дистрибьютера/Данные о перемещениях товаров между участниками с 2021-11-22 по 2022-11-21 один оптовик.csv')\n",
    "distributor_move.head(5)"
   ]
  },
  {
   "cell_type": "code",
   "execution_count": 145,
   "metadata": {
    "tags": []
   },
   "outputs": [
    {
     "name": "stdout",
     "output_type": "stream",
     "text": [
      "<class 'pandas.core.frame.DataFrame'>\n",
      "RangeIndex: 19422 entries, 0 to 19421\n",
      "Data columns (total 6 columns):\n",
      " #   Column        Non-Null Count  Dtype \n",
      "---  ------        --------------  ----- \n",
      " 0   dt            19422 non-null  object\n",
      " 1   gtin          19422 non-null  object\n",
      " 2   prid          19422 non-null  object\n",
      " 3   sender_inn    19422 non-null  object\n",
      " 4   receiver_inn  19422 non-null  object\n",
      " 5   cnt_moved     19422 non-null  int64 \n",
      "dtypes: int64(1), object(5)\n",
      "memory usage: 910.5+ KB\n"
     ]
    }
   ],
   "source": [
    "distributor_move.info()"
   ]
  },
  {
   "cell_type": "code",
   "execution_count": 100,
   "metadata": {
    "tags": []
   },
   "outputs": [
    {
     "data": {
      "text/plain": [
       "7281136266A60B8BB097E57F2E357C99    235\n",
       "476D3708FBD4E6B64F81D10BC28EA694    234\n",
       "1AF3D5B9E053CBDF908FB967FE3543AA    233\n",
       "C0D57D3B6C262FEFAA76EB74D6EDA3E9    229\n",
       "0CB732010A7967675A7B20604337636A    226\n",
       "                                   ... \n",
       "B816A1D9CA9CE6DED27A5CD222E55EB1      1\n",
       "EEC9C52C3FEB8E79A730D73C1571C23F      1\n",
       "F4F97EDC795B0D1D4D94F57BEEDBDB29      1\n",
       "81F08A3C0297A76BF84A53B5B7338331      1\n",
       "B077A5035A96D254E740E148CD84B809      1\n",
       "Name: gtin, Length: 415, dtype: int64"
      ]
     },
     "execution_count": 100,
     "metadata": {},
     "output_type": "execute_result"
    }
   ],
   "source": [
    "distributor_move['gtin'].value_counts()"
   ]
  },
  {
   "cell_type": "code",
   "execution_count": 101,
   "metadata": {
    "tags": []
   },
   "outputs": [
    {
     "data": {
      "text/plain": [
       "7D1B71037D27D5597BEA1D5077663541    19421\n",
       "CD2480BB07FCE7AB6AC3606F454C3B1D        1\n",
       "Name: prid, dtype: int64"
      ]
     },
     "execution_count": 101,
     "metadata": {},
     "output_type": "execute_result"
    }
   ],
   "source": [
    "distributor_move['prid'].value_counts()"
   ]
  },
  {
   "cell_type": "code",
   "execution_count": 102,
   "metadata": {
    "tags": []
   },
   "outputs": [
    {
     "data": {
      "text/plain": [
       "7D1B71037D27D5597BEA1D5077663541    19422\n",
       "Name: sender_inn, dtype: int64"
      ]
     },
     "execution_count": 102,
     "metadata": {},
     "output_type": "execute_result"
    }
   ],
   "source": [
    "distributor_move['sender_inn'].value_counts()"
   ]
  },
  {
   "cell_type": "code",
   "execution_count": 103,
   "metadata": {
    "tags": []
   },
   "outputs": [
    {
     "data": {
      "text/plain": [
       "2        1078\n",
       "3         984\n",
       "1         925\n",
       "6         759\n",
       "4         577\n",
       "         ... \n",
       "7548        1\n",
       "3586        1\n",
       "11046       1\n",
       "1995        1\n",
       "4028        1\n",
       "Name: cnt_moved, Length: 1196, dtype: int64"
      ]
     },
     "execution_count": 103,
     "metadata": {},
     "output_type": "execute_result"
    }
   ],
   "source": [
    "distributor_move['cnt_moved'].value_counts()"
   ]
  },
  {
   "cell_type": "code",
   "execution_count": 109,
   "metadata": {
    "tags": []
   },
   "outputs": [
    {
     "data": {
      "text/plain": [
       "array(['7D1B71037D27D5597BEA1D5077663541'], dtype=object)"
      ]
     },
     "execution_count": 109,
     "metadata": {},
     "output_type": "execute_result"
    }
   ],
   "source": [
    "# distributor_move['sender_inn'].fillna('0').unique()"
   ]
  },
  {
   "cell_type": "code",
   "execution_count": null,
   "metadata": {},
   "outputs": [],
   "source": [
    "# distributor_move['sender_inn'].fillna('0').unique()"
   ]
  },
  {
   "cell_type": "code",
   "execution_count": 110,
   "metadata": {
    "tags": []
   },
   "outputs": [
    {
     "data": {
      "text/plain": [
       "array(['7D1B71037D27D5597BEA1D5077663541',\n",
       "       'CD2480BB07FCE7AB6AC3606F454C3B1D'], dtype=object)"
      ]
     },
     "execution_count": 110,
     "metadata": {},
     "output_type": "execute_result"
    }
   ],
   "source": [
    "# distributor_move['prid'].fillna('0').unique()"
   ]
  },
  {
   "cell_type": "code",
   "execution_count": 195,
   "metadata": {
    "tags": []
   },
   "outputs": [
    {
     "data": {
      "text/plain": [
       "6B8E111AB5B5C556C0AEA292ACA4D88B    67\n",
       "89F1BFD156A04E3D9B28C7FD6BED4F2F    33\n",
       "CD2480BB07FCE7AB6AC3606F454C3B1D    27\n",
       "0FA5EF2B2A8395966B26C672D6D0767D     2\n",
       "Name: receiver_inn, dtype: int64"
      ]
     },
     "execution_count": 195,
     "metadata": {},
     "output_type": "execute_result"
    }
   ],
   "source": [
    "distributor_move.query(\"gtin == '7343A8B396B8E0383D62495D625C1C59'\")['receiver_inn'].value_counts()"
   ]
  },
  {
   "cell_type": "code",
   "execution_count": 201,
   "metadata": {
    "tags": []
   },
   "outputs": [],
   "source": [
    "distributor_move.query(\"sender_inn == 'receiver_inn'\");"
   ]
  },
  {
   "cell_type": "code",
   "execution_count": 199,
   "metadata": {
    "tags": []
   },
   "outputs": [
    {
     "data": {
      "text/plain": [
       "array(['7D1B71037D27D5597BEA1D5077663541',\n",
       "       'CD2480BB07FCE7AB6AC3606F454C3B1D'], dtype=object)"
      ]
     },
     "execution_count": 199,
     "metadata": {},
     "output_type": "execute_result"
    }
   ],
   "source": [
    "distributor_move['prid'].unique()"
   ]
  },
  {
   "cell_type": "code",
   "execution_count": null,
   "metadata": {},
   "outputs": [],
   "source": []
  },
  {
   "cell_type": "markdown",
   "metadata": {},
   "source": [
    "# Other"
   ]
  },
  {
   "cell_type": "code",
   "execution_count": 24,
   "metadata": {
    "tags": []
   },
   "outputs": [
    {
     "data": {
      "text/plain": [
       "0         118124\n",
       "1         115936\n",
       "2         169961\n",
       "3         263765\n",
       "4         132356\n",
       "           ...  \n",
       "393462    280253\n",
       "393463    268318\n",
       "393464     18244\n",
       "393465    207074\n",
       "393466    172830\n",
       "Length: 393467, dtype: int32"
      ]
     },
     "execution_count": 24,
     "metadata": {},
     "output_type": "execute_result"
    }
   ],
   "source": [
    "# products_df['product_name'].astype('category').cat.codes"
   ]
  },
  {
   "cell_type": "code",
   "execution_count": null,
   "metadata": {},
   "outputs": [],
   "source": []
  }
 ],
 "metadata": {
  "kernelspec": {
   "display_name": "Python 3",
   "language": "python",
   "name": "python3"
  },
  "language_info": {
   "codemirror_mode": {
    "name": "ipython",
    "version": 3
   },
   "file_extension": ".py",
   "mimetype": "text/x-python",
   "name": "python",
   "nbconvert_exporter": "python",
   "pygments_lexer": "ipython3",
   "version": "3.6.8"
  }
 },
 "nbformat": 4,
 "nbformat_minor": 5
}
