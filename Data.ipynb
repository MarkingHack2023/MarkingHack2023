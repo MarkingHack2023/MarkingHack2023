{
 "cells": [
  {
   "cell_type": "code",
   "execution_count": 43,
   "metadata": {},
   "outputs": [
    {
     "name": "stdout",
     "output_type": "stream",
     "text": [
      "3.9.2 (tags/v3.9.2:1a79785, Feb 19 2021, 13:44:55) [MSC v.1928 64 bit (AMD64)]\n"
     ]
    }
   ],
   "source": [
    "import pandas as pd\n",
    "import numpy as np\n",
    "import matplotlib.pyplot as plt\n",
    "import seaborn as sns\n",
    "# import sqlite3 as db\n",
    "import sys\n",
    "import json\n",
    "print(sys.version)"
   ]
  },
  {
   "cell_type": "markdown",
   "metadata": {},
   "source": [
    "Справочники"
   ]
  },
  {
   "cell_type": "code",
   "execution_count": 44,
   "metadata": {
    "tags": []
   },
   "outputs": [],
   "source": [
    "members_df = pd.read_csv('data/Справочник участников оборота товаров.csv')\n",
    "\n",
    "points_df = pd.read_csv('data/Справочник торговых точек.csv')\n",
    "\n",
    "points_df.loc[points_df['region_code'] == 51, 'city_with_type'] = \"Мурманская\"\n",
    "points_df.loc[points_df['region_code'] == 77, 'city_with_type'] = \"Москва\"\n",
    "points_df.loc[points_df['region_code'] == 50, 'city_with_type'] = \"Мо\"\n",
    "points_df.loc[points_df['region_code'] == 78, 'city_with_type'] = \"Спб\"\n",
    "points_df['postal_code'] = points_df['postal_code'].fillna(0).astype(int)\n",
    "\n",
    "products_df = pd.read_csv('data/Справочник продукции.csv')\n",
    "\n",
    "products_df['country'] = products_df['country'].fillna('0')\n",
    "products_df['volume'] = products_df['volume'].fillna(1)\n",
    "products_df.loc[products_df['volume'] == \"НЕ КЛАССИФИЦИРОВАНО\", 'volume'] = 1"
   ]
  },
  {
   "cell_type": "code",
   "execution_count": 45,
   "metadata": {
    "tags": []
   },
   "outputs": [
    {
     "data": {
      "text/plain": [
       "11274"
      ]
     },
     "execution_count": 45,
     "metadata": {},
     "output_type": "execute_result"
    }
   ],
   "source": [
    "inn_points_region_code_equal = points_df.set_index('inn').join(members_df.set_index('inn')['region_code'], rsuffix='_inn').query(\"region_code == region_code_inn\").index.unique()\n",
    "\n",
    "inn_points_region_code_NOT_equal = set(members_df['inn'].unique()) - set(inn_points_region_code_equal)\n",
    "inn_points_region_code_NOT_equal = np.array(list(inn_points_region_code_NOT_equal))\n",
    "inn_points_region_code_NOT_equal.size"
   ]
  },
  {
   "cell_type": "markdown",
   "metadata": {},
   "source": [
    "Агрегированные"
   ]
  },
  {
   "cell_type": "code",
   "execution_count": 46,
   "metadata": {
    "tags": []
   },
   "outputs": [],
   "source": [
    "movement_df = pd.read_csv('data/Агрегированные данные о перемещениях товаров между участниками с 2021-11-22 по 2022-11-21.csv')\n",
    "out_df = pd.read_csv('data/Агрегированные данные о выводе товаров из оборота с 2021-11-22 по 2022-11-21.csv')\n",
    "in_df = pd.read_csv('data/Агрегированные данные о вводе товаров в оборот с 2021-11-22 по 2022-11-21.csv')"
   ]
  },
  {
   "cell_type": "markdown",
   "metadata": {},
   "source": [
    "Производитель"
   ]
  },
  {
   "cell_type": "code",
   "execution_count": 47,
   "metadata": {
    "tags": []
   },
   "outputs": [],
   "source": [
    "factory_in = pd.read_csv('data/Дополнительные датасеты для продукта для производителя/Данные о вводе товаров в оборот с 2021-11-22 по 2022-11-21 один производитель.csv')\n",
    "factory_out = pd.read_csv('data/Дополнительные датасеты для продукта для производителя/Данные о выводе товаров из оборота с 2021-11-22 по 2022-11-21 один производитель.csv')\n",
    "factory_move = pd.read_csv('data/Дополнительные датасеты для продукта для производителя/Данные о перемещениях товаров между участниками с 2021-11-22 по 2022-11-21 один производитель.csv')"
   ]
  },
  {
   "cell_type": "markdown",
   "metadata": {},
   "source": [
    "Фильтрация \n",
    "\n",
    "Оставляем только продажи конечному"
   ]
  },
  {
   "cell_type": "code",
   "execution_count": 48,
   "metadata": {
    "tags": []
   },
   "outputs": [],
   "source": [
    "factory_out = factory_out.query('type_operation == \"Продажа конечному потребителю в точке продаж\"')"
   ]
  },
  {
   "cell_type": "markdown",
   "metadata": {},
   "source": [
    "Джойненные"
   ]
  },
  {
   "cell_type": "code",
   "execution_count": 49,
   "metadata": {},
   "outputs": [],
   "source": [
    "factory_out_joined = pd.read_csv('data_joined/factory_out_joined.csv')\n",
    "factory_move_joined = pd.read_csv('data_joined/factory_move_joined.csv')"
   ]
  },
  {
   "cell_type": "code",
   "execution_count": 50,
   "metadata": {
    "tags": []
   },
   "outputs": [],
   "source": [
    "factory_out_joined['date'] = pd.to_datetime(factory_out_joined['date'])\n",
    "factory_move_joined['date'] = pd.to_datetime(factory_move_joined['date'])\n",
    "\n",
    "factory_out_joined['quarter'] = factory_out_joined['date'].dt.quarter\n",
    "factory_move_joined['quarter'] = factory_move_joined['date'].dt.quarter"
   ]
  },
  {
   "cell_type": "markdown",
   "metadata": {},
   "source": [
    "Данные с запроса"
   ]
  },
  {
   "cell_type": "code",
   "execution_count": 9,
   "metadata": {},
   "outputs": [],
   "source": [
    "#  9199AB529CF62D4BDB7E8B1D7459001D\n",
    "# 2868B842B46F754C088D89E130F89585\n",
    "# C6AD4B84092CCBB3E3729F73B00C55A1\n",
    "# 75E0EAF2E5062A080CA0FDBBB8140627\n",
    "# 2169F5521C7AE342374A8298DBCA26FD\n",
    "#MY_SELECTED_PRODUCT = \"9199AB529CF62D4BDB7E8B1D7459001D\" "
   ]
  },
  {
   "cell_type": "code",
   "execution_count": 51,
   "metadata": {},
   "outputs": [],
   "source": [
    "PRODUCT_SHORT = \"9199AB529CF62D4BDB7E8B1D7459001D\"\n",
    "REGION_CODE = 77\n",
    "# POSTAL_CODE = 0 \n",
    "# TIME_H = 0 #\n",
    "GROUP_PERIOD =  'week' # 'dayy' 'month' 'quarter'"
   ]
  },
  {
   "cell_type": "markdown",
   "metadata": {},
   "source": [
    "Перемещения"
   ]
  },
  {
   "cell_type": "code",
   "execution_count": 52,
   "metadata": {},
   "outputs": [],
   "source": [
    "one_prod_region = factory_move_joined.query(f\"product_short_name == '{PRODUCT_SHORT}'\").query(f\"region_code_rec_inn == {REGION_CODE}\")"
   ]
  },
  {
   "cell_type": "code",
   "execution_count": 12,
   "metadata": {},
   "outputs": [],
   "source": [
    "# Фильтрация ИНН на критерий нахождения в points_df\n",
    "receiver_inns = factory_move_joined.query(f\"product_short_name == '{PRODUCT_SHORT}'\").query(f\"region_code_rec_inn == {REGION_CODE}\")['receiver_inn'].unique()\n",
    "list_points_inn = set(receiver_inns).intersection(points_df['inn'].unique())"
   ]
  },
  {
   "cell_type": "code",
   "execution_count": 53,
   "metadata": {
    "tags": []
   },
   "outputs": [
    {
     "data": {
      "text/plain": [
       "week\n",
       "1    475\n",
       "2    842\n",
       "Name: cnt_moved, dtype: int64"
      ]
     },
     "execution_count": 53,
     "metadata": {},
     "output_type": "execute_result"
    }
   ],
   "source": [
    "# factory_move_joined.query(\"product_short_name == '9199AB529CF62D4BDB7E8B1D7459001D'\").query(f\"region_code_rec_inn == {REGION_CODE}\").groupby(['receiver_inn']).count()['sender_inn'].sort_values(ascending=False)\n",
    "\n",
    "one_prod_region_filtered = one_prod_region[one_prod_region['receiver_inn'].isin(list_points_inn)]\n",
    "one_prod_region_filtered = one_prod_region_filtered.query(\"receiver_inn != 'DA62EC79660CF21AC37A260DA6F642C4'\")\n",
    "\n",
    "one_prod_region_filtered_moving = one_prod_region_filtered.groupby([GROUP_PERIOD])['cnt_moved'].sum() # Группировка\n",
    "one_prod_region_filtered_moving.head(2)"
   ]
  },
  {
   "cell_type": "markdown",
   "metadata": {},
   "source": [
    "Выбытия"
   ]
  },
  {
   "cell_type": "code",
   "execution_count": 54,
   "metadata": {},
   "outputs": [
    {
     "data": {
      "text/plain": [
       "week\n",
       "1    1361\n",
       "2     550\n",
       "Name: cnt, dtype: int64"
      ]
     },
     "execution_count": 54,
     "metadata": {},
     "output_type": "execute_result"
    }
   ],
   "source": [
    "one_good_type_region = factory_out_joined.query(f\"product_short_name == '{PRODUCT_SHORT}'\").query(f\"region_code == {REGION_CODE}\")\n",
    "\n",
    "one_good_type_region_sum = one_good_type_region.groupby(['week'])['cnt'].sum() # Группировка\n",
    "one_good_type_region_sum.head(2)"
   ]
  },
  {
   "cell_type": "code",
   "execution_count": 55,
   "metadata": {
    "tags": []
   },
   "outputs": [
    {
     "data": {
      "text/plain": [
       "(342302, 19)"
      ]
     },
     "execution_count": 55,
     "metadata": {},
     "output_type": "execute_result"
    }
   ],
   "source": [
    "# factory_move_joined.shape"
   ]
  },
  {
   "cell_type": "markdown",
   "metadata": {
    "tags": []
   },
   "source": [
    "Джойним чтобы достать postal code"
   ]
  },
  {
   "cell_type": "code",
   "execution_count": null,
   "metadata": {
    "tags": []
   },
   "outputs": [],
   "source": [
    "# factory_move_joined.set_index('receiver_inn').join(points_df.drop_duplicates().set_index('inn')['postal_code'], how='inner')\\ # consider left\n",
    "# .reset_index().rename(columns={'index':'receiver_inn'}).drop(columns=['Unnamed: 0'])\\\n",
    "# .drop_duplicates(subset=list(factory_move_joined.columns)[1:])"
   ]
  },
  {
   "cell_type": "markdown",
   "metadata": {},
   "source": [
    "Считаем"
   ]
  },
  {
   "cell_type": "code",
   "execution_count": 17,
   "metadata": {
    "tags": []
   },
   "outputs": [],
   "source": [
    "# one_prod_region_filtered_moving - one_good_type_region_sum"
   ]
  },
  {
   "cell_type": "code",
   "execution_count": 70,
   "metadata": {
    "tags": []
   },
   "outputs": [],
   "source": [
    "# cumsum\n",
    "df_total = pd.DataFrame({'move': one_prod_region_filtered_moving, 'out': one_good_type_region_sum})\n",
    "df_total['move_out'] = df_total['move'] - df_total['out']\n",
    "\n",
    "df_total['move_cumsum'] = df_total['move'].cumsum()\n",
    "df_total['out_cumsum'] = df_total['out'].cumsum()\n",
    "df_total['cum_sum_diff'] = df_total['move_cumsum'] - df_total['out_cumsum']"
   ]
  },
  {
   "cell_type": "code",
   "execution_count": 71,
   "metadata": {
    "tags": []
   },
   "outputs": [],
   "source": [
    "df_total = df_total[['move', 'out', 'cum_sum_diff']]"
   ]
  },
  {
   "cell_type": "code",
   "execution_count": 75,
   "metadata": {
    "tags": []
   },
   "outputs": [],
   "source": [
    "df_total.rename(columns={'move':'прибытие', 'out': 'выбытие', 'cum_sum_diff': 'остаток'}).to_csv('df_tolal_prod_reg.csv')"
   ]
  },
  {
   "cell_type": "code",
   "execution_count": 20,
   "metadata": {
    "tags": []
   },
   "outputs": [],
   "source": [
    "# pd.date_range('2021-11-22', '2022-11-21', freq='D').week\n",
    "\n",
    "# import datetime\n",
    "# d = f\"{2022}-W{6}\"\n",
    "# r = datetime.datetime.strptime(d + '-1', \"%Y-W%W-%w\")\n",
    "# print(str(r).split(' ')[0])"
   ]
  },
  {
   "cell_type": "code",
   "execution_count": 21,
   "metadata": {},
   "outputs": [],
   "source": [
    "week_to_dt_pd = factory_move_joined.sort_values(by='dt').groupby(['week']).first().sort_values(by='dt')['dt'].reset_index()"
   ]
  },
  {
   "cell_type": "code",
   "execution_count": 22,
   "metadata": {
    "tags": []
   },
   "outputs": [
    {
     "name": "stderr",
     "output_type": "stream",
     "text": [
      "C:\\Users\\Dima\\AppData\\Local\\Temp\\ipykernel_12308\\3114958978.py:1: FutureWarning: weekofyear and week have been deprecated, please use DatetimeIndex.isocalendar().week instead, which returns a Series. To exactly reproduce the behavior of week and weekofyear and return an Index, you may call pd.Int64Index(idx.isocalendar().week)\n",
      "  week_nums = np.unique(pd.date_range('2021-11-22', '2022-11-21', freq='D').week.values)\n"
     ]
    }
   ],
   "source": [
    "week_nums = np.unique(pd.date_range('2021-11-22', '2022-11-21', freq='D').week.values)"
   ]
  },
  {
   "cell_type": "markdown",
   "metadata": {},
   "source": [
    "Вывод в json"
   ]
  },
  {
   "cell_type": "markdown",
   "metadata": {},
   "source": [
    "{\n",
    "      \"date\": \"2022-01-02\",\n",
    "      \"stock\": 450,\n",
    "      \"green_estimate\": 300,\n",
    "      \"yellow_estimate\": 100,\n",
    "      \"red_estimate\": 50\n",
    "    },"
   ]
  },
  {
   "cell_type": "markdown",
   "metadata": {},
   "source": [
    "Ниже пример"
   ]
  },
  {
   "cell_type": "code",
   "execution_count": 76,
   "metadata": {
    "tags": []
   },
   "outputs": [],
   "source": [
    "# for i, row in df_total.iterrows():\n",
    "#     print(row['cum_sum_diff'])"
   ]
  },
  {
   "cell_type": "code",
   "execution_count": 24,
   "metadata": {
    "tags": []
   },
   "outputs": [],
   "source": [
    "# import random\n",
    "\n",
    "# obj_json = {}\n",
    "\n",
    "# date_idx = 1\n",
    "# obj_arr = []\n",
    "# for i in range(0, 30):\n",
    "#     obj_one = {}\n",
    "#     obj_one['date'] = f\"2022-01-{date_idx}\"\n",
    "#     obj_one['stock'] = 450\n",
    "#     obj_one['green_estimate'] = 300 + random.randint(50, 100)\n",
    "#     obj_one['yellow_estimate'] = 100 + random.randint(20, 50)\n",
    "#     obj_one['red_estimate'] = 50 + random.randint(20, 35)\n",
    "#     obj_arr.append(obj_one)\n",
    "#     date_idx +=1\n",
    "    \n",
    "# obj_json['message'] = obj_arr\n",
    "\n",
    "# with open(\"./example.json\", \"w\") as json_file:\n",
    "#     json.dump(obj_json, json_file)"
   ]
  },
  {
   "cell_type": "code",
   "execution_count": null,
   "metadata": {},
   "outputs": [],
   "source": []
  }
 ],
 "metadata": {
  "kernelspec": {
   "display_name": "Python 39",
   "language": "python",
   "name": "python39"
  },
  "language_info": {
   "codemirror_mode": {
    "name": "ipython",
    "version": 3
   },
   "file_extension": ".py",
   "mimetype": "text/x-python",
   "name": "python",
   "nbconvert_exporter": "python",
   "pygments_lexer": "ipython3",
   "version": "3.9.2"
  }
 },
 "nbformat": 4,
 "nbformat_minor": 4
}
